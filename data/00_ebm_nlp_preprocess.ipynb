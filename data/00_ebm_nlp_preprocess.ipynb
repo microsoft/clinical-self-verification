{
 "cells": [
  {
   "cell_type": "code",
   "execution_count": 54,
   "metadata": {},
   "outputs": [
    {
     "name": "stdout",
     "output_type": "stream",
     "text": [
      "The autoreload extension is already loaded. To reload it, use:\n",
      "  %reload_ext autoreload\n"
     ]
    }
   ],
   "source": [
    "%load_ext autoreload\n",
    "%autoreload 2\n",
    "import os\n",
    "import matplotlib.pyplot as plt\n",
    "import seaborn as sns\n",
    "from os.path import join\n",
    "from tqdm import tqdm\n",
    "import pandas as pd\n",
    "import imodelsx.process_results\n",
    "import sys\n",
    "import datasets\n",
    "import numpy as np\n",
    "from copy import deepcopy\n",
    "import clin.eval\n",
    "import clin.modules.prune\n",
    "import clin.modules.evidence\n",
    "import clin.modules.omission\n",
    "import clin.modules.status\n",
    "import clin.llm\n",
    "import clin.parse\n",
    "from collections import defaultdict\n",
    "import openai\n",
    "from typing import List, Tuple\n",
    "openai.api_key_path = '/home/chansingh/.OPENAI_KEY'"
   ]
  },
  {
   "cell_type": "code",
   "execution_count": 55,
   "metadata": {},
   "outputs": [],
   "source": [
    "# download and extract data\n",
    "# !wget https://github.com/bepnye/EBM-NLP/raw/master/ebm_nlp_2_00.tar.gz\n",
    "# !tar -xvf ebm_nlp_2_00.tar.gz"
   ]
  },
  {
   "cell_type": "code",
   "execution_count": 56,
   "metadata": {},
   "outputs": [],
   "source": [
    "import os\n",
    "import os.path\n",
    "from os.path import join"
   ]
  },
  {
   "cell_type": "code",
   "execution_count": 57,
   "metadata": {},
   "outputs": [],
   "source": [
    "DATA_DIR = 'ebm_nlp_2_00'\n",
    "DOC_DIR = join(DATA_DIR, 'documents')\n",
    "ANNOT_DIR = join(DATA_DIR, 'annotations', 'aggregated', 'starting_spans', 'interventions', 'test', 'gold')"
   ]
  },
  {
   "cell_type": "code",
   "execution_count": 58,
   "metadata": {},
   "outputs": [],
   "source": [
    "annot_fnames = os.listdir(ANNOT_DIR)\n",
    "doc_ids_gold = [fname.split('.')[0] for fname in annot_fnames]\n",
    "doc_names = sorted(os.listdir(join(DATA_DIR, 'documents')))\n",
    "doc_ids = list(set([doc_name.split('.')[0] for doc_name in doc_names]))\n",
    "# find doc_ids that are in doc_ids_gold\n",
    "doc_ids = [doc_id for doc_id in doc_ids if doc_id in doc_ids_gold]"
   ]
  },
  {
   "cell_type": "code",
   "execution_count": 59,
   "metadata": {},
   "outputs": [],
   "source": [
    "i = 0\n",
    "doc = open(join(DOC_DIR, doc_ids[i] + '.txt'), 'r').read()\n",
    "toks = open(join(DOC_DIR, doc_ids[i] + '.tokens'), 'r').read()\n",
    "annot = open(join(ANNOT_DIR, doc_ids[i] + '.AGGREGATED.ann'), 'r').read()"
   ]
  },
  {
   "cell_type": "code",
   "execution_count": 61,
   "metadata": {},
   "outputs": [
    {
     "name": "stdout",
     "output_type": "stream",
     "text": [
      "Effects of mild physical exercise on serum lipoproteins and metabolites of arachidonic acid: a controlled randomised trial in middle aged men.\n",
      "\n",
      "To study the effects of physical exercise on biochemical risk factors for ischaemic heart disease 31 healthy middle aged men undertook regular physical exercise for two months and 29 served as controls in a randomised trial. In the men taking regular exercise serum cholesterol concentrations increased 26% more in the high density lipoprotein subfraction two (HDL2) and decreased 31% more in the subfraction three (HDL3) and 9% more in the low density lipoprotein fraction than in the control group. A tendency towards increased plasma 6-keto-prostaglandin F1 alpha concentration and decreased serum thromboxane B2 concentration was found during the period of regular exercise, but prostaglandin E2 concentrations remained unchanged. The increase in plasma 6-keto-prostaglandin F1 alpha concentration was associated with an increase in serum HDL2 cholesterol concentration in the group taking regular exercise. Our data suggest that mild regular physical exercise favourably influences cholesterol distribution in serum lipoproteins in healthy middle aged men and may have beneficial effects on circulating metabolites of arachidonic acid.\n",
      "\n",
      "\n",
      "[0 0 1 1 1 0 0 0 0 0 0 0 0 0 0 0 0 0 0 0 0 0 0 0 0 0 0 0 1 1 0 0 0 0 0 0 0\n",
      " 0 0 0 0 0 0 0 1 1 1 0 0 0 0 0 0 0 0 0 0 0 0 0 0 0 0 0 1 1 0 0 0 0 0 0 0 0\n",
      " 0 0 0 0 0 0 0 0 0 0 0 0 0 0 0 0 0 0 0 0 0 0 0 0 0 0 0 0 0 0 0 0 0 0 0 0 0\n",
      " 0 0 0 0 0 0 0 0 0 0 0 0 0 0 0 0 0 0 0 0 0 1 1 0 0 0 0 0 0 0 0 0 0 0 0 0 0\n",
      " 0 0 0 0 0 0 0 0 0 0 0 0 0 0 0 0 1 1 1 0 0 0 0 1 1 1 1 0 0 0 0 0 0 0 0 0 0\n",
      " 0 0 0 0 0 0 0 0 0 0 0 0 0 0]\n",
      "[0 0 1 1 1 0 0 0 0 0 0 0 0 0 0 0 0 0 0 0 0 0 0 0 0 0 0 0 1 1 0 0 0 0 0 0 0\n",
      " 0 0 0 0 0 0 0 1 1 1 0 0 0 0 0 0 0 0 0 0 0 0 0 0 0 0 0 1 1 0 0 0 0 0 0 0 0\n",
      " 0 0 0 0 0 0 0 0 0 0 0 0 0 0 0 0 0 0 0 0 0 0 0 0 0 0 0 0 0 0 0 0 0 0 0 0 0\n",
      " 0 0 0 0 0 0 0 0 0 0 0 0 0 0 0 0 0 0 0 0 0 1 1 0 0 0 0 0 0 0 0 0 0 0 0 0 0\n",
      " 0 0 0 0 0 0 0 0 0 0 0 0 0 0 0 0 1 1 1 0 0 0 0 1 1 1 1 0 0 0 0 0 0 0 0 0 0\n",
      " 0 0 0 0 0 0 0 0 0 0 0 0 0 0]\n",
      "['mild', 'physical', 'exercise']\n",
      "['physical', 'exercise']\n",
      "['regular', 'physical', 'exercise']\n",
      "['regular', 'exercise']\n",
      "['regular', 'exercise']\n",
      "['regular', 'exercise', '.']\n",
      "['mild', 'regular', 'physical', 'exercise']\n"
     ]
    }
   ],
   "source": [
    "print(doc)\n",
    "toks_list = toks.split()\n",
    "annot_list = np.array([int(i) for i in annot.split()]).astype(int)\n",
    "print(annot_list)\n",
    "annot_arr = (annot_list > 0).astype(int)\n",
    "print(annot_arr)\n",
    "\n",
    "def find_continguous_sequences(annot_arr: np.ndarray) -> List[Tuple]:\n",
    "    # return a list of (start, stop) tuples identifying continguous sequences where annot_list is 1\n",
    "    # e.g. annot_arr = [0, 1, 1, 0, 1, 1, 1, 0, 0, 1] -> [(1, 3), (4, 7), (9, 11)]\n",
    "    annot_arr = np.concatenate([[0], annot_arr, [0]])\n",
    "    diffs = np.diff(annot_arr)\n",
    "    starts = np.where(diffs == 1)[0]\n",
    "    stops = np.where(diffs == -1)[0]\n",
    "    return list(zip(starts, stops))\n",
    "\n",
    "contiguous_seqs = find_continguous_sequences(annot_arr)\n",
    "for start, stop in contiguous_seqs:\n",
    "    print(toks_list[start:stop])"
   ]
  },
  {
   "cell_type": "code",
   "execution_count": 46,
   "metadata": {},
   "outputs": [
    {
     "data": {
      "text/plain": [
       "array([1, 1, 1, 1, 1, 1, 1, 1, 1, 1, 1, 1, 1, 1, 1, 1, 1, 1, 1])"
      ]
     },
     "execution_count": 46,
     "metadata": {},
     "output_type": "execute_result"
    }
   ],
   "source": [
    "annot_arr"
   ]
  },
  {
   "cell_type": "code",
   "execution_count": 36,
   "metadata": {},
   "outputs": [
    {
     "data": {
      "text/plain": [
       "199"
      ]
     },
     "execution_count": 36,
     "metadata": {},
     "output_type": "execute_result"
    }
   ],
   "source": [
    "len(annot_list)"
   ]
  },
  {
   "cell_type": "code",
   "execution_count": null,
   "metadata": {},
   "outputs": [],
   "source": []
  }
 ],
 "metadata": {
  "kernelspec": {
   "display_name": ".embgam",
   "language": "python",
   "name": "python3"
  },
  "language_info": {
   "codemirror_mode": {
    "name": "ipython",
    "version": 3
   },
   "file_extension": ".py",
   "mimetype": "text/x-python",
   "name": "python",
   "nbconvert_exporter": "python",
   "pygments_lexer": "ipython3",
   "version": "3.11.3"
  },
  "orig_nbformat": 4,
  "vscode": {
   "interpreter": {
    "hash": "559535f78d940c882783b39501b2581b5193373045707e5f8a51d046029cfd38"
   }
  }
 },
 "nbformat": 4,
 "nbformat_minor": 2
}
