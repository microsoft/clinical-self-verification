{
 "cells": [
  {
   "cell_type": "code",
   "execution_count": 20,
   "metadata": {},
   "outputs": [
    {
     "name": "stdout",
     "output_type": "stream",
     "text": [
      "The autoreload extension is already loaded. To reload it, use:\n",
      "  %reload_ext autoreload\n"
     ]
    },
    {
     "name": "stderr",
     "output_type": "stream",
     "text": [
      "100%|██████████| 6/6 [00:00<00:00, 1564.55it/s]\n"
     ]
    }
   ],
   "source": [
    "%load_ext autoreload\n",
    "%autoreload 2\n",
    "from os.path import join\n",
    "from tqdm import tqdm\n",
    "import pandas as pd\n",
    "import numpy as np\n",
    "import clin.llm\n",
    "import clin.eval.med_status\n",
    "import clin.parse\n",
    "import openai\n",
    "openai.api_key_path = '/home/chansingh/.OPENAI_KEY'\n",
    "from typing import List\n",
    "results_dir = '../results-mega/'\n",
    "# results_dir = '../results_tmp/'\n",
    "from clin.config import PATH_REPO\n",
    "import datasets\n",
    "import imodelsx.viz\n",
    "import imodelsx.process_results\n",
    "def viz_blue_rows(df):\n",
    "    return (\n",
    "        df\n",
    "        # highlight rows 2 and 4 including the index\n",
    "        .style.apply(lambda x: ['background: lightblue' if 'self-verified' in x.name else '' for i in x], axis=1)\n",
    "        # bold index label for row 2\n",
    "        .apply(lambda x: ['font-weight: bold' if 'self-verified' in x.name else '' for i in x], axis=1)\n",
    "        .format(precision=3)\n",
    "    )   \n",
    "r = imodelsx.process_results.get_results_df(results_dir, use_cached=False)\n",
    "r = r[[col for col in r.columns if not col in ['checkpoint_verify', 'role_verify']]]\n",
    "r = r[r.use_megaprompt == 1]\n",
    "# r = imodelsx.process_results.average_over_seeds(r, experiment_filename=join(PATH_REPO, 'experiments', 'eval_model.py'))"
   ]
  },
  {
   "cell_type": "code",
   "execution_count": 21,
   "metadata": {},
   "outputs": [
    {
     "data": {
      "text/html": [
       "<div>\n",
       "<style scoped>\n",
       "    .dataframe tbody tr th:only-of-type {\n",
       "        vertical-align: middle;\n",
       "    }\n",
       "\n",
       "    .dataframe tbody tr th {\n",
       "        vertical-align: top;\n",
       "    }\n",
       "\n",
       "    .dataframe thead th {\n",
       "        text-align: right;\n",
       "    }\n",
       "</style>\n",
       "<table border=\"1\" class=\"dataframe\">\n",
       "  <thead>\n",
       "    <tr style=\"text-align: right;\">\n",
       "      <th></th>\n",
       "      <th>dataset_name</th>\n",
       "      <th>seed</th>\n",
       "      <th>save_dir</th>\n",
       "      <th>checkpoint</th>\n",
       "      <th>use_megaprompt</th>\n",
       "      <th>n_shots</th>\n",
       "      <th>use_cache</th>\n",
       "      <th>save_dir_unique</th>\n",
       "      <th>extracted_strs</th>\n",
       "      <th>recall___original</th>\n",
       "      <th>precision___original</th>\n",
       "      <th>f1___original</th>\n",
       "      <th>dict_original</th>\n",
       "      <th>list_original</th>\n",
       "    </tr>\n",
       "  </thead>\n",
       "  <tbody>\n",
       "    <tr>\n",
       "      <th>0</th>\n",
       "      <td>medication_status</td>\n",
       "      <td>1</td>\n",
       "      <td>/home/chansingh/clinical-extract-and-check/res...</td>\n",
       "      <td>gpt-3.5-turbo</td>\n",
       "      <td>1</td>\n",
       "      <td>5</td>\n",
       "      <td>1</td>\n",
       "      <td>/home/chansingh/clinical-extract-and-check/res...</td>\n",
       "      <td>[\"dobutamine\" (active)\\n- \"Nipride\" (active)\\n...</td>\n",
       "      <td>0.920588</td>\n",
       "      <td>0.650728</td>\n",
       "      <td>0.762485</td>\n",
       "      <td>[{'dobutamine': 'active', 'Nipride': 'active',...</td>\n",
       "      <td>NaN</td>\n",
       "    </tr>\n",
       "    <tr>\n",
       "      <th>1</th>\n",
       "      <td>medication_status</td>\n",
       "      <td>1</td>\n",
       "      <td>/home/chansingh/clinical-extract-and-check/res...</td>\n",
       "      <td>gpt-4-0314</td>\n",
       "      <td>1</td>\n",
       "      <td>5</td>\n",
       "      <td>1</td>\n",
       "      <td>/home/chansingh/clinical-extract-and-check/res...</td>\n",
       "      <td>[\"dobutamine\" (active)\\n- \"Nipride\" (active)\\n...</td>\n",
       "      <td>0.888235</td>\n",
       "      <td>0.782383</td>\n",
       "      <td>0.831956</td>\n",
       "      <td>[{'dobutamine': 'active', 'Nipride': 'active',...</td>\n",
       "      <td>NaN</td>\n",
       "    </tr>\n",
       "    <tr>\n",
       "      <th>2</th>\n",
       "      <td>ebm</td>\n",
       "      <td>1</td>\n",
       "      <td>/home/chansingh/clinical-extract-and-check/res...</td>\n",
       "      <td>gpt-3.5-turbo</td>\n",
       "      <td>1</td>\n",
       "      <td>5</td>\n",
       "      <td>1</td>\n",
       "      <td>/home/chansingh/clinical-extract-and-check/res...</td>\n",
       "      <td>NaN</td>\n",
       "      <td>0.378505</td>\n",
       "      <td>0.292419</td>\n",
       "      <td>0.329939</td>\n",
       "      <td>NaN</td>\n",
       "      <td>[[budesonide Turbuhaler, budesonide aqua], [gr...</td>\n",
       "    </tr>\n",
       "    <tr>\n",
       "      <th>3</th>\n",
       "      <td>ebm</td>\n",
       "      <td>1</td>\n",
       "      <td>/home/chansingh/clinical-extract-and-check/res...</td>\n",
       "      <td>text-davinci-003</td>\n",
       "      <td>1</td>\n",
       "      <td>5</td>\n",
       "      <td>1</td>\n",
       "      <td>/home/chansingh/clinical-extract-and-check/res...</td>\n",
       "      <td>NaN</td>\n",
       "      <td>0.481308</td>\n",
       "      <td>0.422131</td>\n",
       "      <td>0.449782</td>\n",
       "      <td>NaN</td>\n",
       "      <td>[[budesonide Turbuhaler, budesonide aqua], [gr...</td>\n",
       "    </tr>\n",
       "    <tr>\n",
       "      <th>4</th>\n",
       "      <td>ebm</td>\n",
       "      <td>1</td>\n",
       "      <td>/home/chansingh/clinical-extract-and-check/res...</td>\n",
       "      <td>gpt-4-0314</td>\n",
       "      <td>1</td>\n",
       "      <td>5</td>\n",
       "      <td>1</td>\n",
       "      <td>/home/chansingh/clinical-extract-and-check/res...</td>\n",
       "      <td>NaN</td>\n",
       "      <td>0.434579</td>\n",
       "      <td>0.395745</td>\n",
       "      <td>0.414254</td>\n",
       "      <td>NaN</td>\n",
       "      <td>[[budesonide Turbuhaler, budesonide aqua], [gr...</td>\n",
       "    </tr>\n",
       "    <tr>\n",
       "      <th>5</th>\n",
       "      <td>medication_status</td>\n",
       "      <td>1</td>\n",
       "      <td>/home/chansingh/clinical-extract-and-check/res...</td>\n",
       "      <td>text-davinci-003</td>\n",
       "      <td>1</td>\n",
       "      <td>5</td>\n",
       "      <td>1</td>\n",
       "      <td>/home/chansingh/clinical-extract-and-check/res...</td>\n",
       "      <td>[ \"dobutamine\" (active)\\n- \"Nipride\" (active)\\...</td>\n",
       "      <td>0.926471</td>\n",
       "      <td>0.907781</td>\n",
       "      <td>0.917031</td>\n",
       "      <td>[{'dobutamine': 'active', 'Nipride': 'active',...</td>\n",
       "      <td>NaN</td>\n",
       "    </tr>\n",
       "  </tbody>\n",
       "</table>\n",
       "</div>"
      ],
      "text/plain": [
       "        dataset_name  seed                                           save_dir   \n",
       "0  medication_status     1  /home/chansingh/clinical-extract-and-check/res...  \\\n",
       "1  medication_status     1  /home/chansingh/clinical-extract-and-check/res...   \n",
       "2                ebm     1  /home/chansingh/clinical-extract-and-check/res...   \n",
       "3                ebm     1  /home/chansingh/clinical-extract-and-check/res...   \n",
       "4                ebm     1  /home/chansingh/clinical-extract-and-check/res...   \n",
       "5  medication_status     1  /home/chansingh/clinical-extract-and-check/res...   \n",
       "\n",
       "         checkpoint  use_megaprompt  n_shots  use_cache   \n",
       "0     gpt-3.5-turbo               1        5          1  \\\n",
       "1        gpt-4-0314               1        5          1   \n",
       "2     gpt-3.5-turbo               1        5          1   \n",
       "3  text-davinci-003               1        5          1   \n",
       "4        gpt-4-0314               1        5          1   \n",
       "5  text-davinci-003               1        5          1   \n",
       "\n",
       "                                     save_dir_unique   \n",
       "0  /home/chansingh/clinical-extract-and-check/res...  \\\n",
       "1  /home/chansingh/clinical-extract-and-check/res...   \n",
       "2  /home/chansingh/clinical-extract-and-check/res...   \n",
       "3  /home/chansingh/clinical-extract-and-check/res...   \n",
       "4  /home/chansingh/clinical-extract-and-check/res...   \n",
       "5  /home/chansingh/clinical-extract-and-check/res...   \n",
       "\n",
       "                                      extracted_strs  recall___original   \n",
       "0  [\"dobutamine\" (active)\\n- \"Nipride\" (active)\\n...           0.920588  \\\n",
       "1  [\"dobutamine\" (active)\\n- \"Nipride\" (active)\\n...           0.888235   \n",
       "2                                                NaN           0.378505   \n",
       "3                                                NaN           0.481308   \n",
       "4                                                NaN           0.434579   \n",
       "5  [ \"dobutamine\" (active)\\n- \"Nipride\" (active)\\...           0.926471   \n",
       "\n",
       "   precision___original  f1___original   \n",
       "0              0.650728       0.762485  \\\n",
       "1              0.782383       0.831956   \n",
       "2              0.292419       0.329939   \n",
       "3              0.422131       0.449782   \n",
       "4              0.395745       0.414254   \n",
       "5              0.907781       0.917031   \n",
       "\n",
       "                                       dict_original   \n",
       "0  [{'dobutamine': 'active', 'Nipride': 'active',...  \\\n",
       "1  [{'dobutamine': 'active', 'Nipride': 'active',...   \n",
       "2                                                NaN   \n",
       "3                                                NaN   \n",
       "4                                                NaN   \n",
       "5  [{'dobutamine': 'active', 'Nipride': 'active',...   \n",
       "\n",
       "                                       list_original  \n",
       "0                                                NaN  \n",
       "1                                                NaN  \n",
       "2  [[budesonide Turbuhaler, budesonide aqua], [gr...  \n",
       "3  [[budesonide Turbuhaler, budesonide aqua], [gr...  \n",
       "4  [[budesonide Turbuhaler, budesonide aqua], [gr...  \n",
       "5                                                NaN  "
      ]
     },
     "execution_count": 21,
     "metadata": {},
     "output_type": "execute_result"
    }
   ],
   "source": [
    "r"
   ]
  },
  {
   "cell_type": "code",
   "execution_count": 22,
   "metadata": {},
   "outputs": [
    {
     "data": {
      "text/html": [
       "<style type=\"text/css\">\n",
       "</style>\n",
       "<table id=\"T_be9e4\">\n",
       "  <thead>\n",
       "    <tr>\n",
       "      <th class=\"index_name level0\" >checkpoint</th>\n",
       "      <th id=\"T_be9e4_level0_col0\" class=\"col_heading level0 col0\" >gpt-3.5-turbo</th>\n",
       "      <th id=\"T_be9e4_level0_col1\" class=\"col_heading level0 col1\" >gpt-4-0314</th>\n",
       "      <th id=\"T_be9e4_level0_col2\" class=\"col_heading level0 col2\" >text-davinci-003</th>\n",
       "    </tr>\n",
       "  </thead>\n",
       "  <tbody>\n",
       "    <tr>\n",
       "      <th id=\"T_be9e4_level0_row0\" class=\"row_heading level0 row0\" >Medication name, original</th>\n",
       "      <td id=\"T_be9e4_row0_col0\" class=\"data row0 col0\" >0.762</td>\n",
       "      <td id=\"T_be9e4_row0_col1\" class=\"data row0 col1\" >0.832</td>\n",
       "      <td id=\"T_be9e4_row0_col2\" class=\"data row0 col2\" >0.917</td>\n",
       "    </tr>\n",
       "  </tbody>\n",
       "</table>\n"
      ],
      "text/plain": [
       "<pandas.io.formats.style.Styler at 0x7f7efe4e0750>"
      ]
     },
     "execution_count": 22,
     "metadata": {},
     "output_type": "execute_result"
    }
   ],
   "source": [
    "r_med = r[r.dataset_name == 'medication_status']\n",
    "# dset = datasets.load_dataset('mitclinicalml/clinical-ie', 'medication_status')\n",
    "# df_val = pd.DataFrame.from_dict(dset['validation'])\n",
    "# df = pd.DataFrame.from_dict(dset['test'])\n",
    "# # df = pd.concat([val, test])\n",
    "# nums = np.arange(len(df)).tolist()\n",
    "# np.random.default_rng(seed=13).shuffle(nums)\n",
    "# # dfe = df.iloc[nums]\n",
    "# r_med = clin.eval.med_status.add_status_eval(r_med, df)\n",
    "\n",
    "cols = {\n",
    "    'f1___original': 'Medication name, original',\n",
    "    # 'f1___ov_pv_ev': 'Medication name, self-verified',\n",
    "    # 'status_f1_macro_cond___original': 'Medication status, original',\n",
    "    # 'status_f1_macro_cond___sv': 'Medication status, self-verified',\n",
    "}\n",
    "rt_med_status = r_med.groupby(['checkpoint'])[list(cols.keys())].mean().rename(columns=cols).round(3).T\n",
    "rt_med_status_sem = r_med.groupby(['checkpoint'])[list(cols.keys())].sem(ddof=0).rename(columns=cols).round(3).T\n",
    "viz_blue_rows(rt_med_status)"
   ]
  },
  {
   "cell_type": "code",
   "execution_count": 23,
   "metadata": {},
   "outputs": [
    {
     "data": {
      "text/html": [
       "<div>\n",
       "<style scoped>\n",
       "    .dataframe tbody tr th:only-of-type {\n",
       "        vertical-align: middle;\n",
       "    }\n",
       "\n",
       "    .dataframe tbody tr th {\n",
       "        vertical-align: top;\n",
       "    }\n",
       "\n",
       "    .dataframe thead th {\n",
       "        text-align: right;\n",
       "    }\n",
       "</style>\n",
       "<table border=\"1\" class=\"dataframe\">\n",
       "  <thead>\n",
       "    <tr style=\"text-align: right;\">\n",
       "      <th>checkpoint</th>\n",
       "      <th>gpt-3.5-turbo</th>\n",
       "      <th>gpt-4-0314</th>\n",
       "      <th>text-davinci-003</th>\n",
       "    </tr>\n",
       "  </thead>\n",
       "  <tbody>\n",
       "    <tr>\n",
       "      <th>Medication name, original</th>\n",
       "      <td>0.762</td>\n",
       "      <td>0.832</td>\n",
       "      <td>0.917</td>\n",
       "    </tr>\n",
       "  </tbody>\n",
       "</table>\n",
       "</div>"
      ],
      "text/plain": [
       "checkpoint                 gpt-3.5-turbo  gpt-4-0314  text-davinci-003\n",
       "Medication name, original          0.762       0.832             0.917"
      ]
     },
     "execution_count": 23,
     "metadata": {},
     "output_type": "execute_result"
    }
   ],
   "source": [
    "rt_med_status"
   ]
  },
  {
   "cell_type": "code",
   "execution_count": 24,
   "metadata": {},
   "outputs": [
    {
     "data": {
      "text/html": [
       "<style type=\"text/css\">\n",
       "</style>\n",
       "<table id=\"T_35070\">\n",
       "  <thead>\n",
       "    <tr>\n",
       "      <th class=\"index_name level0\" >checkpoint</th>\n",
       "      <th id=\"T_35070_level0_col0\" class=\"col_heading level0 col0\" >gpt-3.5-turbo</th>\n",
       "      <th id=\"T_35070_level0_col1\" class=\"col_heading level0 col1\" >gpt-4-0314</th>\n",
       "      <th id=\"T_35070_level0_col2\" class=\"col_heading level0 col2\" >text-davinci-003</th>\n",
       "    </tr>\n",
       "  </thead>\n",
       "  <tbody>\n",
       "    <tr>\n",
       "      <th id=\"T_35070_level0_row0\" class=\"row_heading level0 row0\" >Clinical trial arm, original</th>\n",
       "      <td id=\"T_35070_row0_col0\" class=\"data row0 col0\" >0.330</td>\n",
       "      <td id=\"T_35070_row0_col1\" class=\"data row0 col1\" >0.414</td>\n",
       "      <td id=\"T_35070_row0_col2\" class=\"data row0 col2\" >0.450</td>\n",
       "    </tr>\n",
       "  </tbody>\n",
       "</table>\n"
      ],
      "text/plain": [
       "<pandas.io.formats.style.Styler at 0x7f7efe35ec90>"
      ]
     },
     "execution_count": 24,
     "metadata": {},
     "output_type": "execute_result"
    }
   ],
   "source": [
    "r_ebm = r[r.dataset_name == 'ebm']\n",
    "cols = {\n",
    "    'f1___original': 'Clinical trial arm, original',\n",
    "    # 'f1___ov_pv_ev': 'Clinical trial arm, self-verified',\n",
    "}\n",
    "rt_ebm = r_ebm.groupby(['checkpoint'])[list(cols.keys())].mean().rename(columns=cols).round(3).T\n",
    "rt_ebm_sem = r_ebm.groupby(['checkpoint'])[list(cols.keys())].sem(ddof=0).rename(columns=cols).round(3).T\n",
    "viz_blue_rows(rt_ebm)"
   ]
  },
  {
   "cell_type": "code",
   "execution_count": 25,
   "metadata": {},
   "outputs": [
    {
     "name": "stderr",
     "output_type": "stream",
     "text": [
      "<>:2: DeprecationWarning: invalid escape sequence '\\e'\n",
      "<>:5: DeprecationWarning: invalid escape sequence '\\e'\n",
      "<>:2: DeprecationWarning: invalid escape sequence '\\e'\n",
      "<>:5: DeprecationWarning: invalid escape sequence '\\e'\n",
      "/tmp/ipykernel_3649349/2639324598.py:2: DeprecationWarning: invalid escape sequence '\\e'\n",
      "  rt_ebm[k] = rt_ebm[k].astype(str) + \"\\err{\" + rt_ebm_sem[k].astype(str) + \"}\"\n",
      "/tmp/ipykernel_3649349/2639324598.py:5: DeprecationWarning: invalid escape sequence '\\e'\n",
      "  rt_med_status[k].astype(str) + \"\\err{\" + rt_med_status_sem[k].astype(str) + \"}\"\n"
     ]
    },
    {
     "data": {
      "text/html": [
       "<style type=\"text/css\">\n",
       "</style>\n",
       "<table id=\"T_65076\">\n",
       "  <thead>\n",
       "    <tr>\n",
       "      <th class=\"index_name level0\" >checkpoint</th>\n",
       "      <th id=\"T_65076_level0_col0\" class=\"col_heading level0 col0\" >ChatGPT</th>\n",
       "      <th id=\"T_65076_level0_col1\" class=\"col_heading level0 col1\" >GPT-4</th>\n",
       "      <th id=\"T_65076_level0_col2\" class=\"col_heading level0 col2\" >GPT-3</th>\n",
       "    </tr>\n",
       "  </thead>\n",
       "  <tbody>\n",
       "    <tr>\n",
       "      <th id=\"T_65076_level0_row0\" class=\"row_heading level0 row0\" >Clinical trial arm, original</th>\n",
       "      <td id=\"T_65076_row0_col0\" class=\"data row0 col0\" >0.33\\err{0.0}</td>\n",
       "      <td id=\"T_65076_row0_col1\" class=\"data row0 col1\" >0.414\\err{0.0}</td>\n",
       "      <td id=\"T_65076_row0_col2\" class=\"data row0 col2\" >0.45\\err{0.0}</td>\n",
       "    </tr>\n",
       "    <tr>\n",
       "      <th id=\"T_65076_level0_row1\" class=\"row_heading level0 row1\" >Medication name, original</th>\n",
       "      <td id=\"T_65076_row1_col0\" class=\"data row1 col0\" >0.762\\err{0.0}</td>\n",
       "      <td id=\"T_65076_row1_col1\" class=\"data row1 col1\" >0.832\\err{0.0}</td>\n",
       "      <td id=\"T_65076_row1_col2\" class=\"data row1 col2\" >0.917\\err{0.0}</td>\n",
       "    </tr>\n",
       "  </tbody>\n",
       "</table>\n"
      ],
      "text/plain": [
       "<pandas.io.formats.style.Styler at 0x7f7efe32fb50>"
      ]
     },
     "execution_count": 25,
     "metadata": {},
     "output_type": "execute_result"
    }
   ],
   "source": [
    "for k in rt_ebm.columns:\n",
    "    rt_ebm[k] = rt_ebm[k].astype(str) + \"\\err{\" + rt_ebm_sem[k].astype(str) + \"}\"\n",
    "for k in rt_med_status.columns:\n",
    "    rt_med_status[k] = (\n",
    "        rt_med_status[k].astype(str) + \"\\err{\" + rt_med_status_sem[k].astype(str) + \"}\"\n",
    "    )\n",
    "rt = pd.concat((rt_ebm, rt_med_status))\n",
    "rt.columns = rt.columns.map(lambda x: imodelsx.viz.CHECKPOINTS_RENAME_DICT.get(x, x))\n",
    "viz_blue_rows(rt)"
   ]
  },
  {
   "cell_type": "code",
   "execution_count": 19,
   "metadata": {},
   "outputs": [
    {
     "name": "stdout",
     "output_type": "stream",
     "text": [
      "\\begin{tabular}{llll}\n",
      "\\toprule\n",
      "checkpoint & GPT-4 & GPT-3 & ChatGPT \\\\\n",
      "\\midrule\n",
      "Clinical trial arm, original & 0.437\\err{0.0} & 0.536\\err{0.0} & nan \\\\\n",
      "Medication name, original & 0.911\\err{0.0} & 0.938\\err{0.0} & 0.838\\err{0.0} \\\\\n",
      "\\bottomrule\n",
      "\\end{tabular}\n",
      "\n"
     ]
    }
   ],
   "source": [
    "print(rt.style.format(precision=3).to_latex(hrules=True))"
   ]
  },
  {
   "cell_type": "code",
   "execution_count": null,
   "metadata": {},
   "outputs": [],
   "source": []
  }
 ],
 "metadata": {
  "kernelspec": {
   "display_name": ".embgam",
   "language": "python",
   "name": "python3"
  },
  "language_info": {
   "codemirror_mode": {
    "name": "ipython",
    "version": 3
   },
   "file_extension": ".py",
   "mimetype": "text/x-python",
   "name": "python",
   "nbconvert_exporter": "python",
   "pygments_lexer": "ipython3",
   "version": "3.11.3"
  },
  "orig_nbformat": 4,
  "vscode": {
   "interpreter": {
    "hash": "559535f78d940c882783b39501b2581b5193373045707e5f8a51d046029cfd38"
   }
  }
 },
 "nbformat": 4,
 "nbformat_minor": 2
}
