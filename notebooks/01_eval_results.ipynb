{
 "cells": [
  {
   "cell_type": "code",
   "execution_count": 20,
   "metadata": {},
   "outputs": [
    {
     "name": "stdout",
     "output_type": "stream",
     "text": [
      "The autoreload extension is already loaded. To reload it, use:\n",
      "  %reload_ext autoreload\n"
     ]
    }
   ],
   "source": [
    "%load_ext autoreload\n",
    "%autoreload 2\n",
    "import os\n",
    "import matplotlib.pyplot as plt\n",
    "import seaborn as sns\n",
    "from os.path import join\n",
    "from tqdm import tqdm\n",
    "import pandas as pd\n",
    "import imodelsx.process_results\n",
    "import sys\n",
    "import datasets\n",
    "import numpy as np\n",
    "import clin.eval\n",
    "import clin.verifiers.deduplicate\n",
    "import clin.verifiers.evidence\n",
    "import clin.llm\n",
    "import clin.parse\n",
    "from collections import defaultdict\n",
    "import openai\n",
    "openai.api_key_path = '/home/chansingh/.OPENAI_KEY'\n",
    "\n",
    "sys.path.append('../experiments/')\n",
    "results_dir = '../results/'"
   ]
  },
  {
   "cell_type": "code",
   "execution_count": 46,
   "metadata": {},
   "outputs": [
    {
     "data": {
      "application/vnd.jupyter.widget-view+json": {
       "model_id": "508aecf85abc4ac79f02c65e649a791e",
       "version_major": 2,
       "version_minor": 0
      },
      "text/plain": [
       "  0%|          | 0/2 [00:00<?, ?it/s]"
      ]
     },
     "metadata": {},
     "output_type": "display_data"
    },
    {
     "name": "stderr",
     "output_type": "stream",
     "text": [
      "100%|██████████| 6/6 [00:00<00:00, 391.11it/s]\n"
     ]
    },
    {
     "data": {
      "text/html": [
       "<style type=\"text/css\">\n",
       "#T_e00fb_row0_col0, #T_e00fb_row0_col1, #T_e00fb_row0_col3, #T_e00fb_row2_col2, #T_e00fb_row2_col3, #T_e00fb_row2_col4 {\n",
       "  background-color: #f7fbff;\n",
       "  color: #000000;\n",
       "}\n",
       "#T_e00fb_row0_col2 {\n",
       "  background-color: #d3e4f3;\n",
       "  color: #000000;\n",
       "}\n",
       "#T_e00fb_row0_col4 {\n",
       "  background-color: #f5f9fe;\n",
       "  color: #000000;\n",
       "}\n",
       "#T_e00fb_row1_col0 {\n",
       "  background-color: #63a8d3;\n",
       "  color: #f1f1f1;\n",
       "}\n",
       "#T_e00fb_row1_col1 {\n",
       "  background-color: #a9cfe5;\n",
       "  color: #000000;\n",
       "}\n",
       "#T_e00fb_row1_col2 {\n",
       "  background-color: #2474b7;\n",
       "  color: #f1f1f1;\n",
       "}\n",
       "#T_e00fb_row1_col3 {\n",
       "  background-color: #61a7d2;\n",
       "  color: #f1f1f1;\n",
       "}\n",
       "#T_e00fb_row1_col4 {\n",
       "  background-color: #cee0f2;\n",
       "  color: #000000;\n",
       "}\n",
       "#T_e00fb_row2_col0 {\n",
       "  background-color: #f2f8fd;\n",
       "  color: #000000;\n",
       "}\n",
       "#T_e00fb_row2_col1, #T_e00fb_row3_col2 {\n",
       "  background-color: #57a0ce;\n",
       "  color: #f1f1f1;\n",
       "}\n",
       "#T_e00fb_row3_col0 {\n",
       "  background-color: #68acd5;\n",
       "  color: #f1f1f1;\n",
       "}\n",
       "#T_e00fb_row3_col1, #T_e00fb_row4_col4 {\n",
       "  background-color: #4b98ca;\n",
       "  color: #f1f1f1;\n",
       "}\n",
       "#T_e00fb_row3_col3 {\n",
       "  background-color: #083776;\n",
       "  color: #f1f1f1;\n",
       "}\n",
       "#T_e00fb_row3_col4 {\n",
       "  background-color: #bed8ec;\n",
       "  color: #000000;\n",
       "}\n",
       "#T_e00fb_row4_col0 {\n",
       "  background-color: #1c6bb0;\n",
       "  color: #f1f1f1;\n",
       "}\n",
       "#T_e00fb_row4_col1 {\n",
       "  background-color: #08326e;\n",
       "  color: #f1f1f1;\n",
       "}\n",
       "#T_e00fb_row4_col2 {\n",
       "  background-color: #2c7cba;\n",
       "  color: #f1f1f1;\n",
       "}\n",
       "#T_e00fb_row4_col3 {\n",
       "  background-color: #2979b9;\n",
       "  color: #f1f1f1;\n",
       "}\n",
       "#T_e00fb_row5_col0, #T_e00fb_row5_col1, #T_e00fb_row5_col2, #T_e00fb_row5_col3, #T_e00fb_row5_col4 {\n",
       "  background-color: #08306b;\n",
       "  color: #f1f1f1;\n",
       "}\n",
       "</style>\n",
       "<table id=\"T_e00fb\">\n",
       "  <thead>\n",
       "    <tr>\n",
       "      <th class=\"blank\" >&nbsp;</th>\n",
       "      <th class=\"blank level0\" >&nbsp;</th>\n",
       "      <th id=\"T_e00fb_level0_col0\" class=\"col_heading level0 col0\" >f1</th>\n",
       "      <th id=\"T_e00fb_level0_col1\" class=\"col_heading level0 col1\" >recall</th>\n",
       "      <th id=\"T_e00fb_level0_col2\" class=\"col_heading level0 col2\" >precision</th>\n",
       "      <th id=\"T_e00fb_level0_col3\" class=\"col_heading level0 col3\" >acc_cond</th>\n",
       "      <th id=\"T_e00fb_level0_col4\" class=\"col_heading level0 col4\" >f1_macro_cond</th>\n",
       "    </tr>\n",
       "    <tr>\n",
       "      <th class=\"index_name level0\" >checkpoint</th>\n",
       "      <th class=\"index_name level1\" >n_shots</th>\n",
       "      <th class=\"blank col0\" >&nbsp;</th>\n",
       "      <th class=\"blank col1\" >&nbsp;</th>\n",
       "      <th class=\"blank col2\" >&nbsp;</th>\n",
       "      <th class=\"blank col3\" >&nbsp;</th>\n",
       "      <th class=\"blank col4\" >&nbsp;</th>\n",
       "    </tr>\n",
       "  </thead>\n",
       "  <tbody>\n",
       "    <tr>\n",
       "      <th id=\"T_e00fb_level0_row0\" class=\"row_heading level0 row0\" rowspan=\"2\">gpt-3.5-turbo</th>\n",
       "      <th id=\"T_e00fb_level1_row0\" class=\"row_heading level1 row0\" >1</th>\n",
       "      <td id=\"T_e00fb_row0_col0\" class=\"data row0 col0\" >0.818</td>\n",
       "      <td id=\"T_e00fb_row0_col1\" class=\"data row0 col1\" >0.845</td>\n",
       "      <td id=\"T_e00fb_row0_col2\" class=\"data row0 col2\" >0.812</td>\n",
       "      <td id=\"T_e00fb_row0_col3\" class=\"data row0 col3\" >0.790</td>\n",
       "      <td id=\"T_e00fb_row0_col4\" class=\"data row0 col4\" >0.064</td>\n",
       "    </tr>\n",
       "    <tr>\n",
       "      <th id=\"T_e00fb_level1_row1\" class=\"row_heading level1 row1\" >5</th>\n",
       "      <td id=\"T_e00fb_row1_col0\" class=\"data row1 col0\" >0.871</td>\n",
       "      <td id=\"T_e00fb_row1_col1\" class=\"data row1 col1\" >0.873</td>\n",
       "      <td id=\"T_e00fb_row1_col2\" class=\"data row1 col2\" >0.888</td>\n",
       "      <td id=\"T_e00fb_row1_col3\" class=\"data row1 col3\" >0.861</td>\n",
       "      <td id=\"T_e00fb_row1_col4\" class=\"data row1 col4\" >0.175</td>\n",
       "    </tr>\n",
       "    <tr>\n",
       "      <th id=\"T_e00fb_level0_row2\" class=\"row_heading level0 row2\" rowspan=\"2\">gpt-4-0314</th>\n",
       "      <th id=\"T_e00fb_level1_row2\" class=\"row_heading level1 row2\" >1</th>\n",
       "      <td id=\"T_e00fb_row2_col0\" class=\"data row2 col0\" >0.820</td>\n",
       "      <td id=\"T_e00fb_row2_col1\" class=\"data row2 col1\" >0.891</td>\n",
       "      <td id=\"T_e00fb_row2_col2\" class=\"data row2 col2\" >0.787</td>\n",
       "      <td id=\"T_e00fb_row2_col3\" class=\"data row2 col3\" >0.790</td>\n",
       "      <td id=\"T_e00fb_row2_col4\" class=\"data row2 col4\" >0.056</td>\n",
       "    </tr>\n",
       "    <tr>\n",
       "      <th id=\"T_e00fb_level1_row3\" class=\"row_heading level1 row3\" >5</th>\n",
       "      <td id=\"T_e00fb_row3_col0\" class=\"data row3 col0\" >0.870</td>\n",
       "      <td id=\"T_e00fb_row3_col1\" class=\"data row3 col1\" >0.894</td>\n",
       "      <td id=\"T_e00fb_row3_col2\" class=\"data row3 col2\" >0.864</td>\n",
       "      <td id=\"T_e00fb_row3_col3\" class=\"data row3 col3\" >0.921</td>\n",
       "      <td id=\"T_e00fb_row3_col4\" class=\"data row3 col4\" >0.212</td>\n",
       "    </tr>\n",
       "    <tr>\n",
       "      <th id=\"T_e00fb_level0_row4\" class=\"row_heading level0 row4\" rowspan=\"2\">text-davinci-003</th>\n",
       "      <th id=\"T_e00fb_level1_row4\" class=\"row_heading level1 row4\" >1</th>\n",
       "      <td id=\"T_e00fb_row4_col0\" class=\"data row4 col0\" >0.896</td>\n",
       "      <td id=\"T_e00fb_row4_col1\" class=\"data row4 col1\" >0.926</td>\n",
       "      <td id=\"T_e00fb_row4_col2\" class=\"data row4 col2\" >0.884</td>\n",
       "      <td id=\"T_e00fb_row4_col3\" class=\"data row4 col3\" >0.888</td>\n",
       "      <td id=\"T_e00fb_row4_col4\" class=\"data row4 col4\" >0.394</td>\n",
       "    </tr>\n",
       "    <tr>\n",
       "      <th id=\"T_e00fb_level1_row5\" class=\"row_heading level1 row5\" >5</th>\n",
       "      <td id=\"T_e00fb_row5_col0\" class=\"data row5 col0\" >0.919</td>\n",
       "      <td id=\"T_e00fb_row5_col1\" class=\"data row5 col1\" >0.927</td>\n",
       "      <td id=\"T_e00fb_row5_col2\" class=\"data row5 col2\" >0.925</td>\n",
       "      <td id=\"T_e00fb_row5_col3\" class=\"data row5 col3\" >0.925</td>\n",
       "      <td id=\"T_e00fb_row5_col4\" class=\"data row5 col4\" >0.626</td>\n",
       "    </tr>\n",
       "  </tbody>\n",
       "</table>\n"
      ],
      "text/plain": [
       "<pandas.io.formats.style.Styler at 0x7fdef125ec10>"
      ]
     },
     "execution_count": 46,
     "metadata": {},
     "output_type": "execute_result"
    }
   ],
   "source": [
    "r = imodelsx.process_results.get_results_df(results_dir, use_cached=True)\n",
    "\n",
    "# get data for eval\n",
    "dset = datasets.load_dataset('mitclinicalml/clinical-ie', 'medication_status')\n",
    "df_val = pd.DataFrame.from_dict(dset['validation'])\n",
    "df = pd.DataFrame.from_dict(dset['test'])\n",
    "# df = pd.concat([val, test])\n",
    "nums = np.arange(len(df)).tolist()\n",
    "np.random.default_rng(seed=13).shuffle(nums)\n",
    "dfe = df.iloc[nums]\n",
    "\n",
    "# add medication status eval\n",
    "accs_cond, f1s_macro_cond = clin.eval.eval_medication_status(dfe, r)\n",
    "r['acc_cond'] = accs_cond\n",
    "r['f1_macro_cond'] = f1s_macro_cond\n",
    "\n",
    "(\n",
    "    r.groupby(['checkpoint', 'n_shots'])[['f1', 'recall', 'precision', 'acc_cond', 'f1_macro_cond']].mean()\n",
    "    .style.format(precision=3).background_gradient(cmap='Blues')\n",
    ")"
   ]
  },
  {
   "attachments": {},
   "cell_type": "markdown",
   "metadata": {},
   "source": [
    "### Test verifiers"
   ]
  },
  {
   "cell_type": "code",
   "execution_count": 30,
   "metadata": {},
   "outputs": [],
   "source": [
    "# get original\n",
    "row = r[(r.n_shots == 5) * (r.checkpoint == 'text-davinci-003')].iloc[0]\n",
    "n = len(dfe)\n",
    "med_status_dict_list_orig = [clin.parse.parse_response_medication_list(row['resps'][i]) for i in range(n)]\n",
    "llm = clin.llm.get_llm('text-davinci-003')"
   ]
  },
  {
   "cell_type": "code",
   "execution_count": 21,
   "metadata": {},
   "outputs": [
    {
     "name": "stderr",
     "output_type": "stream",
     "text": [
      "100%|██████████| 100/100 [00:00<00:00, 8132.59it/s]\n"
     ]
    }
   ],
   "source": [
    "# apply evidence verifier\n",
    "ev = clin.verifiers.evidence.EvidenceVerifier(n_shots_neg=2, n_shots_pos=0)\n",
    "med_status_dict_list_ev = []\n",
    "med_evidence_dict_list_ev = []\n",
    "for i in tqdm(range(n)):\n",
    "    med_status_dict, med_evidence_dict = ev(\n",
    "        snippet=dfe.iloc[i]['snippet'], bulleted_str=row['resps'][i], llm=llm)\n",
    "    med_status_dict_list_ev.append(med_status_dict)\n",
    "    med_evidence_dict_list_ev.append(med_evidence_dict)\n",
    "med_status_dict_list_ev_pruned = [\n",
    "    {\n",
    "        k: v for k, v in med_status_dict_list_ev[i].items()\n",
    "        if not med_evidence_dict_list_ev[i][k] == 'no evidence'\n",
    "    }\n",
    "    for i in range(n)\n",
    "]"
   ]
  },
  {
   "cell_type": "code",
   "execution_count": 33,
   "metadata": {},
   "outputs": [
    {
     "name": "stderr",
     "output_type": "stream",
     "text": [
      "100%|██████████| 100/100 [04:28<00:00,  2.68s/it]\n"
     ]
    }
   ],
   "source": [
    "# apply deduplication verifier\n",
    "dv = clin.verifiers.deduplicate.DeduplicateVerifier()\n",
    "med_status_dict_list_dv = [dv(dfe.iloc[i]['snippet'], bulleted_str=row['resps'][i], llm=llm) for i in tqdm(range(n))]"
   ]
  },
  {
   "cell_type": "code",
   "execution_count": 45,
   "metadata": {},
   "outputs": [
    {
     "data": {
      "text/html": [
       "<style type=\"text/css\">\n",
       "#T_5fd80_row0_col0, #T_5fd80_row1_col0, #T_5fd80_row3_col1, #T_5fd80_row3_col2 {\n",
       "  background-color: #f7fbff;\n",
       "  color: #000000;\n",
       "}\n",
       "#T_5fd80_row0_col1, #T_5fd80_row2_col2, #T_5fd80_row3_col0 {\n",
       "  background-color: #08306b;\n",
       "  color: #f1f1f1;\n",
       "}\n",
       "#T_5fd80_row0_col2 {\n",
       "  background-color: #083471;\n",
       "  color: #f1f1f1;\n",
       "}\n",
       "#T_5fd80_row1_col1, #T_5fd80_row2_col1 {\n",
       "  background-color: #083776;\n",
       "  color: #f1f1f1;\n",
       "}\n",
       "#T_5fd80_row1_col2 {\n",
       "  background-color: #083979;\n",
       "  color: #f1f1f1;\n",
       "}\n",
       "#T_5fd80_row2_col0 {\n",
       "  background-color: #89bedc;\n",
       "  color: #000000;\n",
       "}\n",
       "</style>\n",
       "<table id=\"T_5fd80\">\n",
       "  <thead>\n",
       "    <tr>\n",
       "      <th class=\"blank level0\" >&nbsp;</th>\n",
       "      <th id=\"T_5fd80_level0_col0\" class=\"col_heading level0 col0\" >precision</th>\n",
       "      <th id=\"T_5fd80_level0_col1\" class=\"col_heading level0 col1\" >recall</th>\n",
       "      <th id=\"T_5fd80_level0_col2\" class=\"col_heading level0 col2\" >f1</th>\n",
       "    </tr>\n",
       "  </thead>\n",
       "  <tbody>\n",
       "    <tr>\n",
       "      <th id=\"T_5fd80_level0_row0\" class=\"row_heading level0 row0\" >original</th>\n",
       "      <td id=\"T_5fd80_row0_col0\" class=\"data row0 col0\" >0.925</td>\n",
       "      <td id=\"T_5fd80_row0_col1\" class=\"data row0 col1\" >0.927</td>\n",
       "      <td id=\"T_5fd80_row0_col2\" class=\"data row0 col2\" >0.919</td>\n",
       "    </tr>\n",
       "    <tr>\n",
       "      <th id=\"T_5fd80_level0_row1\" class=\"row_heading level0 row1\" >evidence</th>\n",
       "      <td id=\"T_5fd80_row1_col0\" class=\"data row1 col0\" >0.925</td>\n",
       "      <td id=\"T_5fd80_row1_col1\" class=\"data row1 col1\" >0.924</td>\n",
       "      <td id=\"T_5fd80_row1_col2\" class=\"data row1 col2\" >0.918</td>\n",
       "    </tr>\n",
       "    <tr>\n",
       "      <th id=\"T_5fd80_level0_row2\" class=\"row_heading level0 row2\" >evidence_pruned</th>\n",
       "      <td id=\"T_5fd80_row2_col0\" class=\"data row2 col0\" >0.928</td>\n",
       "      <td id=\"T_5fd80_row2_col1\" class=\"data row2 col1\" >0.924</td>\n",
       "      <td id=\"T_5fd80_row2_col2\" class=\"data row2 col2\" >0.920</td>\n",
       "    </tr>\n",
       "    <tr>\n",
       "      <th id=\"T_5fd80_level0_row3\" class=\"row_heading level0 row3\" >deduplicate</th>\n",
       "      <td id=\"T_5fd80_row3_col0\" class=\"data row3 col0\" >0.932</td>\n",
       "      <td id=\"T_5fd80_row3_col1\" class=\"data row3 col1\" >0.828</td>\n",
       "      <td id=\"T_5fd80_row3_col2\" class=\"data row3 col2\" >0.865</td>\n",
       "    </tr>\n",
       "  </tbody>\n",
       "</table>\n"
      ],
      "text/plain": [
       "<pandas.io.formats.style.Styler at 0x7fdede27ded0>"
      ]
     },
     "execution_count": 45,
     "metadata": {},
     "output_type": "execute_result"
    }
   ],
   "source": [
    "PREDS_DICT = {\n",
    "    'original': med_status_dict_list_orig,\n",
    "    'evidence': med_status_dict_list_ev,\n",
    "    'evidence_pruned': med_status_dict_list_ev_pruned,\n",
    "    'deduplicate': med_status_dict_list_dv,\n",
    "}\n",
    "mets_dict = defaultdict(list)\n",
    "for k in PREDS_DICT.keys():\n",
    "    mets_dict_single = clin.eval.calculate_metrics(PREDS_DICT[k], dfe, verbose=False)\n",
    "    for k_met in mets_dict_single.keys():\n",
    "        mets_dict[k_met].append(np.mean(mets_dict_single[k_met]))\n",
    "df = pd.DataFrame.from_dict(mets_dict).round(3)\n",
    "df.index = PREDS_DICT.keys()\n",
    "df.style.format(precision=3).background_gradient(cmap='Blues')"
   ]
  }
 ],
 "metadata": {
  "kernelspec": {
   "display_name": ".embgam",
   "language": "python",
   "name": "python3"
  },
  "language_info": {
   "codemirror_mode": {
    "name": "ipython",
    "version": 3
   },
   "file_extension": ".py",
   "mimetype": "text/x-python",
   "name": "python",
   "nbconvert_exporter": "python",
   "pygments_lexer": "ipython3",
   "version": "3.11.3"
  },
  "orig_nbformat": 4,
  "vscode": {
   "interpreter": {
    "hash": "559535f78d940c882783b39501b2581b5193373045707e5f8a51d046029cfd38"
   }
  }
 },
 "nbformat": 4,
 "nbformat_minor": 2
}
