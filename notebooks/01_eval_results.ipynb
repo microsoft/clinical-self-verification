{
 "cells": [
  {
   "cell_type": "code",
   "execution_count": null,
   "metadata": {},
   "outputs": [],
   "source": [
    "%load_ext autoreload\n",
    "%autoreload 2\n",
    "import os\n",
    "import matplotlib.pyplot as plt\n",
    "import seaborn as sns\n",
    "from os.path import join\n",
    "from tqdm import tqdm\n",
    "import pandas as pd\n",
    "import imodelsx.process_results\n",
    "import sys\n",
    "import datasets\n",
    "import numpy as np\n",
    "import clin.eval\n",
    "\n",
    "sys.path.append('../experiments/')\n",
    "results_dir = '../results/'"
   ]
  },
  {
   "cell_type": "code",
   "execution_count": null,
   "metadata": {},
   "outputs": [],
   "source": [
    "r = imodelsx.process_results.get_results_df(results_dir, use_cached=True)\n",
    "\n",
    "# get data for eval\n",
    "dset = datasets.load_dataset('mitclinicalml/clinical-ie', 'medication_status')\n",
    "df_val = pd.DataFrame.from_dict(dset['validation'])\n",
    "df = pd.DataFrame.from_dict(dset['test'])\n",
    "# df = pd.concat([val, test])\n",
    "nums = np.arange(len(df)).tolist()\n",
    "np.random.default_rng(seed=13).shuffle(nums)\n",
    "dfe = df.iloc[nums]\n",
    "\n",
    "# add medication status eval\n",
    "accs_cond, f1s_macro_cond = clin.eval.eval_medication_status(dfe, r)\n",
    "r['acc_cond'] = accs_cond\n",
    "r['f1_macro_cond'] = f1s_macro_cond"
   ]
  },
  {
   "cell_type": "code",
   "execution_count": null,
   "metadata": {},
   "outputs": [],
   "source": [
    "(\n",
    "    r.groupby(['checkpoint', 'n_shots'])[['f1', 'recall', 'precision', 'acc_cond', 'f1_macro_cond']].mean()\n",
    "    .style.format(precision=3).background_gradient(cmap='Blues')\n",
    ")"
   ]
  },
  {
   "cell_type": "markdown",
   "metadata": {},
   "source": [
    "# Test verifiers"
   ]
  },
  {
   "cell_type": "code",
   "execution_count": null,
   "metadata": {},
   "outputs": [],
   "source": [
    "import clin.verifiers.evidence\n",
    "import clin.llm\n",
    "import clin.parse\n",
    "import openai\n",
    "openai.api_key_path = '/home/chansingh/.OPENAI_KEY'"
   ]
  },
  {
   "cell_type": "code",
   "execution_count": 199,
   "metadata": {},
   "outputs": [
    {
     "name": "stderr",
     "output_type": "stream",
     "text": [
      " 17%|█▋        | 17/100 [00:13<01:48,  1.31s/it]"
     ]
    }
   ],
   "source": [
    "row = r[(r.n_shots == 5) * (r.checkpoint == 'text-davinci-003')].iloc[0]\n",
    "llm = clin.llm.get_llm('text-davinci-003')\n",
    "meds_with_evidence_dicts = []\n",
    "ev = clin.verifiers.evidence.EvidenceVerifier()\n",
    "resps = row['resps']\n",
    "\n",
    "for i in tqdm(range(len(resps))):\n",
    "    resp = resps[i]\n",
    "    snippet = dfe.iloc[i]['snippet']\n",
    "\n",
    "    meds_with_evidence_dicts.append(ev(snippet=snippet, bulleted_str=resp, llm=llm))\n"
   ]
  },
  {
   "cell_type": "code",
   "execution_count": null,
   "metadata": {},
   "outputs": [
    {
     "name": "stdout",
     "output_type": "stream",
     "text": [
      "ativan ('active', 'ativan 1 mg p.o. q. 8 hours and use ativan 1 mg iv q. 4 hours p.r.n.')\n",
      "inderal la ('active', 'inderal la 60 mg p.o. q.d.')\n",
      "celexa ('discontinued', 'she does not want to take celexa')\n",
      "lexapro ('active', 'lexapro 2 mg p.o. q.d.')\n",
      "\n",
      "coumadin ('active', 'continue coumadin anticoagulation')\n",
      "vistaril ('discontinued', 'dc vistaril')\n",
      "percocet ('discontinued', 'change percocet to oxycodone')\n",
      "oxycodone ('active', 'oxycodone 5 mg 1-2 tablets q.3h p.r.n.')\n",
      "\n",
      "ditropan ('discontinued', 'the patient had been treated with ditropan for bladder spasms, but has not needed this for the entire past week')\n",
      "cidofovir ('active', 'the patient has received five doses of cidofovir and will receive her last on _%#mmdd2003#%_, as described earlier')\n",
      "\n",
      "zosyn ('active', \"given the patient's bilateral pleural effusions and increased left-sided infiltrate, he was treated for hospitalacquired pneumonia empirically with zosyn\")\n",
      "levofloxacin ('active', \"given the patient's bilateral pleural effusions and increased left-sided infiltrate, he was treated for hospitalacquired pneumonia empirically with...levofloxacin\")\n",
      "vancomycin ('discontinued', \"given the patient's bilateral pleural effusions and increased left-sided infiltrate, he was treated for hospitalacquired pneumonia empirically with...vancomycin. a bal was performed on _%#mmdd2005#%_; cultures from this bal did not show any growth. vancomycin was discontinued\")\n",
      "\n",
      "levaquin ('active', 'levaquin alone')\n",
      "flagyl ('discontinued', 'dc the flagyl')\n",
      "\n",
      "toprol xl ('active', 'continue her toprol xl')\n",
      "lisinopril ('active', 'continue her lisinopril')\n",
      "lasix ('active', 'continue her lasix')\n",
      "pletal ('discontinued', 'we will dc the pletal')\n",
      "\n",
      "levofloxacin ('active', 'she will be discharged on p.o. levofloxacin')\n",
      "prednisone ('active', 'p.o. prednisone 40 mg p.o. q day times one week')\n",
      "\n",
      "percocet ('discontinued', 'despite taking percocet one tablet q.4-6h')\n",
      "darvocet ('discontinued', 'change to darvocet one every four to six hours')\n",
      "tylenol ('discontinued', 'switched to tylenol yesterday noon')\n",
      "\n",
      "zosyn ('discontinued', 'dc zosyn')\n",
      "imipenem ('active', 'switch over to imipenem')\n",
      "tobramycin ('active', 'and tobramycin')\n",
      "\n",
      "6 mp ('active', 'at the time of admission include: 1. 6 mp')\n",
      "lisinopril ('active', 'at the time of admission include: 2. lisinopril')\n",
      "birth control pill ('active', 'at the time of admission include: 3. birth control pill')\n",
      "hydrochlorothiazide ('active', 'at the time of admission include: 4. hydrochlorothiazide')\n",
      "b-12 ('active', 'at the time of admission include: 5. b-12')\n",
      "percocet ('active', 'at the time of admission include: 6. percocet')\n",
      "dilaudid ('active', 'at the time of admission include: 7. dilaudid')\n",
      "\n",
      "coumadin ('active', 'he is on coumadin for his history of aortic valve replacement')\n",
      "imipenem ('discontinued', 'iv imipenem... post dc of iv imipenem')\n",
      "\n",
      "aspirin ('discontinued', 'her aspirin (81 mg q.d.) is discontinued')\n",
      "ibuprofen ('neither', 'she is advised that she needs to avoid ibuprofen')\n",
      "naprosyn ('neither', 'she is advised that she needs to avoid naprosyn')\n",
      "tylenol ('active', 'tylenol 325 mg or tylenol es (500 mg) is safe to take at 1 or 2 q.4-6h. p.r.n.')\n",
      "plavix ('active', 'plavix 75 mg p.o. q.d.')\n",
      "\n",
      "progesterone shots ('discontinued', 'the patient was on progesterone shots, which were discontinued')\n",
      "\n"
     ]
    }
   ],
   "source": [
    "for d in meds_with_evidence_dicts:\n",
    "    for k in d:\n",
    "        print(k, d[k])\n",
    "    print()"
   ]
  },
  {
   "cell_type": "code",
   "execution_count": null,
   "metadata": {},
   "outputs": [],
   "source": []
  }
 ],
 "metadata": {
  "kernelspec": {
   "display_name": ".embgam",
   "language": "python",
   "name": "python3"
  },
  "language_info": {
   "codemirror_mode": {
    "name": "ipython",
    "version": 3
   },
   "file_extension": ".py",
   "mimetype": "text/x-python",
   "name": "python",
   "nbconvert_exporter": "python",
   "pygments_lexer": "ipython3",
   "version": "3.11.3"
  },
  "orig_nbformat": 4,
  "vscode": {
   "interpreter": {
    "hash": "559535f78d940c882783b39501b2581b5193373045707e5f8a51d046029cfd38"
   }
  }
 },
 "nbformat": 4,
 "nbformat_minor": 2
}
