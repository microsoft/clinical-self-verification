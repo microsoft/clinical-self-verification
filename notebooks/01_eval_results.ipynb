{
 "cells": [
  {
   "cell_type": "code",
   "execution_count": null,
   "metadata": {},
   "outputs": [],
   "source": [
    "%load_ext autoreload\n",
    "%autoreload 2\n",
    "import os\n",
    "import matplotlib.pyplot as plt\n",
    "import seaborn as sns\n",
    "from os.path import join\n",
    "from tqdm import tqdm\n",
    "import pandas as pd\n",
    "import imodelsx.process_results\n",
    "import sys\n",
    "import datasets\n",
    "import numpy as np\n",
    "import clin.eval\n",
    "\n",
    "sys.path.append('../experiments/')\n",
    "results_dir = '../results/'"
   ]
  },
  {
   "cell_type": "code",
   "execution_count": null,
   "metadata": {},
   "outputs": [],
   "source": [
    "r = imodelsx.process_results.get_results_df(results_dir, use_cached=True)\n",
    "\n",
    "# get data for eval\n",
    "dset = datasets.load_dataset('mitclinicalml/clinical-ie', 'medication_status')\n",
    "df_val = pd.DataFrame.from_dict(dset['validation'])\n",
    "df = pd.DataFrame.from_dict(dset['test'])\n",
    "# df = pd.concat([val, test])\n",
    "nums = np.arange(len(df)).tolist()\n",
    "np.random.default_rng(seed=13).shuffle(nums)\n",
    "dfe = df.iloc[nums]\n",
    "\n",
    "# add medication status eval\n",
    "accs_cond, f1s_macro_cond = clin.eval.eval_medication_status(dfe, r)\n",
    "r['acc_cond'] = accs_cond\n",
    "r['f1_macro_cond'] = f1s_macro_cond"
   ]
  },
  {
   "cell_type": "code",
   "execution_count": null,
   "metadata": {},
   "outputs": [],
   "source": [
    "(\n",
    "    r.groupby(['checkpoint', 'n_shots'])[['f1', 'recall', 'precision', 'acc_cond', 'f1_macro_cond']].mean()\n",
    "    .style.format(precision=3).background_gradient(cmap='Blues')\n",
    ")"
   ]
  },
  {
   "cell_type": "markdown",
   "metadata": {},
   "source": [
    "# Test verifiers"
   ]
  },
  {
   "cell_type": "code",
   "execution_count": 232,
   "metadata": {},
   "outputs": [],
   "source": [
    "import clin.verifiers.evidence\n",
    "import clin.llm\n",
    "import clin.parse\n",
    "from collections import defaultdict\n",
    "import openai\n",
    "openai.api_key_path = '/home/chansingh/.OPENAI_KEY'"
   ]
  },
  {
   "cell_type": "code",
   "execution_count": 238,
   "metadata": {},
   "outputs": [
    {
     "name": "stderr",
     "output_type": "stream",
     "text": [
      "100%|██████████| 100/100 [00:00<00:00, 8131.65it/s]\n"
     ]
    }
   ],
   "source": [
    "row = r[(r.n_shots == 5) * (r.checkpoint == 'text-davinci-003')].iloc[0]\n",
    "llm = clin.llm.get_llm('text-davinci-003')\n",
    "med_status_dicts = []\n",
    "med_evidence_dicts = []\n",
    "# original run was \n",
    "ev = clin.verifiers.evidence.EvidenceVerifier(n_shots_neg=2, n_shots_pos=0)\n",
    "resps = row['resps']\n",
    "\n",
    "for i in tqdm(range(len(resps))):\n",
    "    resp = resps[i]\n",
    "    snippet = dfe.iloc[i]['snippet']\n",
    "\n",
    "    med_status_dict, med_evidence_dict = ev(snippet=snippet, bulleted_str=resp, llm=llm)\n",
    "    med_status_dicts.append(med_status_dict)\n",
    "    med_evidence_dicts.append(med_evidence_dict)"
   ]
  },
  {
   "cell_type": "code",
   "execution_count": 239,
   "metadata": {},
   "outputs": [],
   "source": [
    "med_status_dict_pruned = [\n",
    "    {\n",
    "        k: v for k, v in med_status_dicts[i].items()\n",
    "        if not med_evidence_dicts[i][k] == 'no evidence'\n",
    "    }\n",
    "    for i in range(len(med_status_dicts))\n",
    "]"
   ]
  },
  {
   "cell_type": "code",
   "execution_count": 240,
   "metadata": {},
   "outputs": [
    {
     "name": "stdout",
     "output_type": "stream",
     "text": [
      "precision 0.9245238095238095\n",
      "recall 0.9244761904761905\n",
      "f1 0.9179288489288492\n",
      "\n",
      "precision 0.9278571428571429\n",
      "recall 0.9244761904761905\n",
      "f1 0.9199288489288491\n"
     ]
    }
   ],
   "source": [
    "mets_dict = clin.eval.calculate_metrics(med_status_dicts, dfe)\n",
    "for k in mets_dict.keys():\n",
    "    print(k, np.mean(mets_dict[k]))\n",
    "print()\n",
    "mets_dict = clin.eval.calculate_metrics(med_status_dict_pruned, dfe)\n",
    "for k in mets_dict.keys():\n",
    "    print(k, np.mean(mets_dict[k]))"
   ]
  },
  {
   "cell_type": "code",
   "execution_count": null,
   "metadata": {},
   "outputs": [],
   "source": []
  }
 ],
 "metadata": {
  "kernelspec": {
   "display_name": ".embgam",
   "language": "python",
   "name": "python3"
  },
  "language_info": {
   "codemirror_mode": {
    "name": "ipython",
    "version": 3
   },
   "file_extension": ".py",
   "mimetype": "text/x-python",
   "name": "python",
   "nbconvert_exporter": "python",
   "pygments_lexer": "ipython3",
   "version": "3.11.3"
  },
  "orig_nbformat": 4,
  "vscode": {
   "interpreter": {
    "hash": "559535f78d940c882783b39501b2581b5193373045707e5f8a51d046029cfd38"
   }
  }
 },
 "nbformat": 4,
 "nbformat_minor": 2
}
