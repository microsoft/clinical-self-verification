{
 "cells": [
  {
   "cell_type": "code",
   "execution_count": 27,
   "metadata": {},
   "outputs": [
    {
     "name": "stdout",
     "output_type": "stream",
     "text": [
      "The autoreload extension is already loaded. To reload it, use:\n",
      "  %reload_ext autoreload\n"
     ]
    },
    {
     "name": "stderr",
     "output_type": "stream",
     "text": [
      "100%|██████████| 1/1 [00:00<00:00, 1015.82it/s]\n"
     ]
    },
    {
     "data": {
      "application/vnd.jupyter.widget-view+json": {
       "model_id": "0df93cdde92840ab932615ee61119619",
       "version_major": 2,
       "version_minor": 0
      },
      "text/plain": [
       "  0%|          | 0/2 [00:00<?, ?it/s]"
      ]
     },
     "metadata": {},
     "output_type": "display_data"
    }
   ],
   "source": [
    "%load_ext autoreload\n",
    "%autoreload 2\n",
    "import os\n",
    "import matplotlib.pyplot as plt\n",
    "import seaborn as sns\n",
    "from os.path import join\n",
    "from tqdm import tqdm\n",
    "import pandas as pd\n",
    "import imodelsx.process_results\n",
    "import sys\n",
    "import datasets\n",
    "import numpy as np\n",
    "from copy import deepcopy\n",
    "import clin.eval\n",
    "import clin.modules.prune\n",
    "import clin.modules.evidence\n",
    "import clin.modules.omission\n",
    "import clin.modules.status\n",
    "import clin.llm\n",
    "import clin.parse\n",
    "from collections import defaultdict\n",
    "import openai\n",
    "openai.api_key_path = '/home/chansingh/.OPENAI_KEY'\n",
    "\n",
    "sys.path.append('../experiments/')\n",
    "results_dir = '../results/'\n",
    "\n",
    "r = imodelsx.process_results.get_results_df(results_dir, use_cached=False)\n",
    "\n",
    "# get data for eval\n",
    "dset = datasets.load_dataset('mitclinicalml/clinical-ie', 'medication_status')\n",
    "df_val = pd.DataFrame.from_dict(dset['validation'])\n",
    "df = pd.DataFrame.from_dict(dset['test'])\n",
    "# df = pd.concat([val, test])\n",
    "nums = np.arange(len(df)).tolist()\n",
    "np.random.default_rng(seed=13).shuffle(nums)\n",
    "dfe = df.iloc[nums]\n",
    "n = len(dfe)\n",
    "\n",
    "# single row to investigate\n",
    "row = r[(r.n_shots == 5) * (r.checkpoint == 'text-davinci-003')].iloc[0]\n",
    "sv = clin.modules.status.StatusVerifier()\n",
    "\n",
    "# (\n",
    "#     r.groupby(['checkpoint', 'n_shots'])[['f1', 'recall', 'precision']].mean()\n",
    "#     .style.format(precision=3).background_gradient(cmap='Blues')\n",
    "# )"
   ]
  },
  {
   "cell_type": "code",
   "execution_count": 28,
   "metadata": {},
   "outputs": [
    {
     "data": {
      "text/html": [
       "<div>\n",
       "<style scoped>\n",
       "    .dataframe tbody tr th:only-of-type {\n",
       "        vertical-align: middle;\n",
       "    }\n",
       "\n",
       "    .dataframe tbody tr th {\n",
       "        vertical-align: top;\n",
       "    }\n",
       "\n",
       "    .dataframe thead th {\n",
       "        text-align: right;\n",
       "    }\n",
       "</style>\n",
       "<table border=\"1\" class=\"dataframe\">\n",
       "  <thead>\n",
       "    <tr style=\"text-align: right;\">\n",
       "      <th>metric</th>\n",
       "      <th>f1</th>\n",
       "      <th>precision</th>\n",
       "      <th>recall</th>\n",
       "    </tr>\n",
       "    <tr>\n",
       "      <th>verification</th>\n",
       "      <th></th>\n",
       "      <th></th>\n",
       "      <th></th>\n",
       "    </tr>\n",
       "  </thead>\n",
       "  <tbody>\n",
       "    <tr>\n",
       "      <th>ev</th>\n",
       "      <td>0.918</td>\n",
       "      <td>0.918</td>\n",
       "      <td>0.918</td>\n",
       "    </tr>\n",
       "    <tr>\n",
       "      <th>original</th>\n",
       "      <td>0.919</td>\n",
       "      <td>0.918</td>\n",
       "      <td>0.921</td>\n",
       "    </tr>\n",
       "    <tr>\n",
       "      <th>ov</th>\n",
       "      <td>0.906</td>\n",
       "      <td>0.870</td>\n",
       "      <td>0.944</td>\n",
       "    </tr>\n",
       "    <tr>\n",
       "      <th>ov_pv</th>\n",
       "      <td>0.936</td>\n",
       "      <td>0.946</td>\n",
       "      <td>0.926</td>\n",
       "    </tr>\n",
       "    <tr>\n",
       "      <th>ov_pv_ev</th>\n",
       "      <td>0.938</td>\n",
       "      <td>0.949</td>\n",
       "      <td>0.926</td>\n",
       "    </tr>\n",
       "    <tr>\n",
       "      <th>pv</th>\n",
       "      <td>0.926</td>\n",
       "      <td>0.948</td>\n",
       "      <td>0.906</td>\n",
       "    </tr>\n",
       "  </tbody>\n",
       "</table>\n",
       "</div>"
      ],
      "text/plain": [
       "metric           f1  precision  recall\n",
       "verification                          \n",
       "ev            0.918      0.918   0.918\n",
       "original      0.919      0.918   0.921\n",
       "ov            0.906      0.870   0.944\n",
       "ov_pv         0.936      0.946   0.926\n",
       "ov_pv_ev      0.938      0.949   0.926\n",
       "pv            0.926      0.948   0.906"
      ]
     },
     "execution_count": 28,
     "metadata": {},
     "output_type": "execute_result"
    }
   ],
   "source": [
    "# compare values for a single row\n",
    "row_df = r[(r.n_shots == 5) * (r.checkpoint == 'text-davinci-003')]\n",
    "rc = row_df[[c for c in row_df.columns if '___' in c]]\n",
    "# create multindex columns by splitting on '___'\n",
    "rc = rc.rename(columns={c: tuple(c.split('___')) for c in rc.columns})\n",
    "\n",
    "# convert tuple column names to multiindex\n",
    "rc.columns = pd.MultiIndex.from_tuples(rc.columns)\n",
    "rc = rc.T.reset_index()\n",
    "rc = rc.rename(columns={\n",
    "    'level_0': 'metric',\n",
    "    'level_1': 'verification',\n",
    "}).pivot_table(index='verification', columns='metric', values=0).round(3)\n",
    "rc"
   ]
  },
  {
   "cell_type": "code",
   "execution_count": 29,
   "metadata": {},
   "outputs": [],
   "source": [
    "# print errs\n",
    "# mets = clin.eval.calculate_metrics(row['dict_ov_pv_ev'], dfe, verbose=True)"
   ]
  },
  {
   "attachments": {},
   "cell_type": "markdown",
   "metadata": {},
   "source": [
    "# Test on medication status"
   ]
  },
  {
   "cell_type": "code",
   "execution_count": 30,
   "metadata": {},
   "outputs": [],
   "source": [
    "settings = [k for k in row.keys() if k.startswith('dict_') and not k.startswith('dict_evidence')]\n",
    "med_status_dicts_list = [row[k] for k in settings]"
   ]
  },
  {
   "cell_type": "code",
   "execution_count": 32,
   "metadata": {},
   "outputs": [
    {
     "name": "stderr",
     "output_type": "stream",
     "text": [
      "100%|██████████| 7/7 [00:00<00:00, 529.11it/s]"
     ]
    },
    {
     "name": "stdout",
     "output_type": "stream",
     "text": [
      "defaultdict(<class 'list'>, {'acc_cond': [0.8878205128205128, 0.8910256410256411, 0.8878205128205128, 0.8878205128205128, 0.8910256410256411, 0.8782051282051282, 0.8782051282051282], 'f1_macro_cond': [0.6603305629205868, 0.6625776019715414, 0.6603305629205868, 0.6603305629205868, 0.6625776019715414, 0.6059983502202301, 0.6059983502202301], 'index': ['dict_original', 'dict_ov', 'dict_pv', 'dict_ev', 'dict_ov_pv', 'dict_ov_pv_ev', 'dict_sv']})\n"
     ]
    },
    {
     "name": "stderr",
     "output_type": "stream",
     "text": [
      "\n"
     ]
    },
    {
     "data": {
      "text/html": [
       "<style type=\"text/css\">\n",
       "#T_c0317_row0_col0, #T_c0317_row2_col0, #T_c0317_row3_col0 {\n",
       "  background-color: #2171b5;\n",
       "  color: #f1f1f1;\n",
       "}\n",
       "#T_c0317_row0_col1, #T_c0317_row2_col1, #T_c0317_row3_col1 {\n",
       "  background-color: #083a7a;\n",
       "  color: #f1f1f1;\n",
       "}\n",
       "#T_c0317_row1_col0, #T_c0317_row1_col1, #T_c0317_row4_col0, #T_c0317_row4_col1 {\n",
       "  background-color: #08306b;\n",
       "  color: #f1f1f1;\n",
       "}\n",
       "#T_c0317_row5_col0, #T_c0317_row5_col1, #T_c0317_row6_col0, #T_c0317_row6_col1 {\n",
       "  background-color: #f7fbff;\n",
       "  color: #000000;\n",
       "}\n",
       "</style>\n",
       "<table id=\"T_c0317\">\n",
       "  <thead>\n",
       "    <tr>\n",
       "      <th class=\"blank level0\" >&nbsp;</th>\n",
       "      <th id=\"T_c0317_level0_col0\" class=\"col_heading level0 col0\" >acc_cond</th>\n",
       "      <th id=\"T_c0317_level0_col1\" class=\"col_heading level0 col1\" >f1_macro_cond</th>\n",
       "    </tr>\n",
       "    <tr>\n",
       "      <th class=\"index_name level0\" >index</th>\n",
       "      <th class=\"blank col0\" >&nbsp;</th>\n",
       "      <th class=\"blank col1\" >&nbsp;</th>\n",
       "    </tr>\n",
       "  </thead>\n",
       "  <tbody>\n",
       "    <tr>\n",
       "      <th id=\"T_c0317_level0_row0\" class=\"row_heading level0 row0\" >dict_original</th>\n",
       "      <td id=\"T_c0317_row0_col0\" class=\"data row0 col0\" >0.888</td>\n",
       "      <td id=\"T_c0317_row0_col1\" class=\"data row0 col1\" >0.660</td>\n",
       "    </tr>\n",
       "    <tr>\n",
       "      <th id=\"T_c0317_level0_row1\" class=\"row_heading level0 row1\" >dict_ov</th>\n",
       "      <td id=\"T_c0317_row1_col0\" class=\"data row1 col0\" >0.891</td>\n",
       "      <td id=\"T_c0317_row1_col1\" class=\"data row1 col1\" >0.663</td>\n",
       "    </tr>\n",
       "    <tr>\n",
       "      <th id=\"T_c0317_level0_row2\" class=\"row_heading level0 row2\" >dict_pv</th>\n",
       "      <td id=\"T_c0317_row2_col0\" class=\"data row2 col0\" >0.888</td>\n",
       "      <td id=\"T_c0317_row2_col1\" class=\"data row2 col1\" >0.660</td>\n",
       "    </tr>\n",
       "    <tr>\n",
       "      <th id=\"T_c0317_level0_row3\" class=\"row_heading level0 row3\" >dict_ev</th>\n",
       "      <td id=\"T_c0317_row3_col0\" class=\"data row3 col0\" >0.888</td>\n",
       "      <td id=\"T_c0317_row3_col1\" class=\"data row3 col1\" >0.660</td>\n",
       "    </tr>\n",
       "    <tr>\n",
       "      <th id=\"T_c0317_level0_row4\" class=\"row_heading level0 row4\" >dict_ov_pv</th>\n",
       "      <td id=\"T_c0317_row4_col0\" class=\"data row4 col0\" >0.891</td>\n",
       "      <td id=\"T_c0317_row4_col1\" class=\"data row4 col1\" >0.663</td>\n",
       "    </tr>\n",
       "    <tr>\n",
       "      <th id=\"T_c0317_level0_row5\" class=\"row_heading level0 row5\" >dict_ov_pv_ev</th>\n",
       "      <td id=\"T_c0317_row5_col0\" class=\"data row5 col0\" >0.878</td>\n",
       "      <td id=\"T_c0317_row5_col1\" class=\"data row5 col1\" >0.606</td>\n",
       "    </tr>\n",
       "    <tr>\n",
       "      <th id=\"T_c0317_level0_row6\" class=\"row_heading level0 row6\" >dict_sv</th>\n",
       "      <td id=\"T_c0317_row6_col0\" class=\"data row6 col0\" >0.878</td>\n",
       "      <td id=\"T_c0317_row6_col1\" class=\"data row6 col1\" >0.606</td>\n",
       "    </tr>\n",
       "  </tbody>\n",
       "</table>\n"
      ],
      "text/plain": [
       "<pandas.io.formats.style.Styler at 0x7f333c17f350>"
      ]
     },
     "execution_count": 32,
     "metadata": {},
     "output_type": "execute_result"
    }
   ],
   "source": [
    "# add medication status eval\n",
    "# med_status_dicts_list = [[clin.parse.parse_response_medication_list(r.iloc[i]['resps'][j]) for j in range(n)] for i in range(len(r))]\n",
    "d = defaultdict(list)\n",
    "accs_cond, f1s_macro_cond = clin.eval.eval_medication_status(med_status_dicts_list, dfe)\n",
    "d['acc_cond'] = accs_cond\n",
    "d['f1_macro_cond'] = f1s_macro_cond\n",
    "d['index'] = settings\n",
    "print(d)\n",
    "(\n",
    "    pd.DataFrame.from_dict(d).set_index('index') #[['acc_cond', 'f1_macro_cond']]\n",
    "    .style.format(precision=3).background_gradient(cmap='Blues')\n",
    ")"
   ]
  },
  {
   "cell_type": "code",
   "execution_count": 36,
   "metadata": {},
   "outputs": [
    {
     "name": "stderr",
     "output_type": "stream",
     "text": [
      "[autoreload of clin.modules.status failed: Traceback (most recent call last):\n",
      "  File \"/home/chansingh/imodelsx/.venv/lib/python3.11/site-packages/IPython/extensions/autoreload.py\", line 273, in check\n",
      "    superreload(m, reload, self.old_objects)\n",
      "  File \"/home/chansingh/imodelsx/.venv/lib/python3.11/site-packages/IPython/extensions/autoreload.py\", line 471, in superreload\n",
      "    module = reload(module)\n",
      "             ^^^^^^^^^^^^^^\n",
      "  File \"/usr/lib/python3.11/importlib/__init__.py\", line 169, in reload\n",
      "    _bootstrap._exec(spec, module)\n",
      "  File \"<frozen importlib._bootstrap>\", line 621, in _exec\n",
      "  File \"<frozen importlib._bootstrap_external>\", line 940, in exec_module\n",
      "  File \"<frozen importlib._bootstrap>\", line 241, in _call_with_frames_removed\n",
      "  File \"/home/chansingh/clinical-extract-and-check/clin/modules/status.py\", line 12, in <module>\n",
      "    _%#NAME#%_ tolerated his chemotherapy well with minimal nausea and no emesis. At the time of discharge, he was in no apparent distress and was afebrile. He went home with daily doses of 6 MP which they plan to crush, at home, to help swallowing. Also at the time of his discharge he was switched from dapsone to Bactrim, which was also to be crushed and mixed in with his food for PCP prophylaxis. {EX_0_NEITHER_ADDITION}\n",
      "                                                                                                                                                                                                                                                                                                                                                                                                                   ^^^^^^^^^^^^^^^^^^^^^\n",
      "NameError: name 'EX_0_NEITHER_ADDITION' is not defined\n",
      "]\n"
     ]
    },
    {
     "data": {
      "text/plain": [
       "index                                                                       6\n",
       "snippet                     I will recommend discontinuing the alcohol wit...\n",
       "active_medications                        [\"Lexapro\", \"Ativan\", \"Inderal LA\"]\n",
       "discontinued_medications                                                   []\n",
       "neither_medications                                                [\"Celexa\"]\n",
       "Name: 1, dtype: object"
      ]
     },
     "execution_count": 36,
     "metadata": {},
     "output_type": "execute_result"
    }
   ],
   "source": [
    "dfe.iloc[0]"
   ]
  },
  {
   "cell_type": "code",
   "execution_count": null,
   "metadata": {},
   "outputs": [],
   "source": []
  }
 ],
 "metadata": {
  "kernelspec": {
   "display_name": ".embgam",
   "language": "python",
   "name": "python3"
  },
  "language_info": {
   "codemirror_mode": {
    "name": "ipython",
    "version": 3
   },
   "file_extension": ".py",
   "mimetype": "text/x-python",
   "name": "python",
   "nbconvert_exporter": "python",
   "pygments_lexer": "ipython3",
   "version": "3.11.3"
  },
  "orig_nbformat": 4,
  "vscode": {
   "interpreter": {
    "hash": "559535f78d940c882783b39501b2581b5193373045707e5f8a51d046029cfd38"
   }
  }
 },
 "nbformat": 4,
 "nbformat_minor": 2
}
