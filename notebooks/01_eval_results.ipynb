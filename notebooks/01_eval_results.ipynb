{
 "cells": [
  {
   "cell_type": "code",
   "execution_count": 1,
   "metadata": {},
   "outputs": [],
   "source": [
    "%load_ext autoreload\n",
    "%autoreload 2\n",
    "import os\n",
    "import matplotlib.pyplot as plt\n",
    "import seaborn as sns\n",
    "from os.path import join\n",
    "from tqdm import tqdm\n",
    "import pandas as pd\n",
    "import joblib\n",
    "import notebook_helper\n",
    "import sys\n",
    "sys.path.append('../experiments/')\n",
    "results_dir = '../results/'"
   ]
  },
  {
   "attachments": {},
   "cell_type": "markdown",
   "metadata": {},
   "source": [
    "Load the results into a pandas dataframe"
   ]
  },
  {
   "cell_type": "code",
   "execution_count": 2,
   "metadata": {},
   "outputs": [
    {
     "name": "stderr",
     "output_type": "stream",
     "text": [
      "100%|██████████| 3/3 [00:00<00:00, 1721.09it/s]\n"
     ]
    }
   ],
   "source": [
    "dir_names = sorted([fname\n",
    "                    for fname in os.listdir(results_dir)\n",
    "                    if os.path.isdir(join(results_dir, fname))\n",
    "                    and os.path.exists(join(results_dir, fname, 'results.pkl'))\n",
    "                    ])\n",
    "results_list = []\n",
    "for dir_name in tqdm(dir_names):\n",
    "    ser = pd.Series(\n",
    "        joblib.load(join(results_dir, dir_name, 'results.pkl')))\n",
    "    results_list.append(ser)\n",
    "\n",
    "r = pd.concat(results_list, axis=1).T.infer_objects()\n",
    "r.to_pickle(join(results_dir, 'results_aggregated.pkl'))"
   ]
  },
  {
   "cell_type": "code",
   "execution_count": 3,
   "metadata": {},
   "outputs": [
    {
     "data": {
      "text/html": [
       "<div>\n",
       "<style scoped>\n",
       "    .dataframe tbody tr th:only-of-type {\n",
       "        vertical-align: middle;\n",
       "    }\n",
       "\n",
       "    .dataframe tbody tr th {\n",
       "        vertical-align: top;\n",
       "    }\n",
       "\n",
       "    .dataframe thead th {\n",
       "        text-align: right;\n",
       "    }\n",
       "</style>\n",
       "<table border=\"1\" class=\"dataframe\">\n",
       "  <thead>\n",
       "    <tr style=\"text-align: right;\">\n",
       "      <th></th>\n",
       "      <th>dataset_name</th>\n",
       "      <th>seed</th>\n",
       "      <th>save_dir</th>\n",
       "      <th>checkpoint</th>\n",
       "      <th>n_shots</th>\n",
       "      <th>use_cache</th>\n",
       "      <th>save_dir_unique</th>\n",
       "      <th>resps</th>\n",
       "      <th>precision</th>\n",
       "      <th>recall</th>\n",
       "    </tr>\n",
       "  </thead>\n",
       "  <tbody>\n",
       "    <tr>\n",
       "      <th>0</th>\n",
       "      <td>medication_status</td>\n",
       "      <td>1</td>\n",
       "      <td>/home/chansingh/clinical-extract-and-check/res...</td>\n",
       "      <td>gpt-4-0314</td>\n",
       "      <td>0</td>\n",
       "      <td>1</td>\n",
       "      <td>/home/chansingh/clinical-extract-and-check/res...</td>\n",
       "      <td>[Gatifloxacin: initiated for encapsulated orga...</td>\n",
       "      <td>0.075340</td>\n",
       "      <td>0.092540</td>\n",
       "    </tr>\n",
       "    <tr>\n",
       "      <th>1</th>\n",
       "      <td>medication_status</td>\n",
       "      <td>1</td>\n",
       "      <td>/home/chansingh/clinical-extract-and-check/res...</td>\n",
       "      <td>gpt-4-0314</td>\n",
       "      <td>1</td>\n",
       "      <td>1</td>\n",
       "      <td>/home/chansingh/clinical-extract-and-check/res...</td>\n",
       "      <td>[\"Gatifloxacin\" (initiated)\\n- \"Acyclovir\" (pr...</td>\n",
       "      <td>0.781882</td>\n",
       "      <td>0.873197</td>\n",
       "    </tr>\n",
       "    <tr>\n",
       "      <th>2</th>\n",
       "      <td>medication_status</td>\n",
       "      <td>1</td>\n",
       "      <td>/home/chansingh/clinical-extract-and-check/res...</td>\n",
       "      <td>gpt-4-0314</td>\n",
       "      <td>5</td>\n",
       "      <td>1</td>\n",
       "      <td>/home/chansingh/clinical-extract-and-check/res...</td>\n",
       "      <td>[\"gatifloxacin\" (active)\\n- \"acyclovir\" (activ...</td>\n",
       "      <td>0.872925</td>\n",
       "      <td>0.890113</td>\n",
       "    </tr>\n",
       "  </tbody>\n",
       "</table>\n",
       "</div>"
      ],
      "text/plain": [
       "        dataset_name  seed                                           save_dir   \n",
       "0  medication_status     1  /home/chansingh/clinical-extract-and-check/res...  \\\n",
       "1  medication_status     1  /home/chansingh/clinical-extract-and-check/res...   \n",
       "2  medication_status     1  /home/chansingh/clinical-extract-and-check/res...   \n",
       "\n",
       "   checkpoint  n_shots  use_cache   \n",
       "0  gpt-4-0314        0          1  \\\n",
       "1  gpt-4-0314        1          1   \n",
       "2  gpt-4-0314        5          1   \n",
       "\n",
       "                                     save_dir_unique   \n",
       "0  /home/chansingh/clinical-extract-and-check/res...  \\\n",
       "1  /home/chansingh/clinical-extract-and-check/res...   \n",
       "2  /home/chansingh/clinical-extract-and-check/res...   \n",
       "\n",
       "                                               resps  precision    recall  \n",
       "0  [Gatifloxacin: initiated for encapsulated orga...   0.075340  0.092540  \n",
       "1  [\"Gatifloxacin\" (initiated)\\n- \"Acyclovir\" (pr...   0.781882  0.873197  \n",
       "2  [\"gatifloxacin\" (active)\\n- \"acyclovir\" (activ...   0.872925  0.890113  "
      ]
     },
     "execution_count": 3,
     "metadata": {},
     "output_type": "execute_result"
    }
   ],
   "source": [
    "r"
   ]
  },
  {
   "cell_type": "code",
   "execution_count": 4,
   "metadata": {},
   "outputs": [
    {
     "data": {
      "text/plain": [
       "['Gatifloxacin: initiated for encapsulated organism prophylaxis at discharge\\n- Acyclovir: prophylactic therapy through day 100\\n- Bactrim: active for PCP prophylaxis\\n- Systemic steroids: weaned (discontinued)\\n- Cyclosporin: discontinued during last admission',\n",
       " 'Levothyroxine 0.15 mg p.o. q.d.: Discontinued',\n",
       " 'Azithromycin: Discontinued (after a full 7-day course)\\n- Clindamycin: Active\\n- Ceftriaxone: Discontinued (after a full 7-day course)',\n",
       " 'Lipitor: discontinued\\n- Zocor: active\\n- Haldol: active\\n- TSH: neither (test result)\\n- T3: neither (test result)\\n- Free T4: neither (test result)',\n",
       " 'NS 75 cc/h for 6 hours only: Active\\n- Hold lasix today: Discontinued\\n- Discontinue lisinopril: Discontinued\\n- Continue metoprolol: Active\\n- EC ASA 81 mg QD: Active',\n",
       " 'Darvocet: Active\\n- Cozaar: Resuming (Active)\\n- IV fluids: Discontinued',\n",
       " 'Zithromax: Active (will add atypical coverage)\\n- Levaquin: Discontinued',\n",
       " 'Fentanyl patch 75 micrograms (active)\\n- Percocet (discontinued)\\n- OxyContin IR (active)\\n- Gemzar chemotherapy (active)',\n",
       " 'Progesterone shots: Discontinued on _%#MMDD2006#%_\\n- No other medications mentioned',\n",
       " 'Vancomycin: Restart (active)\\n- Zosyn: Discontinue (discontinued)',\n",
       " 'Protonix drip: discontinued\\n- p.o. Protonix: active\\n- Sliding scale (for diabetes): active',\n",
       " 'Lactulose: Active\\n- Ammonia levels: Evaluate\\n- Rifampin: Active\\n- Inderal-S: Discontinued\\n- GI consult: Requested (neither active nor discontinued)',\n",
       " 'Metformin: Discontinued\\n- Humalog 75/25 insulin: Active (with adjusted doses)\\n- Lantus insulin: Added (10 units q.h.s)\\n- Multivitamin tablet: Active (daily)\\n- Amoxicillin: Allergy\\n- Rocephin: Allergy',\n",
       " 'Kadian: active (home dose to be resumed)\\n- Dilaudid IV: discontinued (DC)\\n- Levaquin: active (continue for now)',\n",
       " 'Coumadin: discontinued after discharge from FSH\\n- Aspirin: active (planned for discharge)',\n",
       " 'Voriconazole: Discontinued\\n- Itraconazole 200 mg solution: Active (twice a day)\\n- Prilosec: Active',\n",
       " 'Dilantin: Active\\n- Evening medications (unspecified): Active\\n- Blood pressure medicines (unspecified): Altered for one day\\n- Florinef: Discontinued\\n- Beta blocker (50 mg q.a.m.): Active',\n",
       " 'Antibiotics (unspecified): Active\\n- IV Imipenem: Discontinued (post DC)\\n- Coumadin: Active',\n",
       " 'Zosyn - Discontinued\\n- Imipenem - Active\\n- Tobramycin - Active',\n",
       " 'Levaquin: active, switch to oral, continue for another 7 days\\n- Flagyl: discontinue, as diverticulitis is unlikely\\n- FUO workup: consider if fever relapses or worsens, diagnosis currently unclear',\n",
       " 'Bactrim: Active\\n- No other medications mentioned',\n",
       " 'Lupron: Active\\n- Partial irradiation (45 Gy): Discontinued',\n",
       " 'Benadryl: Active\\n- Prednisone 20 mg: Active\\n- Atarax 25 mg: Active (t.i.d. p.r.n. for itching)\\n- ACE inhibitors: Discontinued\\n- Hydrochlorothiazide: Active\\n- Glucophage: Active\\n- Accu-Cheks: Active',\n",
       " 'Norpace 100 mg bid (active)\\n- Lanoxin 0.125 mg qd (active)\\n- Imdur 120 mg qd (active)\\n- Cardizem 240 mg qd (active)\\n- Ecotrin 325 mg qd (active)\\n- Prilosec 20 mg qd (active)\\n- Advair 50/150 bid (active)\\n- ES Tylenol (active)\\n- Penicillin (allergy)\\n- Sulfa (allergy)\\n- Codeine (allergy)\\n- Levaquin (adverse GI reaction)',\n",
       " 'Albuterol (metered dose inhaler): Active, p.r.n. (two puffs q.4 h. p.r.n. shortness of breath/wheeze)\\n- Advair 100/50: Active, one inhalation b.i.d. (for three to four months empirically)\\n- Advair 100/50: Discontinued (if patient remains stable and is doing much better after three to four months)',\n",
       " 'Spironolactone: Discontinued\\n- ACE inhibitor: Active',\n",
       " 'Abiotrophia: Ignore (neither active nor discontinued)\\n- IV vancomycin: Discontinue\\n- Levaquin: Discontinue after the current dose\\n- C-Difficile: Prioritize (active)',\n",
       " 'Danazol 200 mg p.o. b.i.d: Active\\n- Bactrim: Discontinued\\n- Prilosec 20 mg p.o. daily: Active (to stop taking when platelet count is above 20,000)',\n",
       " 'Detrol-LA: Discontinued\\n- Urecholine 25 mg: Active (trial)\\n- Oxycodone IR 10-20 mg: Active (p.r.n.)\\n- Duragesic: Active (potential increase)',\n",
       " 'IVF: Discontinued\\n- Lasix 20 mg IV BID: Active (today), changing to 40 mg PO QD tomorrow\\n- Lisinopril: Active\\n- Metoprolol: Active\\n- EC ASA 81 mg QD: Active',\n",
       " 'Lupron (prostate cancer therapy): Active\\n- Casodex (prostate cancer therapy): Active\\n- Doxepin (pruritus treatment): Discontinued\\n- Ciprofloxacin (SBP prophylaxis): Discontinued',\n",
       " 'Zantac 150\\n  - Active (to be potentially stopped over time)\\n- Prinivil 20 mg\\n  - Active\\n- Metoprolol\\n  - Active (to be potentially diminished or discontinued next week)\\n- Catecholamine 24 hours\\n  - Pending',\n",
       " 'Effexor: Restart at 112.5 mg p.o. q day (Active)\\n- Trazodone: Start at 50-100 mg q h.s. (Active)\\n- Zyprexa: Start at 2.5 mg q h.s. (Active)\\n- 15 minute checks: Discontinue (Discontinued)\\n- ITC care: Continue (Neither, as it is not a medication)',\n",
       " 'Levofloxacin: Active\\n- Prednisone 40 mg: Active for one week, then Discontinued',\n",
       " 'Insulin sliding scale (medium intensity with Accu-Chek): Active while in the hospital\\n- Actos (50 mg p.o. daily): Active, continue\\n- IV fluid containing D5: Discontinued\\n- Synthroid (25 mcg daily): Active, continue\\n- Zocor: Active, continue',\n",
       " 'Amaryl: Hold (neither active nor discontinued)\\n- Accu-Cheks: Active\\n- Sliding scale: Active\\n- Nausea medication: Not mentioned (neither active nor discontinued)\\n- Narcotics: Discontinued\\n- Pain pills: Discontinued\\n- Tylenol: Active\\n- Protonex: Active\\n- Isordil: Discontinued',\n",
       " 'Dobutamine: Discontinued\\n- Dopamine: Active\\n- Potassium replacement: Active\\n- Antibiotics (specific type not mentioned): Pending results of urine cultures and blood cultures\\n- TSH test: Scheduled for the morning\\n- NP swab for influenza: Sent for testing',\n",
       " 'Vancomycin: Discontinued (switched to Unasyn)\\n- Unasyn: Discontinued (switched to Augmentin)\\n- Augmentin 875 mg p.o. b.i.d: Discontinued (on discharge after 12 days of treatment)\\n- Ribavirin: Neither (mentioned in context of post-therapy testing)\\n- Pentamidine: Active (for PCP prophylaxis)\\n- Bactrim: Neither (mentioned as not used due to low counts)',\n",
       " \"Beta blocker (12.5 mg p.o. b.i.d. with parameters): Active\\n- Metformin: Discontinued\\n- Accu-Cheks (q.4h. per protocol): Active\\n- N.P.O. (in anticipation of surgery): Neither (it's a dietary restriction, not a medication)\",\n",
       " '6 MP (active)\\n- Lisinopril (active)\\n- Birth control pill (active)\\n- Hydrochlorothiazide (active)\\n- B-12 (active)\\n- Percocet (active)\\n- Dilaudid (active)',\n",
       " 'Cozaar: Active\\n- Hydrochlorothiazide: Discontinued\\n- Ciprofloxacin: Discontinued\\n- Psychiatric medications: Active',\n",
       " 'Timentin (IV): Discontinued\\n- Augmentin (p.o.): Active',\n",
       " 'VAD (active during 2002-2003, discontinued)\\n- Zometa (active, monthly)\\n- Bactrim (discontinued, caused nausea and vomiting)\\n- Atovaquone (active, switched from Bactrim)',\n",
       " 'Aspirin: Allergy\\n- Penicillin: Allergy\\n- Coreg: Discontinued (adverse reaction)',\n",
       " 'Lipase: Active (level 51)\\n- INR: Active (0.97)\\n- Blood transfusion: Cross matched for two units of blood\\n- B-12: Check levels (neither active nor discontinued)\\n- Folate: Check levels (neither active nor discontinued)\\n- Retic count: Check levels (neither active nor discontinued)\\n- Peripheral smear: Check levels (neither active nor discontinued)\\n- NSAIDs: Discontinued\\n- Aspirin: Discontinued',\n",
       " 'Prograf: Discontinued (held due to increased BUN and creatinine)\\n- Dapsone: Active (started for PCP prophylaxis)\\n- Bactrim: Neither (not tolerated due to sulfa allergy)',\n",
       " 'Morphine\\n  - Active: 60 mg Contin t.i.d., 15 mg IR\\n  - Discontinued: None mentioned\\n  - Neither: None mentioned\\n\\nFentanyl\\n  - Active: 100 mcg\\n  - Discontinued: None mentioned\\n  - Neither: None mentioned\\n\\nSpinal Analgesia\\n  - Active: None mentioned\\n  - Discontinued: None mentioned\\n  - Neither: Used for total knee replacement anesthesia\\n\\nFemoral Nerve Block\\n  - Active: None mentioned\\n  - Discontinued: None mentioned\\n  - Neither: Used for total knee replacement anesthesia\\n\\nPCA Morphine\\n  - Active: Bolus only, used over the last 12 hours (70.8 mg in a 12-hour time period or 141 mg in a 24-hour time period)\\n  - Discontinued: None mentioned\\n  - Neither: None mentioned',\n",
       " 'Bactrim treatment: Discontinued\\n- Clindamycin: Active\\n- Primaquine: Active',\n",
       " 'Lopressor (chronically taken): Active\\n- IV Lopressor: Discontinued\\n- Lopressor p.o.: Active\\n- Medication for bronchospasm (not specified): Neither (potential future adjustment)',\n",
       " 'Percocet: Discontinued after first couple days\\n- Darvocet: Discontinued after constipation issue\\n- Tylenol: Active, last dose taken last night',\n",
       " 'Capsule study: Neither (diagnostic procedure, not a medication)\\n- 6 MP: Discontinued (switched to IV Imuran)\\n- IV Imuran: Active (switched from 6 MP for faster efficacy)\\n- Remicade: Active (received second dose on _%#MMDD2006#%_)',\n",
       " 'Hydrochlorothiazide: Discontinued (Recommend DC hydrochlorothiazide)',\n",
       " 'Ativan 1 mg p.o. q. 8 hours: Active\\n- Ativan 1 mg IV q. 4 hours p.r.n. for agitation: Active\\n- Inderal LA 60 mg p.o. q.d.: Active\\n- Celexa: Discontinued\\n- Lexapro 2 mg p.o. q.d.: Active',\n",
       " 'Lasix: started on postoperative day 1, switched to Bumex on postoperative day 3, switched back to p.o. Lasix on the final day (active)\\n- Bumex: started on postoperative day 3, discontinued on the final day (discontinued)',\n",
       " 'Caffeine citrate: Discontinued',\n",
       " 'Coumadin (active)\\n- Verapamil (parameters mentioned, but not specified if active or discontinued)\\n- Vistaril (discontinued)\\n- Percocet (discontinued)\\n- Oxycodone 5 mg (active)',\n",
       " '6 MP: Active (daily doses, crushed at home)\\n- Dapsone: Discontinued (switched to Bactrim)\\n- Bactrim: Active (crushed and mixed in with food for PCP prophylaxis)',\n",
       " 'Citrucel: active (one tablespoon p.o. q. day)\\n- Colace: discontinued\\n- Dulcolax: active (10 mg per rectum q12h p.r.n. constipation, first dose if no bowel movement before 6 p.m.)\\n- Senokot S: active (one tablet p.o. b.i.d. p.r.n.)',\n",
       " 'Gengraf: Discontinued (switched to Neoral)\\n- Neoral: Active (switched from Gengraf)\\n- Continuous bladder irrigation: Discontinued (stopped on _%#MM#%_ _%#DD#%_, 2004)\\n- Foley: Removed (on _%#MM#%_ _%#DD#%_, 2004)',\n",
       " 'Penicillin VK: Active (prophylactic dose)\\n- Vancomycin: Discontinued\\n- Voriconazole: Active',\n",
       " 'Vancomycin: Active\\n- Ceftazidime: Discontinued\\n- PD fluid: Active',\n",
       " 'Daunorubicin: Active (consolidation)\\n- ATRA: Active (increased after relapse)\\n- Methotrexate: Discontinued (after consolidation)\\n- Induction chemotherapy: Active (after relapse)\\n- Ara-C containing regimen: Active (switched to in 2005)',\n",
       " 'Zosyn: active\\n- Levofloxacin: active\\n- Vancomycin: discontinued',\n",
       " \"Fortaz: Active\\n- Vancomycin: Active\\n- Clindamycin: Discontinued\\n- Tobramycin: One dose given\\n- Swab culture: Neither (it's a diagnostic test, not a medication)\",\n",
       " 'Zosyn: Active\\n- Tobra: Discontinued\\n- Levaquin: Added (orally)',\n",
       " 'Dilaudid IV: Active (for break through pain)\\n- Percocet: Discontinued (not of much help)\\n- Oxycodone IR 10 mg: Active (every 4 hours p.r.n., tolerable pain control)',\n",
       " 'Lovenox: Increase to 100 mg subcu b.i.d. (active), discontinue 24 hours prior to next surgery (discontinued)\\n- Aspirin: Hold until after next scheduled surgery (neither)\\n- Coumadin: Hold until after next scheduled surgery (neither)\\n- Lopressor: Hold for SBP less than 110 (active)\\n- Lasix: Hold for SBP less than 110 (active)\\n- Spironolactone: Hold for SBP less than 110 (active)\\n- Metoprolol: Hold for pulse less than 55 (active)\\n- Glyburide: Hold for blood sugar less than 100 (active)\\n- IV fluid (normal saline plus 20 KCl): Change to 125 ml per hour (active)',\n",
       " 'Vancomycin: Active\\n- Tobramycin: Active\\n- Clindamycin: Active\\n- Levaquin: Active (switched to at discharge)',\n",
       " 'OxyContin: Active\\n- Oxycodone: Active\\n- Coumadin: Active\\n- Enoxaparin: Active (to be discontinued once therapeutic INR is achieved)',\n",
       " 'Ambien 5-10 mg p.o. each day at bedtime p.r.n. insomnia: Active\\n- Vicodin one to two tabs p.o. q.6 hours p.r.n. pain: Active\\n- Noroxin 400 mg p.o. q. day for SBP prophylaxis: Active\\n- Flagyl 500 mg p.o. q.i.d.: Discontinued\\n- Lasix: Discontinued',\n",
       " 'Valium: Active\\n- Ativan: Discontinued\\n- Seroquel: Active\\n- Cymbalta: Active',\n",
       " 'Prednisone: Discontinued\\n- Decadron 10 mg t.i.d.: Active',\n",
       " 'Prozac 60 mg daily by mouth (Active)\\n- Regular insulin sliding scale (Active)\\n- Lantus insulin 6 units q.p.m. at 1800 (Active)\\n- Zosyn 3.375 gm IV q.6 h. (Active until _%#DD#%_, then Discontinued)',\n",
       " 'High dose acyclovir: Discontinued\\n- Sinusitis and esophagitis: Active\\n- TMP-SMX prophylaxis: Discontinued\\n- Pentamidine: Active (for PCP prophylaxis)\\n- Linezolid: Active (possibly contributing to neutropenia)\\n- Trimethoprim sulfa: Active (possibly contributing to neutropenia)',\n",
       " 'MS Contin: Discontinued\\n- Tylenol: Active (regular scheduled)\\n- Vicodin: Active (p.r.n. pain, use with caution)',\n",
       " 'Enteric Flagyl 250 mg q.i.d. (active, pending C. difficile toxin)\\n- Zosyn (active, may change if drug rash develops)\\n- Clindamycin (potential alternative to Zosyn if drug rash develops)\\n- Aztreonam (potential alternative to Zosyn if drug rash develops)\\n- Ciprofloxacin (discontinued)',\n",
       " 'Xeloda: Discontinued (used between 2002 and 2003)\\n- Etoposide: Active (started recently)\\n- Leucovorin: Active (started recently)\\n- 5-FU: Active (started recently)',\n",
       " 'Lisinopril: Active\\n- Questran: Discontinued\\n- Antibiotics (unspecified): Active\\n- Nebulizers (unspecified): Active',\n",
       " 'Coumadin: Discontinued (due to allergic reaction)\\n- ACE Inhibitor: Discontinued (due to allergic reaction)\\n- Plavix: Active',\n",
       " 'Protonix (active)\\n- Troponin (negative)\\n- ECG (negative)\\n- Maalox (p.r.n.)\\n- Vitamin C (discontinued)\\n- Vitamin E (discontinued)\\n- IV Zofran (p.r.n.)\\n- Morphine (discontinued)\\n- IV Dilaudid (p.r.n.)',\n",
       " 'Imipenem: Discontinued\\n- Vancomycin: Active\\n- Levaquin: Active\\n- Tobramycin: Active',\n",
       " 'Vancomycin: Active\\n- Tequin: Discontinued\\n- Penicillin V: Neither (considered for future use)',\n",
       " 'A1C: Neither (awaiting results)\\n- Avandia: Discontinued\\n- Glipizide: Active (5 mg b.i.d.)\\n- Metformin: Active (titration as an outpatient)',\n",
       " 'Clindamycin: Discontinued\\n- Primaquine: Discontinued\\n- Valganciclovir: Active (lowered dosage to 400 mg b.i.d.)\\n- Atovaquone: Active (prescribed at 750 mg b.i.d. for PCP treatment/prophylaxis)\\n- Librax: Active (1 p.o. b.i.d. for gastrointestinal cramping)\\n- Vioxx: Active (25 mg q.d. as an anti-inflammatory drug)',\n",
       " 'Timentin: discontinued\\n- Vancomycin: active\\n- MSSA: not a medication, but a bacteria (Methicillin-sensitive Staphylococcus aureus)\\n- MRSA: not a medication, but a bacteria (Methicillin-resistant Staphylococcus aureus)',\n",
       " 'Psychiatric interventions (active, per Dr. _%#NAME#%_)\\n- Replace potassium (active)\\n- Check magnesium with next labs (neither, lab test)\\n- Zantac 150 mg b.i.d. (active, for reflux symptoms)\\n- DC, p.r.n. Zantac (discontinued)',\n",
       " 'Ditropan: Discontinued (not needed for the past week)\\n- Hemorrhagic medication: Unclear (etiology uncertain)\\n- Chemotherapy: Active (possible side effect mentioned)\\n- BK viral infection treatment: Not mentioned (only the infection is mentioned)\\n- Cidofovir: Active (patient has received five doses and will receive the last dose on MMDD2003)',\n",
       " 'Dobutamine: Active\\n- Nipride: Active\\n- Esmolol: Discontinued',\n",
       " 'Urinalysis: negative (neither)\\n- Urine culture: negative (neither)\\n- Chest x-ray: pleural effusion (neither)\\n- Chest CT with PE protocol: no PE, bilateral pleural effusions, underlying atelectasis (neither)\\n- Antibiotics: Cefotetan (discontinued)',\n",
       " 'Coumadin: Discontinued (due to past GI bleed)',\n",
       " 'Vancomycin: Discontinued\\n- Caspofungin: Active\\n- Diflucan (Fluconazole): Neither (potential future switch)',\n",
       " 'Aspirin 81 mg q.d. - Discontinued\\n- Ibuprofen - Avoid\\n- Naprosyn - Avoid\\n- Alcohol - Avoid\\n- Caffeine - Avoid\\n- Chocolate - Avoid\\n- Tylenol 325 mg - Safe to take\\n- Tylenol ES (500 mg) - Safe to take\\n- Plavix 75 mg p.o. q.d. - Active',\n",
       " 'Amiodarone loading dose: Discontinued\\n- Amiodarone drip: Discontinued',\n",
       " 'Toprol XL: Active\\n- Lisinopril: Active\\n- Lasix: Active\\n- Pletal: Discontinued',\n",
       " 'Methadone 5 mg (4 doses a day): Discontinued\\n- Morphine Contin 15 mg b.i.d.: Active\\n- Morphine IR 10 mg elixir (2 doses a day): Active',\n",
       " 'Neurontin gel 8% (active)\\n- Topical ketoprofen 10% gel (active if Neurontin gel is ineffective alone)\\n- Combination of Neurontin and ketamine gel (active if Neurontin gel is ineffective alone)\\n- Duragesic patch (discontinued)\\n- Methadone 2.5 mg (active)\\n- Dilaudid (active for break through pain)',\n",
       " 'Paxil CR 25 mg daily (active)\\n- Trazodone 50 mg po daily (active)\\n- Imitrex subcutaneous (discontinued due to adverse reaction)\\n- Oral Imitrex (not mentioned as active or discontinued)',\n",
       " \"Neurology (not a medication, but mentioned for context)\\n- NPH: Discontinued\\n- Lantus: Active (continuous insulin therapy)\\n- Accu-Cheks: Active (q.i.d.)\\n- Sliding scale regular insulin: Active\\n- Hemoglobin A1C: Neither (it's a test, not a medication)\",\n",
       " 'AC x 4 (chemotherapy): Discontinued\\n- Tamoxifen: Discontinued (after two years)\\n- Arimidex: Active\\n- Radiation therapy (1998): Discontinued',\n",
       " 'Lisinopril: Discontinued\\n- Alternative hypertension treatment (neither ACE nor ARBs): Consider\\n- Ancef: Active (for now)\\n- Valtrex: Discontinued',\n",
       " 'Tequin: active (to treat urinary tract infection)\\n- IV Morphine: neither (considering switching back to MS Contin)\\n- MS Contin: neither (may be causing nausea, considering switching back from IV Morphine)\\n- Duragesic patch: neither (alternative if oral Morphine is not tolerated)',\n",
       " 'Hemoglobin: Normal (12.8)\\n- Electrocardiogram: Unremarkable\\n- PA and lateral chest x-ray: Normal\\n- Soft tissue of neck: Normal\\n- Sodium: Repeat 131\\n\\nMedications:\\n- Intravenous Solu-Medrol: Active\\n- Prednisone: Active\\n- Atrovent: Active\\n- Albuterol nebs: Discontinued (due to palpitations)\\n- Xopenex: Discontinued (due to palpitations)',\n",
       " 'Vicodin: Active (for pain)\\n- Coumadin: Discontinued (anticoagulation prophylaxis)\\n- INRs: Neither (drawn for monitoring)\\n- Ascriptin: Initiated (one tablet daily for anticoagulation prophylaxis)',\n",
       " 'Linezolid: Active (completing the course)\\n- Levaquin: Active (completing the course)\\n- Bactrim: Active (initially completing therapeutic course, then continuing on prophylaxis dose)\\n- Vancomycin: Discontinued (switched to linezolid)\\n- Prophylactic antifungal regime: Active',\n",
       " 'Bactrim: Discontinued\\n- Blood transfusion support: Active\\n- DAT with C3 and IgG: Neither (test to be obtained)\\n- Cold agglutinins: Neither (test to be obtained)\\n- G6PD deficiency test: Neither (test to be checked)\\n- LDH and haptoglobin: Neither (tests to be repeated for followup on hemolysis)']"
      ]
     },
     "execution_count": 4,
     "metadata": {},
     "output_type": "execute_result"
    }
   ],
   "source": [
    "r.iloc[0]['resps']"
   ]
  },
  {
   "cell_type": "code",
   "execution_count": null,
   "metadata": {},
   "outputs": [],
   "source": [
    "# fill missing args with default values from argparse\n",
    "r = notebook_helper.fill_missing_args_with_default(r, fname='01_train_model.py')\n",
    "\n",
    "# group using these experiment hyperparams when averaging over random seeds\n",
    "group_keys = [k for k in notebook_helper.get_main_args_list(fname='01_train_model.py') if not k == 'seed']\n",
    "ravg = (\n",
    "    r\n",
    "    .groupby(by=group_keys)\n",
    "    .mean()\n",
    "    .reset_index()\n",
    ")\n",
    "\n",
    "# apply cross validation\n",
    "ravg_cv = (\n",
    "    ravg\n",
    "    .sort_values(by='accuracy_cv', ascending=False)\n",
    "    .groupby(by=['model_name', 'dataset_name'])\n",
    "    .first()\n",
    "    .reset_index()\n",
    ")\n",
    "ravg_cv"
   ]
  },
  {
   "cell_type": "code",
   "execution_count": null,
   "metadata": {},
   "outputs": [],
   "source": [
    "sns.barplot(data=ravg_cv, x='model_name', y='accuracy_test') #, hue='dataset_name')\n",
    "plt.show()"
   ]
  },
  {
   "attachments": {},
   "cell_type": "markdown",
   "metadata": {},
   "source": [
    "Load an individual model"
   ]
  },
  {
   "cell_type": "code",
   "execution_count": null,
   "metadata": {},
   "outputs": [],
   "source": [
    "run_args = r.iloc[0]\n",
    "model = joblib.load(join(run_args.save_dir_unique, 'model.pkl'))\n",
    "model"
   ]
  }
 ],
 "metadata": {
  "kernelspec": {
   "display_name": ".embgam",
   "language": "python",
   "name": "python3"
  },
  "language_info": {
   "codemirror_mode": {
    "name": "ipython",
    "version": 3
   },
   "file_extension": ".py",
   "mimetype": "text/x-python",
   "name": "python",
   "nbconvert_exporter": "python",
   "pygments_lexer": "ipython3",
   "version": "3.11.3"
  },
  "orig_nbformat": 4,
  "vscode": {
   "interpreter": {
    "hash": "559535f78d940c882783b39501b2581b5193373045707e5f8a51d046029cfd38"
   }
  }
 },
 "nbformat": 4,
 "nbformat_minor": 2
}
