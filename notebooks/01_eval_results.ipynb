{
 "cells": [
  {
   "cell_type": "code",
   "execution_count": 1,
   "metadata": {},
   "outputs": [],
   "source": [
    "%load_ext autoreload\n",
    "%autoreload 2\n",
    "import os\n",
    "import matplotlib.pyplot as plt\n",
    "import seaborn as sns\n",
    "from os.path import join\n",
    "from tqdm import tqdm\n",
    "import pandas as pd\n",
    "import imodelsx.process_results\n",
    "import sys\n",
    "import datasets\n",
    "import numpy as np\n",
    "from copy import deepcopy\n",
    "import clin.eval\n",
    "import clin.verifiers.prune\n",
    "import clin.verifiers.evidence\n",
    "import clin.verifiers.omission\n",
    "import clin.llm\n",
    "import clin.parse\n",
    "from collections import defaultdict\n",
    "import openai\n",
    "openai.api_key_path = '/home/chansingh/.OPENAI_KEY'\n",
    "\n",
    "sys.path.append('../experiments/')\n",
    "results_dir = '../results/'"
   ]
  },
  {
   "cell_type": "code",
   "execution_count": 2,
   "metadata": {},
   "outputs": [
    {
     "data": {
      "application/vnd.jupyter.widget-view+json": {
       "model_id": "fbaa7552cd094130acfef65196623cce",
       "version_major": 2,
       "version_minor": 0
      },
      "text/plain": [
       "  0%|          | 0/2 [00:00<?, ?it/s]"
      ]
     },
     "metadata": {},
     "output_type": "display_data"
    },
    {
     "name": "stderr",
     "output_type": "stream",
     "text": [
      "100%|██████████| 6/6 [00:00<00:00, 388.55it/s]\n"
     ]
    },
    {
     "data": {
      "text/html": [
       "<style type=\"text/css\">\n",
       "#T_be1ce_row0_col0 {\n",
       "  background-color: #eef5fc;\n",
       "  color: #000000;\n",
       "}\n",
       "#T_be1ce_row0_col1, #T_be1ce_row0_col3, #T_be1ce_row2_col0, #T_be1ce_row2_col2, #T_be1ce_row2_col3, #T_be1ce_row2_col4 {\n",
       "  background-color: #f7fbff;\n",
       "  color: #000000;\n",
       "}\n",
       "#T_be1ce_row0_col2 {\n",
       "  background-color: #a5cde3;\n",
       "  color: #000000;\n",
       "}\n",
       "#T_be1ce_row0_col4 {\n",
       "  background-color: #f5f9fe;\n",
       "  color: #000000;\n",
       "}\n",
       "#T_be1ce_row1_col0 {\n",
       "  background-color: #3f8fc5;\n",
       "  color: #f1f1f1;\n",
       "}\n",
       "#T_be1ce_row1_col1 {\n",
       "  background-color: #a8cee4;\n",
       "  color: #000000;\n",
       "}\n",
       "#T_be1ce_row1_col2, #T_be1ce_row5_col1 {\n",
       "  background-color: #0a549e;\n",
       "  color: #f1f1f1;\n",
       "}\n",
       "#T_be1ce_row1_col3 {\n",
       "  background-color: #61a7d2;\n",
       "  color: #f1f1f1;\n",
       "}\n",
       "#T_be1ce_row1_col4 {\n",
       "  background-color: #cee0f2;\n",
       "  color: #000000;\n",
       "}\n",
       "#T_be1ce_row2_col1 {\n",
       "  background-color: #4493c7;\n",
       "  color: #f1f1f1;\n",
       "}\n",
       "#T_be1ce_row3_col0 {\n",
       "  background-color: #5da5d1;\n",
       "  color: #f1f1f1;\n",
       "}\n",
       "#T_be1ce_row3_col1 {\n",
       "  background-color: #3a8ac2;\n",
       "  color: #f1f1f1;\n",
       "}\n",
       "#T_be1ce_row3_col2 {\n",
       "  background-color: #539ecd;\n",
       "  color: #f1f1f1;\n",
       "}\n",
       "#T_be1ce_row3_col3 {\n",
       "  background-color: #083776;\n",
       "  color: #f1f1f1;\n",
       "}\n",
       "#T_be1ce_row3_col4 {\n",
       "  background-color: #bed8ec;\n",
       "  color: #000000;\n",
       "}\n",
       "#T_be1ce_row4_col0 {\n",
       "  background-color: #1c6ab0;\n",
       "  color: #f1f1f1;\n",
       "}\n",
       "#T_be1ce_row4_col1, #T_be1ce_row5_col0, #T_be1ce_row5_col2, #T_be1ce_row5_col3, #T_be1ce_row5_col4 {\n",
       "  background-color: #08306b;\n",
       "  color: #f1f1f1;\n",
       "}\n",
       "#T_be1ce_row4_col2 {\n",
       "  background-color: #3787c0;\n",
       "  color: #f1f1f1;\n",
       "}\n",
       "#T_be1ce_row4_col3 {\n",
       "  background-color: #2979b9;\n",
       "  color: #f1f1f1;\n",
       "}\n",
       "#T_be1ce_row4_col4 {\n",
       "  background-color: #4b98ca;\n",
       "  color: #f1f1f1;\n",
       "}\n",
       "</style>\n",
       "<table id=\"T_be1ce\">\n",
       "  <thead>\n",
       "    <tr>\n",
       "      <th class=\"blank\" >&nbsp;</th>\n",
       "      <th class=\"blank level0\" >&nbsp;</th>\n",
       "      <th id=\"T_be1ce_level0_col0\" class=\"col_heading level0 col0\" >f1</th>\n",
       "      <th id=\"T_be1ce_level0_col1\" class=\"col_heading level0 col1\" >recall</th>\n",
       "      <th id=\"T_be1ce_level0_col2\" class=\"col_heading level0 col2\" >precision</th>\n",
       "      <th id=\"T_be1ce_level0_col3\" class=\"col_heading level0 col3\" >acc_cond</th>\n",
       "      <th id=\"T_be1ce_level0_col4\" class=\"col_heading level0 col4\" >f1_macro_cond</th>\n",
       "    </tr>\n",
       "    <tr>\n",
       "      <th class=\"index_name level0\" >checkpoint</th>\n",
       "      <th class=\"index_name level1\" >n_shots</th>\n",
       "      <th class=\"blank col0\" >&nbsp;</th>\n",
       "      <th class=\"blank col1\" >&nbsp;</th>\n",
       "      <th class=\"blank col2\" >&nbsp;</th>\n",
       "      <th class=\"blank col3\" >&nbsp;</th>\n",
       "      <th class=\"blank col4\" >&nbsp;</th>\n",
       "    </tr>\n",
       "  </thead>\n",
       "  <tbody>\n",
       "    <tr>\n",
       "      <th id=\"T_be1ce_level0_row0\" class=\"row_heading level0 row0\" rowspan=\"2\">gpt-3.5-turbo</th>\n",
       "      <th id=\"T_be1ce_level1_row0\" class=\"row_heading level1 row0\" >1</th>\n",
       "      <td id=\"T_be1ce_row0_col0\" class=\"data row0 col0\" >0.835</td>\n",
       "      <td id=\"T_be1ce_row0_col1\" class=\"data row0 col1\" >0.847</td>\n",
       "      <td id=\"T_be1ce_row0_col2\" class=\"data row0 col2\" >0.823</td>\n",
       "      <td id=\"T_be1ce_row0_col3\" class=\"data row0 col3\" >0.790</td>\n",
       "      <td id=\"T_be1ce_row0_col4\" class=\"data row0 col4\" >0.064</td>\n",
       "    </tr>\n",
       "    <tr>\n",
       "      <th id=\"T_be1ce_level1_row1\" class=\"row_heading level1 row1\" >5</th>\n",
       "      <td id=\"T_be1ce_row1_col0\" class=\"data row1 col0\" >0.887</td>\n",
       "      <td id=\"T_be1ce_row1_col1\" class=\"data row1 col1\" >0.876</td>\n",
       "      <td id=\"T_be1ce_row1_col2\" class=\"data row1 col2\" >0.898</td>\n",
       "      <td id=\"T_be1ce_row1_col3\" class=\"data row1 col3\" >0.861</td>\n",
       "      <td id=\"T_be1ce_row1_col4\" class=\"data row1 col4\" >0.175</td>\n",
       "    </tr>\n",
       "    <tr>\n",
       "      <th id=\"T_be1ce_level0_row2\" class=\"row_heading level0 row2\" rowspan=\"2\">gpt-4-0314</th>\n",
       "      <th id=\"T_be1ce_level1_row2\" class=\"row_heading level1 row2\" >1</th>\n",
       "      <td id=\"T_be1ce_row2_col0\" class=\"data row2 col0\" >0.830</td>\n",
       "      <td id=\"T_be1ce_row2_col1\" class=\"data row2 col1\" >0.900</td>\n",
       "      <td id=\"T_be1ce_row2_col2\" class=\"data row2 col2\" >0.771</td>\n",
       "      <td id=\"T_be1ce_row2_col3\" class=\"data row2 col3\" >0.790</td>\n",
       "      <td id=\"T_be1ce_row2_col4\" class=\"data row2 col4\" >0.056</td>\n",
       "    </tr>\n",
       "    <tr>\n",
       "      <th id=\"T_be1ce_level1_row3\" class=\"row_heading level1 row3\" >5</th>\n",
       "      <td id=\"T_be1ce_row3_col0\" class=\"data row3 col0\" >0.878</td>\n",
       "      <td id=\"T_be1ce_row3_col1\" class=\"data row3 col1\" >0.903</td>\n",
       "      <td id=\"T_be1ce_row3_col2\" class=\"data row3 col2\" >0.855</td>\n",
       "      <td id=\"T_be1ce_row3_col3\" class=\"data row3 col3\" >0.921</td>\n",
       "      <td id=\"T_be1ce_row3_col4\" class=\"data row3 col4\" >0.212</td>\n",
       "    </tr>\n",
       "    <tr>\n",
       "      <th id=\"T_be1ce_level0_row4\" class=\"row_heading level0 row4\" rowspan=\"2\">text-davinci-003</th>\n",
       "      <th id=\"T_be1ce_level1_row4\" class=\"row_heading level1 row4\" >1</th>\n",
       "      <td id=\"T_be1ce_row4_col0\" class=\"data row4 col0\" >0.899</td>\n",
       "      <td id=\"T_be1ce_row4_col1\" class=\"data row4 col1\" >0.932</td>\n",
       "      <td id=\"T_be1ce_row4_col2\" class=\"data row4 col2\" >0.868</td>\n",
       "      <td id=\"T_be1ce_row4_col3\" class=\"data row4 col3\" >0.888</td>\n",
       "      <td id=\"T_be1ce_row4_col4\" class=\"data row4 col4\" >0.394</td>\n",
       "    </tr>\n",
       "    <tr>\n",
       "      <th id=\"T_be1ce_level1_row5\" class=\"row_heading level1 row5\" >5</th>\n",
       "      <td id=\"T_be1ce_row5_col0\" class=\"data row5 col0\" >0.919</td>\n",
       "      <td id=\"T_be1ce_row5_col1\" class=\"data row5 col1\" >0.921</td>\n",
       "      <td id=\"T_be1ce_row5_col2\" class=\"data row5 col2\" >0.918</td>\n",
       "      <td id=\"T_be1ce_row5_col3\" class=\"data row5 col3\" >0.925</td>\n",
       "      <td id=\"T_be1ce_row5_col4\" class=\"data row5 col4\" >0.626</td>\n",
       "    </tr>\n",
       "  </tbody>\n",
       "</table>\n"
      ],
      "text/plain": [
       "<pandas.io.formats.style.Styler at 0x7f5bb3864510>"
      ]
     },
     "execution_count": 2,
     "metadata": {},
     "output_type": "execute_result"
    }
   ],
   "source": [
    "r = imodelsx.process_results.get_results_df(results_dir, use_cached=True)\n",
    "\n",
    "# get data for eval\n",
    "dset = datasets.load_dataset('mitclinicalml/clinical-ie', 'medication_status')\n",
    "df_val = pd.DataFrame.from_dict(dset['validation'])\n",
    "df = pd.DataFrame.from_dict(dset['test'])\n",
    "# df = pd.concat([val, test])\n",
    "nums = np.arange(len(df)).tolist()\n",
    "np.random.default_rng(seed=13).shuffle(nums)\n",
    "dfe = df.iloc[nums]\n",
    "\n",
    "# add medication status eval\n",
    "accs_cond, f1s_macro_cond = clin.eval.eval_medication_status(dfe, r)\n",
    "r['acc_cond'] = accs_cond\n",
    "r['f1_macro_cond'] = f1s_macro_cond\n",
    "\n",
    "(\n",
    "    r.groupby(['checkpoint', 'n_shots'])[['f1', 'recall', 'precision', 'acc_cond', 'f1_macro_cond']].mean()\n",
    "    .style.format(precision=3).background_gradient(cmap='Blues')\n",
    ")"
   ]
  },
  {
   "attachments": {},
   "cell_type": "markdown",
   "metadata": {},
   "source": [
    "## Test verifiers"
   ]
  },
  {
   "cell_type": "code",
   "execution_count": 3,
   "metadata": {},
   "outputs": [],
   "source": [
    "# get original\n",
    "row = r[(r.n_shots == 5) * (r.checkpoint == 'text-davinci-003')].iloc[0]\n",
    "n = len(dfe)\n",
    "med_status_dict_list_orig = [clin.parse.parse_response_medication_list(row['resps'][i]) for i in range(n)]\n",
    "llm = clin.llm.get_llm('text-davinci-003')"
   ]
  },
  {
   "cell_type": "code",
   "execution_count": 4,
   "metadata": {},
   "outputs": [
    {
     "name": "stderr",
     "output_type": "stream",
     "text": [
      "100%|██████████| 100/100 [00:00<00:00, 7506.85it/s]\n"
     ]
    }
   ],
   "source": [
    "# apply evidence verifier\n",
    "ev = clin.verifiers.evidence.EvidenceVerifier(n_shots_neg=2, n_shots_pos=0)\n",
    "# ev = clin.verifiers.evidence.EvidenceVerifier(n_shots_neg=0, n_shots_pos=2)\n",
    "med_status_dict_list_ev = []\n",
    "med_evidence_dict_list_ev = []\n",
    "for i in tqdm(range(n)):\n",
    "    med_status_dict, med_evidence_dict = ev(\n",
    "        snippet=dfe.iloc[i]['snippet'], bulleted_str=row['resps'][i], llm=llm)\n",
    "    med_status_dict_list_ev.append(med_status_dict)\n",
    "    med_evidence_dict_list_ev.append(med_evidence_dict)\n",
    "med_status_dict_list_ev_pruned = [\n",
    "    {\n",
    "        k: v for k, v in med_status_dict_list_ev[i].items()\n",
    "        if not med_evidence_dict_list_ev[i][k] == 'no evidence'\n",
    "        # and med_evidence_dict_list_ev[i][k] in dfe.iloc[i]['snippet'].lower()\n",
    "    }\n",
    "    for i in range(n)\n",
    "]"
   ]
  },
  {
   "cell_type": "code",
   "execution_count": 11,
   "metadata": {},
   "outputs": [
    {
     "name": "stderr",
     "output_type": "stream",
     "text": [
      "100%|██████████| 100/100 [00:00<00:00, 7940.75it/s]\n"
     ]
    }
   ],
   "source": [
    "# apply prune verifier\n",
    "pv = clin.verifiers.prune.PruneVerifier()\n",
    "med_status_dict_list_pv = [pv(dfe.iloc[i]['snippet'], bulleted_str=row['resps'][i], llm=llm, verbose=False) for i in tqdm(range(n))]"
   ]
  },
  {
   "cell_type": "code",
   "execution_count": 7,
   "metadata": {},
   "outputs": [
    {
     "name": "stderr",
     "output_type": "stream",
     "text": [
      "100%|██████████| 100/100 [00:00<00:00, 5966.97it/s]\n"
     ]
    }
   ],
   "source": [
    "# apply omission verifier\n",
    "ov = clin.verifiers.omission.OmissionVerifier()\n",
    "med_status_dict_list_ov = [ov(dfe.iloc[i]['snippet'], bulleted_str=row['resps'][i], llm=llm, verbose=False) for i in tqdm(range(n))]"
   ]
  },
  {
   "cell_type": "code",
   "execution_count": 9,
   "metadata": {},
   "outputs": [
    {
     "name": "stderr",
     "output_type": "stream",
     "text": [
      "100%|██████████| 100/100 [00:00<00:00, 7656.63it/s]\n",
      "100%|██████████| 100/100 [00:00<00:00, 432402.47it/s]\n",
      "100%|██████████| 100/100 [00:00<00:00, 6331.79it/s]\n",
      "100%|██████████| 100/100 [00:00<00:00, 586615.94it/s]\n"
     ]
    }
   ],
   "source": [
    "# apply omission verifier then deduplication verifier\n",
    "med_status_dict_list_ovs = []\n",
    "med_status_dict_list_pvs = []\n",
    "\n",
    "ov = clin.verifiers.omission.OmissionVerifier()\n",
    "pv = clin.verifiers.prune.PruneVerifier()\n",
    "for iter_num in range(1):\n",
    "    if iter_num == 0:\n",
    "        bulleted_str_list = row['resps']\n",
    "    else:\n",
    "        bulleted_str_list = bulleted_str_list_pv\n",
    "    med_status_dict_list_ov = [ov(dfe.iloc[i]['snippet'], bulleted_str=bulleted_str_list[i], llm=llm, lower=False) for i in tqdm(range(n))]\n",
    "    bulleted_str_list_ov = [clin.parse.medication_dict_to_bullet_str(med_status_dict_list_ov[i]) for i in tqdm(range(n))]\n",
    "\n",
    "    med_status_dict_list_pv = [pv(dfe.iloc[i]['snippet'], bulleted_str=bulleted_str_list_ov[i], llm=llm, lower=False) for i in tqdm(range(n))]\n",
    "    bulleted_str_list_pv = [clin.parse.medication_dict_to_bullet_str(med_status_dict_list_pv[i]) for i in tqdm(range(n))]\n",
    "    \n",
    "    med_status_dict_list_ovs.append(deepcopy(med_status_dict_list_ov))\n",
    "    med_status_dict_list_pvs.append(deepcopy(med_status_dict_list_pv))"
   ]
  },
  {
   "cell_type": "code",
   "execution_count": 12,
   "metadata": {},
   "outputs": [
    {
     "data": {
      "text/html": [
       "<style type=\"text/css\">\n",
       "#T_ab27c_row0_col0, #T_ab27c_row3_col2, #T_ab27c_row4_col1, #T_ab27c_row5_col1 {\n",
       "  background-color: #08306b;\n",
       "  color: #f1f1f1;\n",
       "}\n",
       "#T_ab27c_row0_col1 {\n",
       "  background-color: #3f8fc5;\n",
       "  color: #f1f1f1;\n",
       "}\n",
       "#T_ab27c_row0_col2 {\n",
       "  background-color: #083b7c;\n",
       "  color: #f1f1f1;\n",
       "}\n",
       "#T_ab27c_row1_col0 {\n",
       "  background-color: #083776;\n",
       "  color: #f1f1f1;\n",
       "}\n",
       "#T_ab27c_row1_col1, #T_ab27c_row2_col1 {\n",
       "  background-color: #58a1cf;\n",
       "  color: #f1f1f1;\n",
       "}\n",
       "#T_ab27c_row1_col2 {\n",
       "  background-color: #083c7d;\n",
       "  color: #f1f1f1;\n",
       "}\n",
       "#T_ab27c_row2_col0 {\n",
       "  background-color: #083471;\n",
       "  color: #f1f1f1;\n",
       "}\n",
       "#T_ab27c_row2_col2 {\n",
       "  background-color: #083979;\n",
       "  color: #f1f1f1;\n",
       "}\n",
       "#T_ab27c_row3_col0 {\n",
       "  background-color: #1663aa;\n",
       "  color: #f1f1f1;\n",
       "}\n",
       "#T_ab27c_row3_col1, #T_ab27c_row4_col0, #T_ab27c_row4_col2, #T_ab27c_row5_col0, #T_ab27c_row5_col2 {\n",
       "  background-color: #f7fbff;\n",
       "  color: #000000;\n",
       "}\n",
       "#T_ab27c_row6_col0 {\n",
       "  background-color: #1c6ab0;\n",
       "  color: #f1f1f1;\n",
       "}\n",
       "#T_ab27c_row6_col1 {\n",
       "  background-color: #65aad4;\n",
       "  color: #f1f1f1;\n",
       "}\n",
       "#T_ab27c_row6_col2 {\n",
       "  background-color: #1c6bb0;\n",
       "  color: #f1f1f1;\n",
       "}\n",
       "</style>\n",
       "<table id=\"T_ab27c\">\n",
       "  <thead>\n",
       "    <tr>\n",
       "      <th class=\"blank level0\" >&nbsp;</th>\n",
       "      <th id=\"T_ab27c_level0_col0\" class=\"col_heading level0 col0\" >f1</th>\n",
       "      <th id=\"T_ab27c_level0_col1\" class=\"col_heading level0 col1\" >recall</th>\n",
       "      <th id=\"T_ab27c_level0_col2\" class=\"col_heading level0 col2\" >precision</th>\n",
       "    </tr>\n",
       "  </thead>\n",
       "  <tbody>\n",
       "    <tr>\n",
       "      <th id=\"T_ab27c_level0_row0\" class=\"row_heading level0 row0\" >original</th>\n",
       "      <td id=\"T_ab27c_row0_col0\" class=\"data row0 col0\" >0.919</td>\n",
       "      <td id=\"T_ab27c_row0_col1\" class=\"data row0 col1\" >0.921</td>\n",
       "      <td id=\"T_ab27c_row0_col2\" class=\"data row0 col2\" >0.918</td>\n",
       "    </tr>\n",
       "    <tr>\n",
       "      <th id=\"T_ab27c_level0_row1\" class=\"row_heading level0 row1\" >evidence</th>\n",
       "      <td id=\"T_ab27c_row1_col0\" class=\"data row1 col0\" >0.916</td>\n",
       "      <td id=\"T_ab27c_row1_col1\" class=\"data row1 col1\" >0.915</td>\n",
       "      <td id=\"T_ab27c_row1_col2\" class=\"data row1 col2\" >0.917</td>\n",
       "    </tr>\n",
       "    <tr>\n",
       "      <th id=\"T_ab27c_level0_row2\" class=\"row_heading level0 row2\" >evidence_pruned</th>\n",
       "      <td id=\"T_ab27c_row2_col0\" class=\"data row2 col0\" >0.917</td>\n",
       "      <td id=\"T_ab27c_row2_col1\" class=\"data row2 col1\" >0.915</td>\n",
       "      <td id=\"T_ab27c_row2_col2\" class=\"data row2 col2\" >0.920</td>\n",
       "    </tr>\n",
       "    <tr>\n",
       "      <th id=\"T_ab27c_level0_row3\" class=\"row_heading level0 row3\" >prune</th>\n",
       "      <td id=\"T_ab27c_row3_col0\" class=\"data row3 col0\" >0.898</td>\n",
       "      <td id=\"T_ab27c_row3_col1\" class=\"data row3 col1\" >0.871</td>\n",
       "      <td id=\"T_ab27c_row3_col2\" class=\"data row3 col2\" >0.928</td>\n",
       "    </tr>\n",
       "    <tr>\n",
       "      <th id=\"T_ab27c_level0_row4\" class=\"row_heading level0 row4\" >omission</th>\n",
       "      <td id=\"T_ab27c_row4_col0\" class=\"data row4 col0\" >0.812</td>\n",
       "      <td id=\"T_ab27c_row4_col1\" class=\"data row4 col1\" >0.950</td>\n",
       "      <td id=\"T_ab27c_row4_col2\" class=\"data row4 col2\" >0.708</td>\n",
       "    </tr>\n",
       "    <tr>\n",
       "      <th id=\"T_ab27c_level0_row5\" class=\"row_heading level0 row5\" >ov0</th>\n",
       "      <td id=\"T_ab27c_row5_col0\" class=\"data row5 col0\" >0.812</td>\n",
       "      <td id=\"T_ab27c_row5_col1\" class=\"data row5 col1\" >0.950</td>\n",
       "      <td id=\"T_ab27c_row5_col2\" class=\"data row5 col2\" >0.708</td>\n",
       "    </tr>\n",
       "    <tr>\n",
       "      <th id=\"T_ab27c_level0_row6\" class=\"row_heading level0 row6\" >pv0</th>\n",
       "      <td id=\"T_ab27c_row6_col0\" class=\"data row6 col0\" >0.895</td>\n",
       "      <td id=\"T_ab27c_row6_col1\" class=\"data row6 col1\" >0.912</td>\n",
       "      <td id=\"T_ab27c_row6_col2\" class=\"data row6 col2\" >0.878</td>\n",
       "    </tr>\n",
       "  </tbody>\n",
       "</table>\n"
      ],
      "text/plain": [
       "<pandas.io.formats.style.Styler at 0x7f5bb188c210>"
      ]
     },
     "execution_count": 12,
     "metadata": {},
     "output_type": "execute_result"
    }
   ],
   "source": [
    "PREDS_DICT = {\n",
    "    'original': med_status_dict_list_orig,\n",
    "    'evidence': med_status_dict_list_ev,\n",
    "    'evidence_pruned': med_status_dict_list_ev_pruned,\n",
    "    'prune': med_status_dict_list_pv,\n",
    "    'omission': med_status_dict_list_ov,\n",
    "} | {f'ov{i}': med_status_dict_list_ovs[i] for i in range(len(med_status_dict_list_ovs))} \\\n",
    "    | {f'pv{i}': med_status_dict_list_pvs[i] for i in range(len(med_status_dict_list_pvs))}\n",
    "mets_dict = defaultdict(list)\n",
    "for k in PREDS_DICT.keys():\n",
    "    mets_dict_single = clin.eval.calculate_metrics(PREDS_DICT[k], dfe, verbose=False)\n",
    "    for k_met in mets_dict_single.keys():\n",
    "        mets_dict[k_met].append(mets_dict_single[k_met])\n",
    "df = pd.DataFrame.from_dict(mets_dict).round(3)[['f1', 'recall', 'precision']]\n",
    "df.index = PREDS_DICT.keys()\n",
    "df.style.format(precision=3).background_gradient(cmap='Blues')"
   ]
  },
  {
   "attachments": {},
   "cell_type": "markdown",
   "metadata": {},
   "source": [
    "## Print errors"
   ]
  },
  {
   "cell_type": "code",
   "execution_count": null,
   "metadata": {},
   "outputs": [],
   "source": [
    "mets = clin.eval.calculate_metrics(med_status_dict_list_ov, dfe, verbose=True)\n",
    "\n",
    "# m1 = med_status_dict_list_orig\n",
    "m1 = med_status_dict_list_ov\n",
    "m2 = med_status_dict_list_ov\n",
    "\n",
    "for i in range(len(m1)):\n",
    "    # print(dfe.iloc[i]['snippet'])\n",
    "    if not m1[i] == m2[i]:\n",
    "        print(m1[i])\n",
    "        # print(m2[i])\n",
    "\n",
    "        # print(med_evidence_dict_list_ev[i])\n",
    "        print()\n",
    "        print()"
   ]
  },
  {
   "cell_type": "code",
   "execution_count": null,
   "metadata": {},
   "outputs": [],
   "source": []
  }
 ],
 "metadata": {
  "kernelspec": {
   "display_name": ".embgam",
   "language": "python",
   "name": "python3"
  },
  "language_info": {
   "codemirror_mode": {
    "name": "ipython",
    "version": 3
   },
   "file_extension": ".py",
   "mimetype": "text/x-python",
   "name": "python",
   "nbconvert_exporter": "python",
   "pygments_lexer": "ipython3",
   "version": "3.11.3"
  },
  "orig_nbformat": 4,
  "vscode": {
   "interpreter": {
    "hash": "559535f78d940c882783b39501b2581b5193373045707e5f8a51d046029cfd38"
   }
  }
 },
 "nbformat": 4,
 "nbformat_minor": 2
}
