{
 "cells": [
  {
   "cell_type": "code",
   "execution_count": null,
   "metadata": {},
   "outputs": [],
   "source": [
    "%load_ext autoreload\n",
    "%autoreload 2\n",
    "from os.path import join\n",
    "from tqdm import tqdm\n",
    "import pandas as pd\n",
    "import numpy as np\n",
    "import clin.llm\n",
    "import clin.eval.med_status\n",
    "import clin.parse\n",
    "import openai\n",
    "openai.api_key_path = '/home/chansingh/.OPENAI_KEY'\n",
    "from typing import List\n",
    "results_dir = '../results/'\n",
    "from clin.config import PATH_REPO\n",
    "import datasets\n",
    "import imodelsx.process_results\n",
    "def viz_blue_rows(df):\n",
    "    return (\n",
    "        df\n",
    "        # highlight rows 2 and 4 including the index\n",
    "        .style.apply(lambda x: ['background: lightblue' if 'self-verified' in x.name else '' for i in x], axis=1)\n",
    "        # bold index label for row 2\n",
    "        .apply(lambda x: ['font-weight: bold' if 'self-verified' in x.name else '' for i in x], axis=1)\n",
    "        .format(precision=3)\n",
    "    )   \n",
    "r = imodelsx.process_results.get_results_df(results_dir, use_cached=False)"
   ]
  },
  {
   "cell_type": "code",
   "execution_count": null,
   "metadata": {},
   "outputs": [],
   "source": [
    "r_ebm = r[r.dataset_name == 'ebm']\n",
    "cols = {\n",
    "    'f1___original': 'Clinical trial arm extraction, original',\n",
    "    'f1___ov_pv_ev': 'Clinical trial arm extraction, self-verified',\n",
    "}\n",
    "rt_ebm = r_ebm.groupby(['checkpoint', 'n_shots'])[list(cols.keys())].mean().rename(columns=cols).round(3).T\n",
    "viz_blue_rows(rt_ebm)"
   ]
  },
  {
   "cell_type": "code",
   "execution_count": null,
   "metadata": {},
   "outputs": [],
   "source": [
    "r_med = r[r.dataset_name == 'medication_status']\n",
    "dset = datasets.load_dataset('mitclinicalml/clinical-ie', 'medication_status')\n",
    "df_val = pd.DataFrame.from_dict(dset['validation'])\n",
    "df = pd.DataFrame.from_dict(dset['test'])\n",
    "# df = pd.concat([val, test])\n",
    "nums = np.arange(len(df)).tolist()\n",
    "np.random.default_rng(seed=13).shuffle(nums)\n",
    "dfe = df.iloc[nums]\n",
    "r_med = clin.eval.med_status.add_status_eval(r_med, dfe)\n",
    "\n",
    "cols = {\n",
    "    'f1___original': 'Medication extraction, original',\n",
    "    'f1___ov_pv_ev': 'Medication extraction, self-verified',\n",
    "    'status_f1_macro_cond___original': 'Medication status, original',\n",
    "    'status_f1_macro_cond___sv': 'Medication status, self-verified',\n",
    "}\n",
    "rt_med_status = r_med.groupby(['checkpoint', 'n_shots'])[list(cols.keys())].mean().rename(columns=cols).round(3).T\n",
    "viz_blue_rows(rt_med_status)"
   ]
  },
  {
   "cell_type": "code",
   "execution_count": 35,
   "metadata": {},
   "outputs": [
    {
     "data": {
      "text/html": [
       "<style type=\"text/css\">\n",
       "#T_661c4_row1_col0, #T_661c4_row1_col1, #T_661c4_row1_col2, #T_661c4_row1_col3, #T_661c4_row3_col0, #T_661c4_row3_col1, #T_661c4_row3_col2, #T_661c4_row3_col3, #T_661c4_row5_col0, #T_661c4_row5_col1, #T_661c4_row5_col2, #T_661c4_row5_col3 {\n",
       "  background: lightblue;\n",
       "  font-weight: bold;\n",
       "}\n",
       "</style>\n",
       "<table id=\"T_661c4\">\n",
       "  <thead>\n",
       "    <tr>\n",
       "      <th class=\"index_name level0\" >checkpoint</th>\n",
       "      <th id=\"T_661c4_level0_col0\" class=\"col_heading level0 col0\" colspan=\"2\">gpt-4-0314</th>\n",
       "      <th id=\"T_661c4_level0_col2\" class=\"col_heading level0 col2\" colspan=\"2\">text-davinci-003</th>\n",
       "    </tr>\n",
       "    <tr>\n",
       "      <th class=\"index_name level1\" >n_shots</th>\n",
       "      <th id=\"T_661c4_level1_col0\" class=\"col_heading level1 col0\" >1</th>\n",
       "      <th id=\"T_661c4_level1_col1\" class=\"col_heading level1 col1\" >5</th>\n",
       "      <th id=\"T_661c4_level1_col2\" class=\"col_heading level1 col2\" >1</th>\n",
       "      <th id=\"T_661c4_level1_col3\" class=\"col_heading level1 col3\" >5</th>\n",
       "    </tr>\n",
       "  </thead>\n",
       "  <tbody>\n",
       "    <tr>\n",
       "      <th id=\"T_661c4_level0_row0\" class=\"row_heading level0 row0\" >Clinical trial arm extraction, original</th>\n",
       "      <td id=\"T_661c4_row0_col0\" class=\"data row0 col0\" >0.232</td>\n",
       "      <td id=\"T_661c4_row0_col1\" class=\"data row0 col1\" >0.392</td>\n",
       "      <td id=\"T_661c4_row0_col2\" class=\"data row0 col2\" >0.339</td>\n",
       "      <td id=\"T_661c4_row0_col3\" class=\"data row0 col3\" >0.534</td>\n",
       "    </tr>\n",
       "    <tr>\n",
       "      <th id=\"T_661c4_level0_row1\" class=\"row_heading level0 row1\" >Clinical trial arm extraction, self-verified</th>\n",
       "      <td id=\"T_661c4_row1_col0\" class=\"data row1 col0\" >0.400</td>\n",
       "      <td id=\"T_661c4_row1_col1\" class=\"data row1 col1\" >0.510</td>\n",
       "      <td id=\"T_661c4_row1_col2\" class=\"data row1 col2\" >0.507</td>\n",
       "      <td id=\"T_661c4_row1_col3\" class=\"data row1 col3\" >0.617</td>\n",
       "    </tr>\n",
       "    <tr>\n",
       "      <th id=\"T_661c4_level0_row2\" class=\"row_heading level0 row2\" >Medication extraction, original</th>\n",
       "      <td id=\"T_661c4_row2_col0\" class=\"data row2 col0\" >0.843</td>\n",
       "      <td id=\"T_661c4_row2_col1\" class=\"data row2 col1\" >0.874</td>\n",
       "      <td id=\"T_661c4_row2_col2\" class=\"data row2 col2\" >0.900</td>\n",
       "      <td id=\"T_661c4_row2_col3\" class=\"data row2 col3\" >0.922</td>\n",
       "    </tr>\n",
       "    <tr>\n",
       "      <th id=\"T_661c4_level0_row3\" class=\"row_heading level0 row3\" >Medication extraction, self-verified</th>\n",
       "      <td id=\"T_661c4_row3_col0\" class=\"data row3 col0\" >0.883</td>\n",
       "      <td id=\"T_661c4_row3_col1\" class=\"data row3 col1\" >0.895</td>\n",
       "      <td id=\"T_661c4_row3_col2\" class=\"data row3 col2\" >0.918</td>\n",
       "      <td id=\"T_661c4_row3_col3\" class=\"data row3 col3\" >0.939</td>\n",
       "    </tr>\n",
       "    <tr>\n",
       "      <th id=\"T_661c4_level0_row4\" class=\"row_heading level0 row4\" >Medication status, original</th>\n",
       "      <td id=\"T_661c4_row4_col0\" class=\"data row4 col0\" >0.037</td>\n",
       "      <td id=\"T_661c4_row4_col1\" class=\"data row4 col1\" >0.140</td>\n",
       "      <td id=\"T_661c4_row4_col2\" class=\"data row4 col2\" >0.484</td>\n",
       "      <td id=\"T_661c4_row4_col3\" class=\"data row4 col3\" >0.581</td>\n",
       "    </tr>\n",
       "    <tr>\n",
       "      <th id=\"T_661c4_level0_row5\" class=\"row_heading level0 row5\" >Medication status, self-verified</th>\n",
       "      <td id=\"T_661c4_row5_col0\" class=\"data row5 col0\" >0.064</td>\n",
       "      <td id=\"T_661c4_row5_col1\" class=\"data row5 col1\" >0.170</td>\n",
       "      <td id=\"T_661c4_row5_col2\" class=\"data row5 col2\" >0.548</td>\n",
       "      <td id=\"T_661c4_row5_col3\" class=\"data row5 col3\" >0.672</td>\n",
       "    </tr>\n",
       "  </tbody>\n",
       "</table>\n"
      ],
      "text/plain": [
       "<pandas.io.formats.style.Styler at 0x7f3f3c126490>"
      ]
     },
     "execution_count": 35,
     "metadata": {},
     "output_type": "execute_result"
    }
   ],
   "source": [
    "rt = pd.concat((rt_ebm, rt_med_status))\n",
    "viz_blue_rows(rt)"
   ]
  }
 ],
 "metadata": {
  "kernelspec": {
   "display_name": ".embgam",
   "language": "python",
   "name": "python3"
  },
  "language_info": {
   "codemirror_mode": {
    "name": "ipython",
    "version": 3
   },
   "file_extension": ".py",
   "mimetype": "text/x-python",
   "name": "python",
   "nbconvert_exporter": "python",
   "pygments_lexer": "ipython3",
   "version": "3.11.3"
  },
  "orig_nbformat": 4,
  "vscode": {
   "interpreter": {
    "hash": "559535f78d940c882783b39501b2581b5193373045707e5f8a51d046029cfd38"
   }
  }
 },
 "nbformat": 4,
 "nbformat_minor": 2
}
