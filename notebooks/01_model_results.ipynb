{
 "cells": [
  {
   "cell_type": "code",
   "execution_count": null,
   "metadata": {},
   "outputs": [],
   "source": [
    "%load_ext autoreload\n",
    "%autoreload 2\n",
    "import os\n",
    "import matplotlib.pyplot as plt\n",
    "import seaborn as sns\n",
    "from os.path import join\n",
    "from tqdm import tqdm\n",
    "import pandas as pd\n",
    "import joblib\n",
    "import notebook_helper\n",
    "import sys\n",
    "sys.path.append('../experiments/')\n",
    "results_dir = '../results/'"
   ]
  },
  {
   "attachments": {},
   "cell_type": "markdown",
   "metadata": {},
   "source": [
    "Load the results into a pandas dataframe"
   ]
  },
  {
   "cell_type": "code",
   "execution_count": null,
   "metadata": {},
   "outputs": [],
   "source": [
    "dir_names = sorted([fname\n",
    "                    for fname in os.listdir(results_dir)\n",
    "                    if os.path.isdir(join(results_dir, fname))\n",
    "                    and os.path.exists(join(results_dir, fname, 'results.pkl'))\n",
    "                    ])\n",
    "results_list = []\n",
    "for dir_name in tqdm(dir_names):\n",
    "    ser = pd.Series(\n",
    "        joblib.load(join(results_dir, dir_name, 'results.pkl')))\n",
    "    results_list.append(ser)\n",
    "\n",
    "r = pd.concat(results_list, axis=1).T.infer_objects()\n",
    "r.to_pickle(join(results_dir, 'results_aggregated.pkl'))"
   ]
  },
  {
   "cell_type": "code",
   "execution_count": null,
   "metadata": {},
   "outputs": [],
   "source": [
    "r"
   ]
  },
  {
   "cell_type": "code",
   "execution_count": null,
   "metadata": {},
   "outputs": [],
   "source": [
    "r.iloc[0]['resps']"
   ]
  },
  {
   "cell_type": "code",
   "execution_count": null,
   "metadata": {},
   "outputs": [],
   "source": [
    "# fill missing args with default values from argparse\n",
    "r = notebook_helper.fill_missing_args_with_default(r, fname='01_train_model.py')\n",
    "\n",
    "# group using these experiment hyperparams when averaging over random seeds\n",
    "group_keys = [k for k in notebook_helper.get_main_args_list(fname='01_train_model.py') if not k == 'seed']\n",
    "ravg = (\n",
    "    r\n",
    "    .groupby(by=group_keys)\n",
    "    .mean()\n",
    "    .reset_index()\n",
    ")\n",
    "\n",
    "# apply cross validation\n",
    "ravg_cv = (\n",
    "    ravg\n",
    "    .sort_values(by='accuracy_cv', ascending=False)\n",
    "    .groupby(by=['model_name', 'dataset_name'])\n",
    "    .first()\n",
    "    .reset_index()\n",
    ")\n",
    "ravg_cv"
   ]
  },
  {
   "cell_type": "code",
   "execution_count": null,
   "metadata": {},
   "outputs": [],
   "source": [
    "sns.barplot(data=ravg_cv, x='model_name', y='accuracy_test') #, hue='dataset_name')\n",
    "plt.show()"
   ]
  },
  {
   "attachments": {},
   "cell_type": "markdown",
   "metadata": {},
   "source": [
    "Load an individual model"
   ]
  },
  {
   "cell_type": "code",
   "execution_count": null,
   "metadata": {},
   "outputs": [],
   "source": [
    "run_args = r.iloc[0]\n",
    "model = joblib.load(join(run_args.save_dir_unique, 'model.pkl'))\n",
    "model"
   ]
  }
 ],
 "metadata": {
  "kernelspec": {
   "display_name": ".embgam",
   "language": "python",
   "name": "python3"
  },
  "language_info": {
   "codemirror_mode": {
    "name": "ipython",
    "version": 3
   },
   "file_extension": ".py",
   "mimetype": "text/x-python",
   "name": "python",
   "nbconvert_exporter": "python",
   "pygments_lexer": "ipython3",
   "version": "3.11.3"
  },
  "orig_nbformat": 4,
  "vscode": {
   "interpreter": {
    "hash": "559535f78d940c882783b39501b2581b5193373045707e5f8a51d046029cfd38"
   }
  }
 },
 "nbformat": 4,
 "nbformat_minor": 2
}
