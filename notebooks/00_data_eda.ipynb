{
 "cells": [
  {
   "cell_type": "code",
   "execution_count": null,
   "metadata": {},
   "outputs": [],
   "source": [
    "%load_ext autoreload\n",
    "%autoreload 2\n",
    "import os\n",
    "import matplotlib.pyplot as plt\n",
    "import seaborn as sns\n",
    "from os.path import join\n",
    "from tqdm import tqdm\n",
    "import pandas as pd\n",
    "import joblib\n",
    "import sys\n",
    "import clin.llm\n",
    "import datasets\n",
    "import time\n",
    "import openai\n",
    "openai.api_key_path = '/home/chansingh/.OPENAI_KEY'\n",
    "import numpy as np\n",
    "from typing import List"
   ]
  },
  {
   "cell_type": "code",
   "execution_count": null,
   "metadata": {},
   "outputs": [],
   "source": [
    "# dataset: mitclinicalml/clinical-ie\n",
    "# 3 splits here: 'medication_status', 'medication_attr', 'coreference\n",
    "llm = clin.llm.get_llm('gpt-4-0314')"
   ]
  },
  {
   "attachments": {},
   "cell_type": "markdown",
   "metadata": {},
   "source": [
    "## List medications task"
   ]
  },
  {
   "cell_type": "code",
   "execution_count": null,
   "metadata": {},
   "outputs": [],
   "source": [
    "dset = datasets.load_dataset('mitclinicalml/clinical-ie', 'medication_status')\n",
    "val = pd.DataFrame.from_dict(dset['validation'])\n",
    "test = pd.DataFrame.from_dict(dset['test'])\n",
    "df = pd.concat([val, test])\n",
    "\n",
    "def list_medications(row) -> str:\n",
    "    def str_to_list(s):\n",
    "        l = s.replace('[', '').replace(']', '').split(',')\n",
    "        l = [val.strip() for val in l]\n",
    "        if l == ['']:\n",
    "            return []\n",
    "        else:\n",
    "            return l\n",
    "        \n",
    "    d = [('active', val) for val in str_to_list(row['active_medications'])] + \\\n",
    "        [('discontinued', val) for val in str_to_list(row['discontinued_medications'])] + \\\n",
    "        [('neither', val) for val in str_to_list(row['neither_medications'])]\n",
    "    np.random.default_rng(seed=13).shuffle(d)\n",
    "    # print(d)\n",
    "    s = '- ' + '\\n- '.join([f'{med} ({status})' for status, med in d])\n",
    "    return s\n",
    "# print(list_medications(row))"
   ]
  },
  {
   "cell_type": "code",
   "execution_count": null,
   "metadata": {},
   "outputs": [],
   "source": [
    "def get_multishot_prompt(df, examples_nums_shot: List[int], ex_num: int):\n",
    "    prompt = ''\n",
    "    for ex in examples_nums_shot:\n",
    "        prompt += f'''Patient note: {df.iloc[ex]['snippet']}\n",
    "\n",
    "Create a bulleted list of which medications are mentioned and whether they are active, discontinued, or neither.\n",
    "\n",
    "{list_medications(df.iloc[ex])}\n",
    "\n",
    "'''\n",
    "    prompt += f'''Patient note: {df.iloc[ex_num]['snippet']}\n",
    "\n",
    "Create a bulleted list of which medications are mentioned and whether they are active, discontinued, or neither.\n",
    "\n",
    "-'''\n",
    "    return prompt\n",
    "\n",
    "# \"\"\"\n",
    "# - \"Kadian\" (active)\n",
    "# -\"Dilaudid\" (discontinued)\n",
    "# -\"Levaquin\" (active)\n",
    "# \"\"\"\n",
    "\n",
    "nums = np.arange(len(df)).tolist()\n",
    "np.random.default_rng(seed=13).shuffle(nums)\n",
    "n_shots = 1\n",
    "for i in tqdm(range(len(nums))):\n",
    "    # print(i)\n",
    "    if i - n_shots < 0:\n",
    "        examples_nums_shot = nums[i - n_shots:] + nums[:i]\n",
    "    else:\n",
    "        examples_nums_shot = nums[i - n_shots: i]\n",
    "    ex_num = nums[i]\n",
    "    prompt = get_multishot_prompt(df, examples_nums_shot, ex_num)\n",
    "\n",
    "    response = None\n",
    "    while response is None:\n",
    "        try:\n",
    "            messages = [\n",
    "                {\"role\": \"system\", \"content\": \"You are a helpful assistant.\"},\n",
    "                {\"role\": \"user\", \"content\": prompt},\n",
    "                # {\"role\": \"assistant\", \"content\": \"The Los Angeles Dodgers won the World Series in 2020.\"},\n",
    "                # {\"role\": \"user\", \"content\": \"Where was it played?\"}\n",
    "            ]\n",
    "            response = llm(messages)\n",
    "        except:\n",
    "            time.sleep(1)"
   ]
  },
  {
   "cell_type": "code",
   "execution_count": null,
   "metadata": {},
   "outputs": [],
   "source": [
    "if response is not None:\n",
    "    response_text = response['choices'][0]['message']['content']\n",
    "print(response_text)"
   ]
  }
 ],
 "metadata": {
  "kernelspec": {
   "display_name": ".embgam",
   "language": "python",
   "name": "python3"
  },
  "language_info": {
   "codemirror_mode": {
    "name": "ipython",
    "version": 3
   },
   "file_extension": ".py",
   "mimetype": "text/x-python",
   "name": "python",
   "nbconvert_exporter": "python",
   "pygments_lexer": "ipython3",
   "version": "3.11.3"
  },
  "orig_nbformat": 4,
  "vscode": {
   "interpreter": {
    "hash": "559535f78d940c882783b39501b2581b5193373045707e5f8a51d046029cfd38"
   }
  }
 },
 "nbformat": 4,
 "nbformat_minor": 2
}
