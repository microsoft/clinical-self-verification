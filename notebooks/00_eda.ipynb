{
 "cells": [
  {
   "cell_type": "code",
   "execution_count": null,
   "metadata": {},
   "outputs": [],
   "source": [
    "%load_ext autoreload\n",
    "%autoreload 2\n",
    "import os\n",
    "import matplotlib.pyplot as plt\n",
    "import seaborn as sns\n",
    "from os.path import join\n",
    "from tqdm import tqdm\n",
    "import pandas as pd\n",
    "import joblib\n",
    "import sys\n",
    "import clin.llm\n",
    "import datasets\n",
    "import time\n",
    "import openai\n",
    "openai.api_key_path = '/home/chansingh/.OPENAI_KEY'\n",
    "import numpy as np\n",
    "from typing import List, Dict\n",
    "import clin.prompts\n",
    "import clin.eval\n",
    "from collections import defaultdict"
   ]
  },
  {
   "cell_type": "code",
   "execution_count": null,
   "metadata": {},
   "outputs": [],
   "source": [
    "# dataset: mitclinicalml/clinical-ie\n",
    "# 3 splits here: 'medication_status', 'medication_attr', 'coreference\n",
    "llm = clin.llm.get_llm('gpt-4-0314')"
   ]
  },
  {
   "attachments": {},
   "cell_type": "markdown",
   "metadata": {},
   "source": [
    "## List medications task"
   ]
  },
  {
   "cell_type": "code",
   "execution_count": 7,
   "metadata": {},
   "outputs": [
    {
     "name": "stderr",
     "output_type": "stream",
     "text": [
      "Found cached dataset clinical-ie (/home/chansingh/.cache/huggingface/datasets/mitclinicalml___clinical-ie/medication_status/1.0.3/5a94c4c9014c297b41f864a521b81b02d896202de0171cc958e44805e0713fee)\n"
     ]
    },
    {
     "data": {
      "application/vnd.jupyter.widget-view+json": {
       "model_id": "84a41110721149c8a8cb5441ed21b59b",
       "version_major": 2,
       "version_minor": 0
      },
      "text/plain": [
       "  0%|          | 0/2 [00:00<?, ?it/s]"
      ]
     },
     "metadata": {},
     "output_type": "display_data"
    }
   ],
   "source": [
    "dset = datasets.load_dataset('mitclinicalml/clinical-ie', 'medication_status')\n",
    "val = pd.DataFrame.from_dict(dset['validation'])\n",
    "test = pd.DataFrame.from_dict(dset['test'])\n",
    "df = pd.concat([val, test])\n",
    "nums = np.arange(len(df)).tolist()\n",
    "np.random.default_rng(seed=13).shuffle(nums)\n",
    "dfe = df.iloc[nums]"
   ]
  },
  {
   "cell_type": "code",
   "execution_count": null,
   "metadata": {},
   "outputs": [],
   "source": [
    "nums = np.arange(len(df)).tolist()\n",
    "np.random.default_rng(seed=13).shuffle(nums)\n",
    "n_shots = 5\n",
    "resps = []\n",
    "for i in tqdm(range(len(nums))):\n",
    "    # print(i)\n",
    "    if i - n_shots < 0:\n",
    "        examples_nums_shot = nums[i - n_shots:] + nums[:i]\n",
    "    else:\n",
    "        examples_nums_shot = nums[i - n_shots: i]\n",
    "    ex_num = nums[i]\n",
    "    prompt = clin.prompts.get_multishot_prompt(df, examples_nums_shot, ex_num)\n",
    "\n",
    "    response = None\n",
    "    while response is None:\n",
    "        try:\n",
    "            messages = [\n",
    "                {\"role\": \"system\", \"content\": \"You are a helpful assistant.\"},\n",
    "                {\"role\": \"user\", \"content\": prompt},\n",
    "                # {\"role\": \"assistant\", \"content\": \"The Los Angeles Dodgers won the World Series in 2020.\"},\n",
    "                # {\"role\": \"user\", \"content\": \"Where was it played?\"}\n",
    "            ]\n",
    "            response = llm(messages)\n",
    "        except:\n",
    "            time.sleep(1)\n",
    "    resps.append(response)"
   ]
  },
  {
   "cell_type": "code",
   "execution_count": 5,
   "metadata": {},
   "outputs": [
    {
     "name": "stderr",
     "output_type": "stream",
     "text": [
      "/tmp/ipykernel_3458196/2426067716.py:2: SettingWithCopyWarning: \n",
      "A value is trying to be set on a copy of a slice from a DataFrame.\n",
      "Try using .loc[row_indexer,col_indexer] = value instead\n",
      "\n",
      "See the caveats in the documentation: https://pandas.pydata.org/pandas-docs/stable/user_guide/indexing.html#returning-a-view-versus-a-copy\n",
      "  dfe['resps'] = resps\n"
     ]
    }
   ],
   "source": [
    "dfe = df.iloc[nums]\n",
    "dfe['resps'] = resps"
   ]
  },
  {
   "cell_type": "code",
   "execution_count": 6,
   "metadata": {},
   "outputs": [
    {
     "data": {
      "text/html": [
       "<div>\n",
       "<style scoped>\n",
       "    .dataframe tbody tr th:only-of-type {\n",
       "        vertical-align: middle;\n",
       "    }\n",
       "\n",
       "    .dataframe tbody tr th {\n",
       "        vertical-align: top;\n",
       "    }\n",
       "\n",
       "    .dataframe thead th {\n",
       "        text-align: right;\n",
       "    }\n",
       "</style>\n",
       "<table border=\"1\" class=\"dataframe\">\n",
       "  <thead>\n",
       "    <tr style=\"text-align: right;\">\n",
       "      <th></th>\n",
       "      <th>index</th>\n",
       "      <th>snippet</th>\n",
       "      <th>active_medications</th>\n",
       "      <th>discontinued_medications</th>\n",
       "      <th>neither_medications</th>\n",
       "      <th>resps</th>\n",
       "    </tr>\n",
       "  </thead>\n",
       "  <tbody>\n",
       "    <tr>\n",
       "      <th>12</th>\n",
       "      <td>17</td>\n",
       "      <td>_%#NAME#%_ is asplenic so gatifloxacin was ini...</td>\n",
       "      <td>[\"gatifloxacin\", \"acyclovir\", \"Bactrim\"]</td>\n",
       "      <td>[\"systemic steroids\", \"cyclosporin\"]</td>\n",
       "      <td>[]</td>\n",
       "      <td>{'id': 'chatcmpl-7BI1T2IJglWMAuvy5n6hGxktfZ4lD...</td>\n",
       "    </tr>\n",
       "    <tr>\n",
       "      <th>28</th>\n",
       "      <td>33</td>\n",
       "      <td>The patient was started on levothyroxine 0.15 ...</td>\n",
       "      <td>[]</td>\n",
       "      <td>[\"levothyroxine\"]</td>\n",
       "      <td>[]</td>\n",
       "      <td>{'id': 'chatcmpl-7BI1cePy4bg9FvXc7iCfxF6eydA8g...</td>\n",
       "    </tr>\n",
       "    <tr>\n",
       "      <th>59</th>\n",
       "      <td>64</td>\n",
       "      <td>PHYSICAL EXAMINATION: VITAL SIGNS: Temperature...</td>\n",
       "      <td>[\"clindamycin\"]</td>\n",
       "      <td>[\"azithromycin\", \"ceftriaxone\"]</td>\n",
       "      <td>[]</td>\n",
       "      <td>{'id': 'chatcmpl-7BI1gn09aahJcqKoxnBPnzgJMDuyB...</td>\n",
       "    </tr>\n",
       "    <tr>\n",
       "      <th>18</th>\n",
       "      <td>23</td>\n",
       "      <td>Her Lipitor has been discontinued after admiss...</td>\n",
       "      <td>[\"Zocor\", \"Haldol\"]</td>\n",
       "      <td>[\"Lipitor\"]</td>\n",
       "      <td>[]</td>\n",
       "      <td>{'id': 'chatcmpl-7BI1lFcX9uWnYMuyZEZim6o2qJAJ8...</td>\n",
       "    </tr>\n",
       "    <tr>\n",
       "      <th>34</th>\n",
       "      <td>39</td>\n",
       "      <td>2. Minimal fluid overload. 3. Acute on chronic...</td>\n",
       "      <td>[\"metoprol\", \"EC ASA\"]</td>\n",
       "      <td>[\"lisinopril\", \"lasix\"]</td>\n",
       "      <td>[]</td>\n",
       "      <td>{'id': 'chatcmpl-7BIYX2Fhhf5e1261d7gKwD8RLUbCK...</td>\n",
       "    </tr>\n",
       "  </tbody>\n",
       "</table>\n",
       "</div>"
      ],
      "text/plain": [
       "    index                                            snippet   \n",
       "12     17  _%#NAME#%_ is asplenic so gatifloxacin was ini...  \\\n",
       "28     33  The patient was started on levothyroxine 0.15 ...   \n",
       "59     64  PHYSICAL EXAMINATION: VITAL SIGNS: Temperature...   \n",
       "18     23  Her Lipitor has been discontinued after admiss...   \n",
       "34     39  2. Minimal fluid overload. 3. Acute on chronic...   \n",
       "\n",
       "                          active_medications   \n",
       "12  [\"gatifloxacin\", \"acyclovir\", \"Bactrim\"]  \\\n",
       "28                                        []   \n",
       "59                           [\"clindamycin\"]   \n",
       "18                       [\"Zocor\", \"Haldol\"]   \n",
       "34                    [\"metoprol\", \"EC ASA\"]   \n",
       "\n",
       "                discontinued_medications neither_medications   \n",
       "12  [\"systemic steroids\", \"cyclosporin\"]                  []  \\\n",
       "28                     [\"levothyroxine\"]                  []   \n",
       "59       [\"azithromycin\", \"ceftriaxone\"]                  []   \n",
       "18                           [\"Lipitor\"]                  []   \n",
       "34               [\"lisinopril\", \"lasix\"]                  []   \n",
       "\n",
       "                                                resps  \n",
       "12  {'id': 'chatcmpl-7BI1T2IJglWMAuvy5n6hGxktfZ4lD...  \n",
       "28  {'id': 'chatcmpl-7BI1cePy4bg9FvXc7iCfxF6eydA8g...  \n",
       "59  {'id': 'chatcmpl-7BI1gn09aahJcqKoxnBPnzgJMDuyB...  \n",
       "18  {'id': 'chatcmpl-7BI1lFcX9uWnYMuyZEZim6o2qJAJ8...  \n",
       "34  {'id': 'chatcmpl-7BIYX2Fhhf5e1261d7gKwD8RLUbCK...  "
      ]
     },
     "execution_count": 6,
     "metadata": {},
     "output_type": "execute_result"
    }
   ],
   "source": [
    "dfe.head()"
   ]
  },
  {
   "cell_type": "code",
   "execution_count": null,
   "metadata": {},
   "outputs": [],
   "source": [
    "mets_dict = defaultdict(list)\n",
    "for i in range(len(dfe)):\n",
    "    # print(i)\n",
    "    medications_list_resp = clin.eval.parse_response_medication_list(dfe.iloc[i]['resps'])\n",
    "    mets = clin.eval.eval_med_extraction(medications_list_resp, dfe.iloc[i])\n",
    "    for k in ['precision', 'recall']:\n",
    "        mets_dict[k].append(mets[k])\n",
    "# for resp in dfe['resps'][:3]:\n",
    "    # print(resp, end='\\n\\n')\n",
    "    # print(parse_response_list(resp))\n",
    "    # eval_med_extraction(parse_response_list(resp), dfe.iloc[0])"
   ]
  },
  {
   "cell_type": "code",
   "execution_count": null,
   "metadata": {},
   "outputs": [],
   "source": [
    "print(f'recall {np.mean(mets_dict[\"recall\"]):.3f} precision {np.mean(mets_dict[\"precision\"]):.3f}')"
   ]
  }
 ],
 "metadata": {
  "kernelspec": {
   "display_name": ".embgam",
   "language": "python",
   "name": "python3"
  },
  "language_info": {
   "codemirror_mode": {
    "name": "ipython",
    "version": 3
   },
   "file_extension": ".py",
   "mimetype": "text/x-python",
   "name": "python",
   "nbconvert_exporter": "python",
   "pygments_lexer": "ipython3",
   "version": "3.11.3"
  },
  "orig_nbformat": 4,
  "vscode": {
   "interpreter": {
    "hash": "559535f78d940c882783b39501b2581b5193373045707e5f8a51d046029cfd38"
   }
  }
 },
 "nbformat": 4,
 "nbformat_minor": 2
}
