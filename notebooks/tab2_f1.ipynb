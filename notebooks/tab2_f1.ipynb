{
 "cells": [
  {
   "cell_type": "code",
   "execution_count": 11,
   "metadata": {},
   "outputs": [
    {
     "name": "stdout",
     "output_type": "stream",
     "text": [
      "The autoreload extension is already loaded. To reload it, use:\n",
      "  %reload_ext autoreload\n"
     ]
    },
    {
     "name": "stderr",
     "output_type": "stream",
     "text": [
      "100%|██████████| 60/60 [00:00<00:00, 1867.62it/s]\n"
     ]
    }
   ],
   "source": [
    "%load_ext autoreload\n",
    "%autoreload 2\n",
    "from os.path import join\n",
    "from tqdm import tqdm\n",
    "import pandas as pd\n",
    "import numpy as np\n",
    "import clin.llm\n",
    "import clin.eval.med_status\n",
    "import clin.parse\n",
    "import openai\n",
    "openai.api_key_path = '/home/chansingh/.OPENAI_KEY'\n",
    "from typing import List\n",
    "results_dir = '../results/'\n",
    "# results_dir = '../results_tmp/'\n",
    "from clin.config import PATH_REPO\n",
    "import datasets\n",
    "import imodelsx.viz\n",
    "import imodelsx.process_results\n",
    "def viz_blue_rows(df):\n",
    "    return (\n",
    "        df\n",
    "        # highlight rows 2 and 4 including the index\n",
    "        .style.apply(lambda x: ['background: lightblue' if 'self-verified' in x.name else '' for i in x], axis=1)\n",
    "        # bold index label for row 2\n",
    "        .apply(lambda x: ['font-weight: bold' if 'self-verified' in x.name else '' for i in x], axis=1)\n",
    "        .format(precision=3)\n",
    "    )   \n",
    "r = imodelsx.process_results.get_results_df(results_dir, use_cached=False)\n",
    "r = r[r.checkpoint != 'chaoyi-wu/PMC_LLAMA_7B']\n",
    "r = r[r.n_shots == 5]\n",
    "r = r[[col for col in r.columns if not col in ['checkpoint_verify', 'role_verify']]]\n",
    "# r = imodelsx.process_results.average_over_seeds(r, experiment_filename=join(PATH_REPO, 'experiments', 'eval_model.py'))"
   ]
  },
  {
   "cell_type": "code",
   "execution_count": 12,
   "metadata": {},
   "outputs": [
    {
     "data": {
      "application/vnd.jupyter.widget-view+json": {
       "model_id": "228008f289d14c298e661b1fab5e77e7",
       "version_major": 2,
       "version_minor": 0
      },
      "text/plain": [
       "  0%|          | 0/2 [00:00<?, ?it/s]"
      ]
     },
     "metadata": {},
     "output_type": "display_data"
    },
    {
     "name": "stderr",
     "output_type": "stream",
     "text": [
      "/home/chansingh/clinical-extract-and-check/clin/eval/med_status.py:40: SettingWithCopyWarning: \n",
      "A value is trying to be set on a copy of a slice from a DataFrame.\n",
      "Try using .loc[row_indexer,col_indexer] = value instead\n",
      "\n",
      "See the caveats in the documentation: https://pandas.pydata.org/pandas-docs/stable/user_guide/indexing.html#returning-a-view-versus-a-copy\n",
      "  r[k] = d[k]\n",
      "/home/chansingh/clinical-extract-and-check/clin/eval/med_status.py:40: SettingWithCopyWarning: \n",
      "A value is trying to be set on a copy of a slice from a DataFrame.\n",
      "Try using .loc[row_indexer,col_indexer] = value instead\n",
      "\n",
      "See the caveats in the documentation: https://pandas.pydata.org/pandas-docs/stable/user_guide/indexing.html#returning-a-view-versus-a-copy\n",
      "  r[k] = d[k]\n",
      "/home/chansingh/clinical-extract-and-check/clin/eval/med_status.py:40: SettingWithCopyWarning: \n",
      "A value is trying to be set on a copy of a slice from a DataFrame.\n",
      "Try using .loc[row_indexer,col_indexer] = value instead\n",
      "\n",
      "See the caveats in the documentation: https://pandas.pydata.org/pandas-docs/stable/user_guide/indexing.html#returning-a-view-versus-a-copy\n",
      "  r[k] = d[k]\n",
      "/home/chansingh/clinical-extract-and-check/clin/eval/med_status.py:40: SettingWithCopyWarning: \n",
      "A value is trying to be set on a copy of a slice from a DataFrame.\n",
      "Try using .loc[row_indexer,col_indexer] = value instead\n",
      "\n",
      "See the caveats in the documentation: https://pandas.pydata.org/pandas-docs/stable/user_guide/indexing.html#returning-a-view-versus-a-copy\n",
      "  r[k] = d[k]\n",
      "/home/chansingh/clinical-extract-and-check/clin/eval/med_status.py:40: SettingWithCopyWarning: \n",
      "A value is trying to be set on a copy of a slice from a DataFrame.\n",
      "Try using .loc[row_indexer,col_indexer] = value instead\n",
      "\n",
      "See the caveats in the documentation: https://pandas.pydata.org/pandas-docs/stable/user_guide/indexing.html#returning-a-view-versus-a-copy\n",
      "  r[k] = d[k]\n",
      "/home/chansingh/clinical-extract-and-check/clin/eval/med_status.py:40: SettingWithCopyWarning: \n",
      "A value is trying to be set on a copy of a slice from a DataFrame.\n",
      "Try using .loc[row_indexer,col_indexer] = value instead\n",
      "\n",
      "See the caveats in the documentation: https://pandas.pydata.org/pandas-docs/stable/user_guide/indexing.html#returning-a-view-versus-a-copy\n",
      "  r[k] = d[k]\n",
      "/home/chansingh/clinical-extract-and-check/clin/eval/med_status.py:40: SettingWithCopyWarning: \n",
      "A value is trying to be set on a copy of a slice from a DataFrame.\n",
      "Try using .loc[row_indexer,col_indexer] = value instead\n",
      "\n",
      "See the caveats in the documentation: https://pandas.pydata.org/pandas-docs/stable/user_guide/indexing.html#returning-a-view-versus-a-copy\n",
      "  r[k] = d[k]\n",
      "/home/chansingh/clinical-extract-and-check/clin/eval/med_status.py:40: SettingWithCopyWarning: \n",
      "A value is trying to be set on a copy of a slice from a DataFrame.\n",
      "Try using .loc[row_indexer,col_indexer] = value instead\n",
      "\n",
      "See the caveats in the documentation: https://pandas.pydata.org/pandas-docs/stable/user_guide/indexing.html#returning-a-view-versus-a-copy\n",
      "  r[k] = d[k]\n",
      "/home/chansingh/clinical-extract-and-check/clin/eval/med_status.py:40: SettingWithCopyWarning: \n",
      "A value is trying to be set on a copy of a slice from a DataFrame.\n",
      "Try using .loc[row_indexer,col_indexer] = value instead\n",
      "\n",
      "See the caveats in the documentation: https://pandas.pydata.org/pandas-docs/stable/user_guide/indexing.html#returning-a-view-versus-a-copy\n",
      "  r[k] = d[k]\n",
      "/home/chansingh/clinical-extract-and-check/clin/eval/med_status.py:40: SettingWithCopyWarning: \n",
      "A value is trying to be set on a copy of a slice from a DataFrame.\n",
      "Try using .loc[row_indexer,col_indexer] = value instead\n",
      "\n",
      "See the caveats in the documentation: https://pandas.pydata.org/pandas-docs/stable/user_guide/indexing.html#returning-a-view-versus-a-copy\n",
      "  r[k] = d[k]\n",
      "/home/chansingh/clinical-extract-and-check/clin/eval/med_status.py:40: SettingWithCopyWarning: \n",
      "A value is trying to be set on a copy of a slice from a DataFrame.\n",
      "Try using .loc[row_indexer,col_indexer] = value instead\n",
      "\n",
      "See the caveats in the documentation: https://pandas.pydata.org/pandas-docs/stable/user_guide/indexing.html#returning-a-view-versus-a-copy\n",
      "  r[k] = d[k]\n",
      "/home/chansingh/clinical-extract-and-check/clin/eval/med_status.py:40: SettingWithCopyWarning: \n",
      "A value is trying to be set on a copy of a slice from a DataFrame.\n",
      "Try using .loc[row_indexer,col_indexer] = value instead\n",
      "\n",
      "See the caveats in the documentation: https://pandas.pydata.org/pandas-docs/stable/user_guide/indexing.html#returning-a-view-versus-a-copy\n",
      "  r[k] = d[k]\n",
      "/home/chansingh/clinical-extract-and-check/clin/eval/med_status.py:40: SettingWithCopyWarning: \n",
      "A value is trying to be set on a copy of a slice from a DataFrame.\n",
      "Try using .loc[row_indexer,col_indexer] = value instead\n",
      "\n",
      "See the caveats in the documentation: https://pandas.pydata.org/pandas-docs/stable/user_guide/indexing.html#returning-a-view-versus-a-copy\n",
      "  r[k] = d[k]\n",
      "/home/chansingh/clinical-extract-and-check/clin/eval/med_status.py:40: SettingWithCopyWarning: \n",
      "A value is trying to be set on a copy of a slice from a DataFrame.\n",
      "Try using .loc[row_indexer,col_indexer] = value instead\n",
      "\n",
      "See the caveats in the documentation: https://pandas.pydata.org/pandas-docs/stable/user_guide/indexing.html#returning-a-view-versus-a-copy\n",
      "  r[k] = d[k]\n"
     ]
    },
    {
     "data": {
      "text/html": [
       "<style type=\"text/css\">\n",
       "#T_3e232_row1_col0, #T_3e232_row1_col1, #T_3e232_row1_col2, #T_3e232_row3_col0, #T_3e232_row3_col1, #T_3e232_row3_col2 {\n",
       "  background: lightblue;\n",
       "  font-weight: bold;\n",
       "}\n",
       "</style>\n",
       "<table id=\"T_3e232\">\n",
       "  <thead>\n",
       "    <tr>\n",
       "      <th class=\"index_name level0\" >checkpoint</th>\n",
       "      <th id=\"T_3e232_level0_col0\" class=\"col_heading level0 col0\" >gpt-3.5-turbo</th>\n",
       "      <th id=\"T_3e232_level0_col1\" class=\"col_heading level0 col1\" >gpt-4-0314</th>\n",
       "      <th id=\"T_3e232_level0_col2\" class=\"col_heading level0 col2\" >text-davinci-003</th>\n",
       "    </tr>\n",
       "  </thead>\n",
       "  <tbody>\n",
       "    <tr>\n",
       "      <th id=\"T_3e232_level0_row0\" class=\"row_heading level0 row0\" >Medication name, original</th>\n",
       "      <td id=\"T_3e232_row0_col0\" class=\"data row0 col0\" >0.892</td>\n",
       "      <td id=\"T_3e232_row0_col1\" class=\"data row0 col1\" >0.884</td>\n",
       "      <td id=\"T_3e232_row0_col2\" class=\"data row0 col2\" >0.929</td>\n",
       "    </tr>\n",
       "    <tr>\n",
       "      <th id=\"T_3e232_level0_row1\" class=\"row_heading level0 row1\" >Medication name, self-verified</th>\n",
       "      <td id=\"T_3e232_row1_col0\" class=\"data row1 col0\" >0.898</td>\n",
       "      <td id=\"T_3e232_row1_col1\" class=\"data row1 col1\" >0.910</td>\n",
       "      <td id=\"T_3e232_row1_col2\" class=\"data row1 col2\" >0.935</td>\n",
       "    </tr>\n",
       "    <tr>\n",
       "      <th id=\"T_3e232_level0_row2\" class=\"row_heading level0 row2\" >Medication status, original</th>\n",
       "      <td id=\"T_3e232_row2_col0\" class=\"data row2 col0\" >0.194</td>\n",
       "      <td id=\"T_3e232_row2_col1\" class=\"data row2 col1\" >0.139</td>\n",
       "      <td id=\"T_3e232_row2_col2\" class=\"data row2 col2\" >0.561</td>\n",
       "    </tr>\n",
       "    <tr>\n",
       "      <th id=\"T_3e232_level0_row3\" class=\"row_heading level0 row3\" >Medication status, self-verified</th>\n",
       "      <td id=\"T_3e232_row3_col0\" class=\"data row3 col0\" >0.346</td>\n",
       "      <td id=\"T_3e232_row3_col1\" class=\"data row3 col1\" >0.456</td>\n",
       "      <td id=\"T_3e232_row3_col2\" class=\"data row3 col2\" >0.581</td>\n",
       "    </tr>\n",
       "  </tbody>\n",
       "</table>\n"
      ],
      "text/plain": [
       "<pandas.io.formats.style.Styler at 0x7f10c20ccb10>"
      ]
     },
     "execution_count": 12,
     "metadata": {},
     "output_type": "execute_result"
    }
   ],
   "source": [
    "r_med = r[r.dataset_name == 'medication_status']\n",
    "dset = datasets.load_dataset('mitclinicalml/clinical-ie', 'medication_status')\n",
    "df_val = pd.DataFrame.from_dict(dset['validation'])\n",
    "df = pd.DataFrame.from_dict(dset['test'])\n",
    "# df = pd.concat([val, test])\n",
    "nums = np.arange(len(df)).tolist()\n",
    "np.random.default_rng(seed=13).shuffle(nums)\n",
    "# dfe = df.iloc[nums]\n",
    "r_med = clin.eval.med_status.add_status_eval(r_med, df)\n",
    "\n",
    "cols = {\n",
    "    'f1___original': 'Medication name, original',\n",
    "    'f1___ov_pv_ev': 'Medication name, self-verified',\n",
    "    'status_f1_macro_cond___original': 'Medication status, original',\n",
    "    'status_f1_macro_cond___sv': 'Medication status, self-verified',\n",
    "}\n",
    "rt_med_status = r_med.groupby(['checkpoint'])[list(cols.keys())].mean().rename(columns=cols).round(3).T\n",
    "rt_med_status_sem = r_med.groupby(['checkpoint'])[list(cols.keys())].sem(ddof=0).rename(columns=cols).round(3).T\n",
    "viz_blue_rows(rt_med_status)"
   ]
  },
  {
   "cell_type": "code",
   "execution_count": 13,
   "metadata": {},
   "outputs": [
    {
     "data": {
      "text/html": [
       "<style type=\"text/css\">\n",
       "#T_27534_row1_col0, #T_27534_row1_col1, #T_27534_row1_col2 {\n",
       "  background: lightblue;\n",
       "  font-weight: bold;\n",
       "}\n",
       "</style>\n",
       "<table id=\"T_27534\">\n",
       "  <thead>\n",
       "    <tr>\n",
       "      <th class=\"index_name level0\" >checkpoint</th>\n",
       "      <th id=\"T_27534_level0_col0\" class=\"col_heading level0 col0\" >gpt-3.5-turbo</th>\n",
       "      <th id=\"T_27534_level0_col1\" class=\"col_heading level0 col1\" >gpt-4-0314</th>\n",
       "      <th id=\"T_27534_level0_col2\" class=\"col_heading level0 col2\" >text-davinci-003</th>\n",
       "    </tr>\n",
       "  </thead>\n",
       "  <tbody>\n",
       "    <tr>\n",
       "      <th id=\"T_27534_level0_row0\" class=\"row_heading level0 row0\" >Clinical trial arm, original</th>\n",
       "      <td id=\"T_27534_row0_col0\" class=\"data row0 col0\" >0.342</td>\n",
       "      <td id=\"T_27534_row0_col1\" class=\"data row0 col1\" >0.419</td>\n",
       "      <td id=\"T_27534_row0_col2\" class=\"data row0 col2\" >0.512</td>\n",
       "    </tr>\n",
       "    <tr>\n",
       "      <th id=\"T_27534_level0_row1\" class=\"row_heading level0 row1\" >Clinical trial arm, self-verified</th>\n",
       "      <td id=\"T_27534_row1_col0\" class=\"data row1 col0\" >0.456</td>\n",
       "      <td id=\"T_27534_row1_col1\" class=\"data row1 col1\" >0.530</td>\n",
       "      <td id=\"T_27534_row1_col2\" class=\"data row1 col2\" >0.575</td>\n",
       "    </tr>\n",
       "  </tbody>\n",
       "</table>\n"
      ],
      "text/plain": [
       "<pandas.io.formats.style.Styler at 0x7f10af214d10>"
      ]
     },
     "execution_count": 13,
     "metadata": {},
     "output_type": "execute_result"
    }
   ],
   "source": [
    "r_ebm = r[r.dataset_name == 'ebm']\n",
    "cols = {\n",
    "    'f1___original': 'Clinical trial arm, original',\n",
    "    'f1___ov_pv_ev': 'Clinical trial arm, self-verified',\n",
    "}\n",
    "rt_ebm = r_ebm.groupby(['checkpoint'])[list(cols.keys())].mean().rename(columns=cols).round(3).T\n",
    "rt_ebm_sem = r_ebm.groupby(['checkpoint'])[list(cols.keys())].sem(ddof=0).rename(columns=cols).round(3).T\n",
    "viz_blue_rows(rt_ebm)"
   ]
  },
  {
   "cell_type": "code",
   "execution_count": 14,
   "metadata": {},
   "outputs": [
    {
     "name": "stderr",
     "output_type": "stream",
     "text": [
      "<>:2: DeprecationWarning: invalid escape sequence '\\e'\n",
      "<>:5: DeprecationWarning: invalid escape sequence '\\e'\n",
      "<>:2: DeprecationWarning: invalid escape sequence '\\e'\n",
      "<>:5: DeprecationWarning: invalid escape sequence '\\e'\n",
      "/tmp/ipykernel_1051835/2639324598.py:2: DeprecationWarning: invalid escape sequence '\\e'\n",
      "  rt_ebm[k] = rt_ebm[k].astype(str) + \"\\err{\" + rt_ebm_sem[k].astype(str) + \"}\"\n",
      "/tmp/ipykernel_1051835/2639324598.py:5: DeprecationWarning: invalid escape sequence '\\e'\n",
      "  rt_med_status[k].astype(str) + \"\\err{\" + rt_med_status_sem[k].astype(str) + \"}\"\n"
     ]
    },
    {
     "data": {
      "text/html": [
       "<style type=\"text/css\">\n",
       "#T_9031a_row1_col0, #T_9031a_row1_col1, #T_9031a_row1_col2, #T_9031a_row3_col0, #T_9031a_row3_col1, #T_9031a_row3_col2, #T_9031a_row5_col0, #T_9031a_row5_col1, #T_9031a_row5_col2 {\n",
       "  background: lightblue;\n",
       "  font-weight: bold;\n",
       "}\n",
       "</style>\n",
       "<table id=\"T_9031a\">\n",
       "  <thead>\n",
       "    <tr>\n",
       "      <th class=\"index_name level0\" >checkpoint</th>\n",
       "      <th id=\"T_9031a_level0_col0\" class=\"col_heading level0 col0\" >ChatGPT</th>\n",
       "      <th id=\"T_9031a_level0_col1\" class=\"col_heading level0 col1\" >GPT-4</th>\n",
       "      <th id=\"T_9031a_level0_col2\" class=\"col_heading level0 col2\" >GPT-3</th>\n",
       "    </tr>\n",
       "  </thead>\n",
       "  <tbody>\n",
       "    <tr>\n",
       "      <th id=\"T_9031a_level0_row0\" class=\"row_heading level0 row0\" >Clinical trial arm, original</th>\n",
       "      <td id=\"T_9031a_row0_col0\" class=\"data row0 col0\" >0.342\\err{0.01}</td>\n",
       "      <td id=\"T_9031a_row0_col1\" class=\"data row0 col1\" >0.419\\err{0.008}</td>\n",
       "      <td id=\"T_9031a_row0_col2\" class=\"data row0 col2\" >0.512\\err{0.009}</td>\n",
       "    </tr>\n",
       "    <tr>\n",
       "      <th id=\"T_9031a_level0_row1\" class=\"row_heading level0 row1\" >Clinical trial arm, self-verified</th>\n",
       "      <td id=\"T_9031a_row1_col0\" class=\"data row1 col0\" >0.456\\err{0.007}</td>\n",
       "      <td id=\"T_9031a_row1_col1\" class=\"data row1 col1\" >0.53\\err{0.01}</td>\n",
       "      <td id=\"T_9031a_row1_col2\" class=\"data row1 col2\" >0.575\\err{0.003}</td>\n",
       "    </tr>\n",
       "    <tr>\n",
       "      <th id=\"T_9031a_level0_row2\" class=\"row_heading level0 row2\" >Medication name, original</th>\n",
       "      <td id=\"T_9031a_row2_col0\" class=\"data row2 col0\" >0.892\\err{0.004}</td>\n",
       "      <td id=\"T_9031a_row2_col1\" class=\"data row2 col1\" >0.884\\err{0.003}</td>\n",
       "      <td id=\"T_9031a_row2_col2\" class=\"data row2 col2\" >0.929\\err{0.002}</td>\n",
       "    </tr>\n",
       "    <tr>\n",
       "      <th id=\"T_9031a_level0_row3\" class=\"row_heading level0 row3\" >Medication name, self-verified</th>\n",
       "      <td id=\"T_9031a_row3_col0\" class=\"data row3 col0\" >0.898\\err{0.002}</td>\n",
       "      <td id=\"T_9031a_row3_col1\" class=\"data row3 col1\" >0.91\\err{0.001}</td>\n",
       "      <td id=\"T_9031a_row3_col2\" class=\"data row3 col2\" >0.935\\err{0.001}</td>\n",
       "    </tr>\n",
       "    <tr>\n",
       "      <th id=\"T_9031a_level0_row4\" class=\"row_heading level0 row4\" >Medication status, original</th>\n",
       "      <td id=\"T_9031a_row4_col0\" class=\"data row4 col0\" >0.194\\err{0.01}</td>\n",
       "      <td id=\"T_9031a_row4_col1\" class=\"data row4 col1\" >0.139\\err{0.011}</td>\n",
       "      <td id=\"T_9031a_row4_col2\" class=\"data row4 col2\" >0.561\\err{0.058}</td>\n",
       "    </tr>\n",
       "    <tr>\n",
       "      <th id=\"T_9031a_level0_row5\" class=\"row_heading level0 row5\" >Medication status, self-verified</th>\n",
       "      <td id=\"T_9031a_row5_col0\" class=\"data row5 col0\" >0.346\\err{0.025}</td>\n",
       "      <td id=\"T_9031a_row5_col1\" class=\"data row5 col1\" >0.456\\err{0.048}</td>\n",
       "      <td id=\"T_9031a_row5_col2\" class=\"data row5 col2\" >0.581\\err{0.062}</td>\n",
       "    </tr>\n",
       "  </tbody>\n",
       "</table>\n"
      ],
      "text/plain": [
       "<pandas.io.formats.style.Styler at 0x7f10c02e4150>"
      ]
     },
     "execution_count": 14,
     "metadata": {},
     "output_type": "execute_result"
    }
   ],
   "source": [
    "for k in rt_ebm.columns:\n",
    "    rt_ebm[k] = rt_ebm[k].astype(str) + \"\\err{\" + rt_ebm_sem[k].astype(str) + \"}\"\n",
    "for k in rt_med_status.columns:\n",
    "    rt_med_status[k] = (\n",
    "        rt_med_status[k].astype(str) + \"\\err{\" + rt_med_status_sem[k].astype(str) + \"}\"\n",
    "    )\n",
    "rt = pd.concat((rt_ebm, rt_med_status))\n",
    "rt.columns = rt.columns.map(lambda x: imodelsx.viz.CHECKPOINTS_RENAME_DICT.get(x, x))\n",
    "viz_blue_rows(rt)"
   ]
  },
  {
   "cell_type": "code",
   "execution_count": 15,
   "metadata": {},
   "outputs": [
    {
     "name": "stdout",
     "output_type": "stream",
     "text": [
      "\\begin{tabular}{llll}\n",
      "\\toprule\n",
      "checkpoint & ChatGPT & GPT-4 & GPT-3 \\\\\n",
      "\\midrule\n",
      "Clinical trial arm, original & 0.342\\err{0.01} & 0.419\\err{0.008} & 0.512\\err{0.009} \\\\\n",
      "Clinical trial arm, self-verified & 0.456\\err{0.007} & 0.53\\err{0.01} & 0.575\\err{0.003} \\\\\n",
      "Medication name, original & 0.892\\err{0.004} & 0.884\\err{0.003} & 0.929\\err{0.002} \\\\\n",
      "Medication name, self-verified & 0.898\\err{0.002} & 0.91\\err{0.001} & 0.935\\err{0.001} \\\\\n",
      "Medication status, original & 0.194\\err{0.01} & 0.139\\err{0.011} & 0.561\\err{0.058} \\\\\n",
      "Medication status, self-verified & 0.346\\err{0.025} & 0.456\\err{0.048} & 0.581\\err{0.062} \\\\\n",
      "\\bottomrule\n",
      "\\end{tabular}\n",
      "\n"
     ]
    }
   ],
   "source": [
    "print(rt.style.format(precision=3).to_latex(hrules=True))"
   ]
  }
 ],
 "metadata": {
  "kernelspec": {
   "display_name": ".embgam",
   "language": "python",
   "name": "python3"
  },
  "language_info": {
   "codemirror_mode": {
    "name": "ipython",
    "version": 3
   },
   "file_extension": ".py",
   "mimetype": "text/x-python",
   "name": "python",
   "nbconvert_exporter": "python",
   "pygments_lexer": "ipython3",
   "version": "3.11.3"
  },
  "orig_nbformat": 4,
  "vscode": {
   "interpreter": {
    "hash": "559535f78d940c882783b39501b2581b5193373045707e5f8a51d046029cfd38"
   }
  }
 },
 "nbformat": 4,
 "nbformat_minor": 2
}
