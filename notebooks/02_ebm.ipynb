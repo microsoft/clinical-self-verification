{
 "cells": [
  {
   "cell_type": "code",
   "execution_count": 48,
   "metadata": {},
   "outputs": [
    {
     "name": "stdout",
     "output_type": "stream",
     "text": [
      "The autoreload extension is already loaded. To reload it, use:\n",
      "  %reload_ext autoreload\n"
     ]
    }
   ],
   "source": [
    "%load_ext autoreload\n",
    "%autoreload 2\n",
    "import os\n",
    "import matplotlib.pyplot as plt\n",
    "import seaborn as sns\n",
    "from os.path import join\n",
    "from tqdm import tqdm\n",
    "import pandas as pd\n",
    "import imodelsx.process_results\n",
    "import sys\n",
    "import datasets\n",
    "import numpy as np\n",
    "from copy import deepcopy\n",
    "import clin.eval\n",
    "import clin.llm\n",
    "import clin.parse\n",
    "from collections import defaultdict\n",
    "import openai\n",
    "openai.api_key_path = '/home/chansingh/.OPENAI_KEY'\n",
    "from typing import List\n",
    "results_dir = '../results/'\n",
    "from clin.config import PATH_REPO\n",
    "import clin.modules.ebm.extract\n",
    "import clin.modules.ebm.omission\n",
    "import clin.modules.ebm.prune\n",
    "from clin.modules import ebm\n",
    "import joblib\n",
    "\n",
    "df = joblib.load(join(PATH_REPO, 'data', 'ebm', 'ebm_interventions_cleaned.pkl'))\n",
    "df = df.iloc[:100]\n",
    "nums = np.arange(len(df)).tolist()\n",
    "np.random.default_rng(seed=13).shuffle(nums)\n",
    "dfe = df.iloc[nums]\n",
    "n = len(dfe)\n",
    "llm = clin.llm.get_llm('text-davinci-003')"
   ]
  },
  {
   "cell_type": "code",
   "execution_count": null,
   "metadata": {},
   "outputs": [],
   "source": [
    "r = {}\n",
    "i = 0\n",
    "extractor = ebm.extract.Extractor()\n",
    "n_shots = 5\n",
    "interventions = extractor(i, df, nums, n_shots, llm)"
   ]
  },
  {
   "cell_type": "code",
   "execution_count": 54,
   "metadata": {},
   "outputs": [
    {
     "name": "stderr",
     "output_type": "stream",
     "text": [
      "100%|██████████| 100/100 [00:00<00:00, 2762.45it/s]\n",
      "100%|██████████| 100/100 [00:00<00:00, 10467.44it/s]\n",
      "100%|██████████| 100/100 [00:00<00:00, 8900.57it/s]\n",
      "100%|██████████| 100/100 [00:00<00:00, 7037.42it/s]\n"
     ]
    }
   ],
   "source": [
    "ov = ebm.omission.OmissionVerifier()\n",
    "pv = ebm.prune.PruneVerifier()\n",
    "r[\"list_original\"] = [extractor(i, df, nums, n_shots, llm) for i in tqdm(range(len(df)))]\n",
    "\n",
    "r[\"list_ov\"] = [\n",
    "    ov(dfe.iloc[i][\"doc\"], bullet_list=r[\"list_original\"][i], llm=llm)\n",
    "    for i in tqdm(range(n))\n",
    "]\n",
    "\n",
    "\n",
    "r[\"list_pv\"] = [\n",
    "    pv(dfe.iloc[i][\"doc\"], bullet_list=r[\"list_original\"][i], llm=llm)\n",
    "    for i in tqdm(range(n))\n",
    "]\n",
    "\n",
    "r[\"list_ov_pv\"] = [\n",
    "    pv(dfe.iloc[i][\"doc\"], bullet_list=r[\"list_ov\"][i], llm=llm) for i in tqdm(range(n))\n",
    "]"
   ]
  },
  {
   "attachments": {},
   "cell_type": "markdown",
   "metadata": {},
   "source": [
    "# Evaluate"
   ]
  },
  {
   "cell_type": "code",
   "execution_count": 55,
   "metadata": {},
   "outputs": [],
   "source": [
    "def process_ebm_lists(\n",
    "    pred_list: List[str],\n",
    "    gt_list: List[str],\n",
    "    verbose=False,\n",
    ") -> List[bool]:\n",
    "    # convert to lowercase\n",
    "    pred_list = [pred.strip().lower() for pred in pred_list]\n",
    "    gt_list = [gt.strip().lower() for gt in gt_list]\n",
    "\n",
    "\n",
    "    return pred_list, gt_list\n",
    "\n",
    "ks_list = [k for k in r.keys() if k.startswith(\"list_\")]\n",
    "for k in ks_list:\n",
    "    mets_df = pd.DataFrame(\n",
    "        [\n",
    "            clin.eval.calculate_precision_recall_from_lists(\n",
    "                *process_ebm_lists(r[k][i], dfe.iloc[i][\"interventions\"]),\n",
    "                verbose=False,\n",
    "            )\n",
    "            for i in range(len(dfe))\n",
    "        ]\n",
    "    )\n",
    "    mets_dict_single = clin.eval.aggregate_precision_recall(mets_df)\n",
    "    for k_met in mets_dict_single.keys():\n",
    "        r[k_met + \"___\" + k] = mets_dict_single[k_met]\n",
    "    r[\"list_\" + k] = r[k]"
   ]
  },
  {
   "cell_type": "code",
   "execution_count": 61,
   "metadata": {},
   "outputs": [
    {
     "data": {
      "text/html": [
       "<style type=\"text/css\">\n",
       "#T_68bfa_row0_col0, #T_68bfa_row0_col1, #T_68bfa_row1_col2, #T_68bfa_row2_col2, #T_68bfa_row3_col0, #T_68bfa_row3_col1, #T_68bfa_row4_col0, #T_68bfa_row4_col1, #T_68bfa_row5_col2 {\n",
       "  background-color: #ffffff;\n",
       "  color: #000000;\n",
       "}\n",
       "#T_68bfa_row0_col2, #T_68bfa_row1_col0, #T_68bfa_row1_col1, #T_68bfa_row3_col2, #T_68bfa_row4_col2, #T_68bfa_row5_col0, #T_68bfa_row5_col1 {\n",
       "  background-color: #000000;\n",
       "  color: #f1f1f1;\n",
       "}\n",
       "#T_68bfa_row2_col0 {\n",
       "  background-color: #0b0b0b;\n",
       "  color: #f1f1f1;\n",
       "}\n",
       "#T_68bfa_row2_col1 {\n",
       "  background-color: #040404;\n",
       "  color: #f1f1f1;\n",
       "}\n",
       "</style>\n",
       "<table id=\"T_68bfa\">\n",
       "  <thead>\n",
       "    <tr>\n",
       "      <th class=\"index_name level0\" ></th>\n",
       "      <th id=\"T_68bfa_level0_col0\" class=\"col_heading level0 col0\" >f1</th>\n",
       "      <th id=\"T_68bfa_level0_col1\" class=\"col_heading level0 col1\" >precision</th>\n",
       "      <th id=\"T_68bfa_level0_col2\" class=\"col_heading level0 col2\" >recall</th>\n",
       "    </tr>\n",
       "    <tr>\n",
       "      <th class=\"index_name level0\" >Verifiers</th>\n",
       "      <th class=\"blank col0\" >&nbsp;</th>\n",
       "      <th class=\"blank col1\" >&nbsp;</th>\n",
       "      <th class=\"blank col2\" >&nbsp;</th>\n",
       "    </tr>\n",
       "  </thead>\n",
       "  <tbody>\n",
       "    <tr>\n",
       "      <th id=\"T_68bfa_level0_row0\" class=\"row_heading level0 row0\" >list_original</th>\n",
       "      <td id=\"T_68bfa_row0_col0\" class=\"data row0 col0\" >0.458</td>\n",
       "      <td id=\"T_68bfa_row0_col1\" class=\"data row0 col1\" >0.441</td>\n",
       "      <td id=\"T_68bfa_row0_col2\" class=\"data row0 col2\" >0.476</td>\n",
       "    </tr>\n",
       "    <tr>\n",
       "      <th id=\"T_68bfa_level0_row1\" class=\"row_heading level0 row1\" >list_ov</th>\n",
       "      <td id=\"T_68bfa_row1_col0\" class=\"data row1 col0\" >0.435</td>\n",
       "      <td id=\"T_68bfa_row1_col1\" class=\"data row1 col1\" >0.388</td>\n",
       "      <td id=\"T_68bfa_row1_col2\" class=\"data row1 col2\" >0.495</td>\n",
       "    </tr>\n",
       "    <tr>\n",
       "      <th id=\"T_68bfa_level0_row2\" class=\"row_heading level0 row2\" >list_ov_pv</th>\n",
       "      <td id=\"T_68bfa_row2_col0\" class=\"data row2 col0\" >0.436</td>\n",
       "      <td id=\"T_68bfa_row2_col1\" class=\"data row2 col1\" >0.389</td>\n",
       "      <td id=\"T_68bfa_row2_col2\" class=\"data row2 col2\" >0.495</td>\n",
       "    </tr>\n",
       "    <tr>\n",
       "      <th id=\"T_68bfa_level0_row3\" class=\"row_heading level0 row3\" >list_pv</th>\n",
       "      <td id=\"T_68bfa_row3_col0\" class=\"data row3 col0\" >0.458</td>\n",
       "      <td id=\"T_68bfa_row3_col1\" class=\"data row3 col1\" >0.441</td>\n",
       "      <td id=\"T_68bfa_row3_col2\" class=\"data row3 col2\" >0.476</td>\n",
       "    </tr>\n",
       "    <tr>\n",
       "      <th id=\"T_68bfa_level0_row4\" class=\"row_heading level0 row4\" >original</th>\n",
       "      <td id=\"T_68bfa_row4_col0\" class=\"data row4 col0\" >0.458</td>\n",
       "      <td id=\"T_68bfa_row4_col1\" class=\"data row4 col1\" >0.441</td>\n",
       "      <td id=\"T_68bfa_row4_col2\" class=\"data row4 col2\" >0.476</td>\n",
       "    </tr>\n",
       "    <tr>\n",
       "      <th id=\"T_68bfa_level0_row5\" class=\"row_heading level0 row5\" >ov</th>\n",
       "      <td id=\"T_68bfa_row5_col0\" class=\"data row5 col0\" >0.435</td>\n",
       "      <td id=\"T_68bfa_row5_col1\" class=\"data row5 col1\" >0.388</td>\n",
       "      <td id=\"T_68bfa_row5_col2\" class=\"data row5 col2\" >0.495</td>\n",
       "    </tr>\n",
       "  </tbody>\n",
       "</table>\n"
      ],
      "text/plain": [
       "<pandas.io.formats.style.Styler at 0x7f94e183c110>"
      ]
     },
     "execution_count": 61,
     "metadata": {},
     "output_type": "execute_result"
    }
   ],
   "source": [
    "row_df = pd.DataFrame(\n",
    "pd.Series({k: r[k] for k in r.keys() if \"___\" in k})\n",
    "    .round(3)\n",
    "    # .style.format(precision=3)\n",
    "    # .background_gradient(cmap=\"Blues\")\n",
    ").T\n",
    "# row_df = r[(r.n_shots == 5) * (r.checkpoint == 'text-davinci-003')]\n",
    "rc = row_df[[c for c in row_df.columns if '___' in c]]\n",
    "# create multindex columns by splitting on '___'\n",
    "rc = rc.rename(columns={c: tuple(c.split('___')) for c in rc.columns})\n",
    "\n",
    "# convert tuple column names to multiindex\n",
    "rc.columns = pd.MultiIndex.from_tuples(rc.columns)\n",
    "rc = rc.T.reset_index()\n",
    "rc = rc.rename(columns={\n",
    "    'level_0': '',\n",
    "    'level_1': 'Verifiers',\n",
    "}).pivot_table(index='Verifiers', columns='', values=0).round(3)\n",
    "rc.style.format(precision=3).background_gradient(cmap='gray')"
   ]
  },
  {
   "attachments": {},
   "cell_type": "markdown",
   "metadata": {},
   "source": [
    "### Look at validation data"
   ]
  },
  {
   "cell_type": "code",
   "execution_count": null,
   "metadata": {},
   "outputs": [],
   "source": [
    "dfv = joblib.load(join(PATH_REPO, 'data', 'ebm', 'ebm_interventions_cleaned.pkl')).iloc[100:]\n",
    "for i in range(len(dfv)):\n",
    "    row = dfv.iloc[i]\n",
    "    print(row['doc'])\n",
    "    print(clin.parse.list_to_bullet_str(row['interventions']))\n",
    "    print()"
   ]
  }
 ],
 "metadata": {
  "kernelspec": {
   "display_name": ".embgam",
   "language": "python",
   "name": "python3"
  },
  "language_info": {
   "codemirror_mode": {
    "name": "ipython",
    "version": 3
   },
   "file_extension": ".py",
   "mimetype": "text/x-python",
   "name": "python",
   "nbconvert_exporter": "python",
   "pygments_lexer": "ipython3",
   "version": "3.11.3"
  },
  "orig_nbformat": 4,
  "vscode": {
   "interpreter": {
    "hash": "559535f78d940c882783b39501b2581b5193373045707e5f8a51d046029cfd38"
   }
  }
 },
 "nbformat": 4,
 "nbformat_minor": 2
}
