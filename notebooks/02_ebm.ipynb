{
 "cells": [
  {
   "cell_type": "code",
   "execution_count": null,
   "metadata": {},
   "outputs": [],
   "source": [
    "%load_ext autoreload\n",
    "%autoreload 2\n",
    "import os\n",
    "import matplotlib.pyplot as plt\n",
    "import seaborn as sns\n",
    "from os.path import join\n",
    "from tqdm import tqdm\n",
    "import pandas as pd\n",
    "import imodelsx.process_results\n",
    "import sys\n",
    "import datasets\n",
    "import numpy as np\n",
    "from copy import deepcopy\n",
    "import clin.eval\n",
    "import clin.llm\n",
    "import clin.parse\n",
    "from collections import defaultdict\n",
    "import openai\n",
    "openai.api_key_path = '/home/chansingh/.OPENAI_KEY'\n",
    "from typing import List\n",
    "results_dir = '../results/'\n",
    "from clin.config import PATH_REPO\n",
    "import clin.modules.ebm.extract\n",
    "from clin.modules import ebm\n",
    "import joblib\n",
    "\n",
    "df = joblib.load(join(PATH_REPO, 'data', 'ebm', 'ebm_interventions_cleaned.pkl'))\n",
    "df = df.iloc[:100]\n",
    "nums = np.arange(len(df)).tolist()\n",
    "np.random.default_rng(seed=13).shuffle(nums)\n",
    "dfe = df.iloc[nums]\n",
    "n = len(dfe)\n",
    "llm = clin.llm.get_llm('text-davinci-003')"
   ]
  },
  {
   "cell_type": "code",
   "execution_count": null,
   "metadata": {},
   "outputs": [],
   "source": [
    "r = {}\n",
    "i = 0\n",
    "extractor = ebm.extract.Extractor()\n",
    "n_shots = 5\n",
    "interventions = extractor(i, df, nums, n_shots, llm)"
   ]
  },
  {
   "cell_type": "code",
   "execution_count": null,
   "metadata": {},
   "outputs": [],
   "source": [
    "r[\"extracted_strs\"] = [\n",
    "    extractor(i, df, nums, n_shots, llm) for i in tqdm(range(len(df)))\n",
    "]"
   ]
  },
  {
   "cell_type": "code",
   "execution_count": null,
   "metadata": {},
   "outputs": [],
   "source": [
    "def process_ebm_lists(\n",
    "    pred_list: List[str],\n",
    "    gt_list: List[str],\n",
    "    verbose=False,\n",
    ") -> List[bool]:\n",
    "    # convert to lowercase\n",
    "    pred_list = [pred.strip().lower() for pred in pred_list]\n",
    "    gt_list = [gt.strip().lower() for gt in gt_list]\n",
    "\n",
    "\n",
    "    return pred_list, gt_list\n",
    "\n",
    "\n",
    "mets_df = pd.DataFrame(\n",
    "    [\n",
    "        clin.eval.calculate_precision_recall_from_lists(\n",
    "            *process_ebm_lists(r[\"extracted_strs\"][i], dfe.iloc[i][\"interventions\"]),\n",
    "            verbose=True\n",
    "        )\n",
    "        for i in range(len(dfe))\n",
    "    ]\n",
    ")\n",
    "mets_dict_single = clin.eval.aggregate_precision_recall(mets_df)"
   ]
  },
  {
   "cell_type": "code",
   "execution_count": null,
   "metadata": {},
   "outputs": [],
   "source": [
    "mets_df"
   ]
  },
  {
   "cell_type": "code",
   "execution_count": null,
   "metadata": {},
   "outputs": [],
   "source": [
    "mets_dict_single"
   ]
  },
  {
   "cell_type": "code",
   "execution_count": 47,
   "metadata": {},
   "outputs": [
    {
     "name": "stdout",
     "output_type": "stream",
     "text": [
      "Safety, tolerability, and immunogenicity after 1 and 2 doses of zoster vaccine in healthy adults ≥60 years of age.\n",
      "\n",
      "BACKGROUND Incidence and severity of herpes zoster (HZ) and postherpetic neuralgia increase with age, associated with age-related decrease in immunity to varicella-zoster virus (VZV). One dose of zoster vaccine (ZV) has demonstrated substantial protection against HZ; this study examined impact of a second dose of ZV.\n",
      "METHODS Randomized, double-blind, multicenter study with 210 subjects ≥60 years old compared immunity and safety profiles after one and two doses of ZV, separated by 6 weeks, vs. placebo. Immunogenicity was evaluated using VZV interferon-gamma (IFN-γ) enzyme-linked immunospot (ELISPOT) assay and VZV glycoprotein enzyme-linked immunosorbent antibody (gpELISA) assay. Adverse experiences (AEs) were recorded on a standardized Vaccination Report Card.\n",
      "RESULTS No serious vaccine-related AEs occurred. VZV IFN-γ ELISPOT geometric mean count (GMC) of spot-forming cells per 10(6) peripheral blood mononuclear cells increased in the ZV group from 16.9 prevaccination to 49.5 and 32.8 at 2 and 6 weeks postdose 1, respectively. Two weeks, 6 weeks and 6 months postdose 2, GMC was 44.3, 42.9, and 36.5, respectively. GMC in the placebo group did not change during the study. The peak ELISPOT response occurred ∼2 weeks after each ZV dose. The gpELISA geometric mean titers (GMTs) in the ZV group were higher than in the placebo group at 6 weeks after each dose. Correlation between the IFN-γ ELISPOT and gpELISA assays was poor.\n",
      "CONCLUSIONS ZV was generally well-tolerated and immunogenic in adults ≥60 years old. A second dose of ZV was generally safe, but did not boost VZV-specific immunity beyond levels achieved postdose 1.\n",
      "- zoster vaccine\n",
      "- placebo\n",
      "\n",
      "Effect of different rates of infusion of propofol for induction of anaesthesia in elderly patients.\n",
      "\n",
      "The effect of changing the rate of infusion of propofol for induction of anaesthesia was studied in 60 elderly patients. Propofol was administered at 300, 600 or 1200 ml h-1 until loss of consciousness (as judged by loss of verbal contact with the patient) had been achieved. The duration of induction was significantly longer (P less than 0.001) with the slower infusion rates (104, 68 and 51 s), but the total dose used was significantly less (P less than 0.001) in these patients (1.2, 1.6 and 2.5 mg kg-1, respectively). The decrease in systolic and diastolic arterial pressure was significantly less in the 300-ml h-1 group at the end of induction and immediately after induction (P less than 0.01). The incidence of apnoea was also significantly less in the slower infusion group.\n",
      "- propofol\n",
      "\n",
      "Randomized controlled study of chemoimmunotherapy with bestatin of acute nonlymphocytic leukemia in adults.\n",
      "\n",
      "A new immunomodulating agent, bestatin (INN: Ubenimex has low toxicity even after long-term oral administration and has significant modifications in immunological response. A cooperative randomized controlled study of bestatin immunotherapy in combination with remission maintenance chemotherapy for adult acute nonlymphocytic leukemia (ANLL) was performed. After induction of complete remission, patients were randomized to the bestatin group (30 mg/bw per os (po) daily) and the control group. The 101 eligible cases (bestatin: 48, control: 53) were analyzed; the bestatin group achieved longer remission than the control group and a statistically significant longer survival. Though this prolongation of remission was not significant in the bestatin group compared to the control group in the 15-49 yr age group, in the 50-65 yr age group it was significantly longer. Bestatin is shown to be a clinically useful drug for immunotherapy of adult ANLL, since it has prolonged survival and remission especially in elderly patients, with few side-effects.\n",
      "- bestatin\n",
      "\n",
      "Goal attainment scaling as an outcome measure in randomized controlled trials of psychosocial interventions in autism.\n",
      "\n",
      "Goal attainment scaling (GAS) holds promise as an idiographic approach for measuring outcomes of psychosocial interventions in community settings. GAS has been criticized for untested assumptions of scaling level (i.e., interval or ordinal), inter-individual equivalence and comparability, and reliability of coding across different behavioral observation methods. We tested assumptions of equality between GAS descriptions for outcome measurement in a randomized trial (i.e., measurability, equidistance, level of difficulty, comparability of behavior samples collected from teachers vs. researchers and live vs. videotape). Results suggest GAS descriptions can be evaluated for equivalency, that teacher collected behavior samples are representative, and that varied sources of behavior samples can be reliably coded. GAS is a promising measurement approach. Recommendations are provided to ensure methodological quality.\n",
      "- psychosocial interventions\n",
      "\n",
      "Intermediate-term mortality and cardiac transplantation in infants with single-ventricle lesions: risk factors and their interaction with shunt type.\n",
      "\n",
      "OBJECTIVE The study objective was to identify factors associated with death and cardiac transplantation in infants undergoing the Norwood procedure and to determine differences in associations that might favor the modified Blalock-Taussig shunt or a right ventricle-to-pulmonary artery shunt.\n",
      "METHODS We used competing risks methodology to analyze death without transplantation, cardiac transplantation, and survival without transplantation. Parametric time-to-event modeling and bootstrapping were used to identify independent predictors.\n",
      "RESULTS Data from 549 subjects (follow-up, 2.7 ± 0.9 years) were analyzed. Mortality risk was characterized by early and constant phases; transplant was characterized by only a constant phase. Early phase factors associated with death included lower socioeconomic status (P = .01), obstructed pulmonary venous return (P < .001), smaller ascending aorta (P = .02), and anatomic subtype. Constant phase factors associated with death included genetic syndrome (P < .001) and lower gestational age (P < .001). The right ventricle-to-pulmonary artery shunt demonstrated better survival in the 51% of subjects who were full term with aortic atresia (P < .001). The modified Blalock-Taussig shunt was better among the 4% of subjects who were preterm with a patent aortic valve (P = .003). Lower pre-Norwood right ventricular fractional area change, pre-Norwood surgery, and anatomy other than hypoplastic left heart syndrome were independently associated with transplantation (all P < .03), but shunt type was not (P = .43).\n",
      "CONCLUSIONS Independent risk factors for intermediate-term mortality include lower socioeconomic status, anatomy, genetic syndrome, and lower gestational age. Term infants with aortic atresia benefited from a right ventricle-to-pulmonary artery shunt, and preterm infants with a patent aortic valve benefited from a modified Blalock-Taussig shunt. Right ventricular function and anatomy, but not shunt type, were associated with transplantation.\n",
      "- cardiac transplantation\n",
      "\n",
      "Preschoolers acquire general knowledge by sharing in pretense.\n",
      "\n",
      "Children acquire general knowledge about many kinds of things, but there are few known means by which this knowledge is acquired. In this article, it is proposed that children acquire generic knowledge by sharing in pretend play. In Experiment 1, twenty-two 3- to 4-year-olds watched pretense in which a puppet represented a \"nerp\" (an unfamiliar kind of animal). For instance, in one scenario, the nerp ate and disliked a carrot. When subsequently asked generic questions about real nerps, children's responses suggested that they had learned general facts (e.g., nerps dislike carrots). In Experiment 2, thirty-two 4- to 5-year-olds learned from scenarios lacking pretend speech or sound effects. The findings reveal a long overlooked means by which children can acquire generic knowledge.\n",
      "- pretense\n",
      "\n",
      "Training referential communicative skills to individuals with autism spectrum disorder: a pilot study.\n",
      "\n",
      "The present study reports the effects of referential communication training in individuals formally diagnosed with autism spectrum disorder (ASD). Participants were 20 children with ASD (M age = 14.3 yr., SD = 4.2; 6 girls, 14 boys) in the role of speakers and 20 control children, who acted as listeners. They were all enrolled in mainstream compulsory education. Inclusion/exclusion criteria were defined according to the clinical diagnosis of ASD, the presence or absence of additional or associated disability, previous training in referential communication, and any drug treatment. Speakers were randomly assigned to one of two groups (trained vs untrained). Linguistic age, cognitive level and autistic symptoms were analyzed, respectively, with the Peabody Picture Vocabulary Test (PPVT), the Wechsler Intelligence Scale (WISC-R or WAIS-III), and the Autistic Behavior Checklist (ABC). Communicative abilities were analyzed through two indexes related to message complexity and self-regulation. The trained group was trained in referential communication tasks (task analysis, role taking, and task evaluation), while the untrained group took part in a communicative game but without any specific communicative training. The results showed that the complexity of emitted messages had improved statistically significantly in the trained group as an effect of training. Ecological referential communication is shown to be an appropriate paradigm for studying the communicative process and its products and could be used to develop and implement a training program focused on those skills in which individuals with ASD are most deficient.\n",
      "- referential communication training\n",
      "\n",
      "Group cognitive behavior therapy for children with high-functioning autism spectrum disorders and anxiety: a randomized trial.\n",
      "\n",
      "BACKGROUND Children with high-functioning autism spectrum disorders (ASD) are at high risk for developing significant anxiety. Anxiety can adversely impact functioning across school, home and community environments. Cognitive behavioral therapies (CBT) are frequently used with success for children with anxiety symptoms. Modified CBT interventions for anxiety in children with ASD have also yielded promising results.\n",
      "METHODS Fifty children with high-functioning ASD and anxiety were randomizedto group CBT or treatment-as-usual (TAU) for 12 weeks. Independent clinical evaluators, blind to condition, completed structured interviews (Anxiety Disorders Interview Schedule – Parent Version;ADIS-P) pre- and post-intervention condition.\n",
      "RESULTS Forty-seven children completed either the CBT or TAU condition. Results indicated markedly better outcomes for the CBT group. Significant differences by group were noted in Clinician Severity Ratings, diagnostic status, and clinician ratings of global improvement. In the intent-to-treat sample, 10 of 20 children (50%) in the CBT group had a clinically meaningful positive treatment response, compared to 2 of 23 children (8.7%) in the TAU group.\n",
      "CONCLUSIONS Initial results from this randomized, designed treatment study suggest that agroup CBT intervention specifically developed for children with ASD may be effective in decreasing anxiety. Limitations of this study include small sample size, lack of an attention control group, and use of outcome measures normed with typically developing children\n",
      "- Group cognitive behavior therapy\n",
      "- treatment-as-usual\n",
      "\n",
      "Spotty calcification as a marker of accelerated progression of coronary atherosclerosis: insights from serial intravascular ultrasound.\n",
      "\n",
      "OBJECTIVES The purpose of this study was to determine atheroma progression in patients with spotty calcification.\n",
      "BACKGROUND Although extensively calcified atherosclerotic lesions have been proposed to be clinically quiescent, the presence of spotty calcification within plaque has been reported to be associated with an increased incidence of ischemic cardiovascular events. The relationship between spotty calcification and disease progression has not been investigated.\n",
      "METHODS A total of 1,347 stable patients with angiographic coronary artery disease underwent serial evaluation of atheroma burden with intravascular ultrasound imaging. Patients with spotty calcification were identified based on the presence of lesions (1 to 4 mm in length) containing an arc of calcification of <90°. Clinical characteristics and disease progression were compared between patients with spotty calcification (n = 922) and those with no calcification (n = 425).\n",
      "RESULTS Patients with spotty calcification were older (age 56 years vs. 54 years; p = 0.001), more likely to be male (68% vs. 54%; p = 0.01), and have a history of diabetes mellitus (30% vs. 24%; p = 0.01) and myocardial infarction (28% vs. 20%; p = 0.004), and have lower on-treatment high-density lipoprotein cholesterol levels (48 ± 16 mg/dl vs. 51 ± 17 mg/dl; p = 0.001). Patients with spotty calcification demonstrated a greater percent atheroma volume (PAV) (36.0 ± 7.6% vs. 29.0 ± 8.5%; p < 0.001) and total atheroma volume (174.6 ± 71.9 mm(3) vs. 133.9 ± 64.9 mm(3); p < 0.001). On serial evaluation, spotty calcification was associated with greater progression of PAV (+0.43 ± 0.07% vs. +0.02 ± 0.11%; p = 0.002). Although intensive low-density lipoprotein cholesterol and blood pressure lowering therapy slowed disease progression, these efficacies were attenuated in patients with spotty calcification.\n",
      "CONCLUSIONS The presence of spotty calcification is associated with more extensive and diffuse coronary atherosclerosis and accelerated disease progression despite use of medical therapies.\n",
      "- spotty calcification\n",
      "\n",
      "Effects of guided imagery with relaxation training on anxiety and quality of life among patients with inflammatory bowel disease.\n",
      "\n",
      "BACKGROUND Inflammatory Bowel Disease (IBD) impacts quality of life (QoL). Psychological factors influence the course of the disease and should be targeted for intervention.\n",
      "METHODS Our study was a prospective, randomised control trial. Fifty-six outpatients were randomly chosen and allocated to a treatment group or a waiting-list control group. Treatment group patients attended three relaxation-training sessions and received an audio disc for home practice. Evaluations performed pre and post-treatment: state anxiety was assessed with the State-Trait Anxiety Inventory, QoL with the IBD Questionnaire. The Visual Analogue Scale assessed pain, depression, stress and mood. Patients completed a symptom monitoring diary. The control group's symptoms were monitored without study-related treatment.\n",
      "RESULTS Thirty-nine subjects completed the study and were included in the data analysis. Following the relaxation-training intervention, the treatment group's (n = 18) measured results showed a statistically significant improvement as compared to the control group (n = 21) (time by treatment interaction): anxiety levels decreased (p < 0.01), QoL and mood improved (p < 0.05), while levels of pain and stress decreased (p < 0.01).\n",
      "CONCLUSIONS Findings indicate IBD patients may benefit from relaxation training in their holistic care. New studies as well as further investigation of the subject are warranted.\n",
      "- relaxation training\n",
      "\n"
     ]
    }
   ],
   "source": [
    "dfv = joblib.load(join(PATH_REPO, 'data', 'ebm', 'ebm_interventions_cleaned.pkl')).iloc[100:]\n",
    "for i in range(len(dfv)):\n",
    "    row = dfv.iloc[i]\n",
    "    print(row['doc'])\n",
    "    print(clin.parse.list_to_bullet_str(row['interventions']))\n",
    "    print()"
   ]
  }
 ],
 "metadata": {
  "kernelspec": {
   "display_name": ".embgam",
   "language": "python",
   "name": "python3"
  },
  "language_info": {
   "codemirror_mode": {
    "name": "ipython",
    "version": 3
   },
   "file_extension": ".py",
   "mimetype": "text/x-python",
   "name": "python",
   "nbconvert_exporter": "python",
   "pygments_lexer": "ipython3",
   "version": "3.11.3"
  },
  "orig_nbformat": 4,
  "vscode": {
   "interpreter": {
    "hash": "559535f78d940c882783b39501b2581b5193373045707e5f8a51d046029cfd38"
   }
  }
 },
 "nbformat": 4,
 "nbformat_minor": 2
}
