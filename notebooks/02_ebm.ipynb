{
 "cells": [
  {
   "cell_type": "code",
   "execution_count": 2,
   "metadata": {},
   "outputs": [
    {
     "name": "stdout",
     "output_type": "stream",
     "text": [
      "The autoreload extension is already loaded. To reload it, use:\n",
      "  %reload_ext autoreload\n"
     ]
    }
   ],
   "source": [
    "%load_ext autoreload\n",
    "%autoreload 2\n",
    "import os\n",
    "import matplotlib.pyplot as plt\n",
    "import seaborn as sns\n",
    "from os.path import join\n",
    "from tqdm import tqdm\n",
    "import pandas as pd\n",
    "import imodelsx.process_results\n",
    "import sys\n",
    "import datasets\n",
    "import numpy as np\n",
    "from copy import deepcopy\n",
    "import clin.eval\n",
    "import clin.modules.prune\n",
    "import clin.modules.evidence\n",
    "import clin.modules.omission\n",
    "import clin.modules.status\n",
    "import clin.llm\n",
    "import clin.parse\n",
    "from collections import defaultdict\n",
    "import openai\n",
    "openai.api_key_path = '/home/chansingh/.OPENAI_KEY'\n",
    "\n",
    "sys.path.append('../experiments/')\n",
    "results_dir = '../results/'\n",
    "from clin.config import PATH_REPO\n",
    "import joblib\n",
    "\n",
    "df = joblib.load(join(PATH_REPO, 'data', 'ebm', 'ebm_interventions_cleaned.pkl'))"
   ]
  },
  {
   "cell_type": "code",
   "execution_count": 3,
   "metadata": {},
   "outputs": [
    {
     "data": {
      "text/html": [
       "<div>\n",
       "<style scoped>\n",
       "    .dataframe tbody tr th:only-of-type {\n",
       "        vertical-align: middle;\n",
       "    }\n",
       "\n",
       "    .dataframe tbody tr th {\n",
       "        vertical-align: top;\n",
       "    }\n",
       "\n",
       "    .dataframe thead th {\n",
       "        text-align: right;\n",
       "    }\n",
       "</style>\n",
       "<table border=\"1\" class=\"dataframe\">\n",
       "  <thead>\n",
       "    <tr style=\"text-align: right;\">\n",
       "      <th></th>\n",
       "      <th>doc_id</th>\n",
       "      <th>doc</th>\n",
       "      <th>interventions</th>\n",
       "    </tr>\n",
       "  </thead>\n",
       "  <tbody>\n",
       "    <tr>\n",
       "      <th>0</th>\n",
       "      <td>10070173</td>\n",
       "      <td>Comparison of budesonide Turbuhaler with budes...</td>\n",
       "      <td>[budesonide Turbuhaler, budesonide aqua]</td>\n",
       "    </tr>\n",
       "    <tr>\n",
       "      <th>1</th>\n",
       "      <td>10390665</td>\n",
       "      <td>Anti-emetic efficacy of prophylactic granisetr...</td>\n",
       "      <td>[perphenazine, granisetron]</td>\n",
       "    </tr>\n",
       "    <tr>\n",
       "      <th>2</th>\n",
       "      <td>10475150</td>\n",
       "      <td>The role of somatostatin (octreotide) in the r...</td>\n",
       "      <td>[somatostatin]</td>\n",
       "    </tr>\n",
       "    <tr>\n",
       "      <th>3</th>\n",
       "      <td>10578479</td>\n",
       "      <td>Effects of soy intake on sex hormone metabolis...</td>\n",
       "      <td>[soy]</td>\n",
       "    </tr>\n",
       "    <tr>\n",
       "      <th>4</th>\n",
       "      <td>10589810</td>\n",
       "      <td>Clinical effects of root instrumentation using...</td>\n",
       "      <td>[plastic curettes, conventional steel curettes]</td>\n",
       "    </tr>\n",
       "    <tr>\n",
       "      <th>...</th>\n",
       "      <td>...</td>\n",
       "      <td>...</td>\n",
       "      <td>...</td>\n",
       "    </tr>\n",
       "    <tr>\n",
       "      <th>95</th>\n",
       "      <td>21896676</td>\n",
       "      <td>A physiotherapy service to an emergency extend...</td>\n",
       "      <td>[physiotherapy service]</td>\n",
       "    </tr>\n",
       "    <tr>\n",
       "      <th>96</th>\n",
       "      <td>21914768</td>\n",
       "      <td>Cancer information and anxiety: applying the e...</td>\n",
       "      <td>[TC, TC+TSE]</td>\n",
       "    </tr>\n",
       "    <tr>\n",
       "      <th>97</th>\n",
       "      <td>21924760</td>\n",
       "      <td>Quality of individual INR control and the risk...</td>\n",
       "      <td>[Time in therapeutic range]</td>\n",
       "    </tr>\n",
       "    <tr>\n",
       "      <th>98</th>\n",
       "      <td>21975269</td>\n",
       "      <td>Use of hormonal contraceptives and risk of HIV...</td>\n",
       "      <td>[hormonal contraceptives]</td>\n",
       "    </tr>\n",
       "    <tr>\n",
       "      <th>99</th>\n",
       "      <td>21982657</td>\n",
       "      <td>A double-blind, randomized, controlled, multic...</td>\n",
       "      <td>[skeletal myoblast implantation, placebo]</td>\n",
       "    </tr>\n",
       "  </tbody>\n",
       "</table>\n",
       "<p>100 rows × 3 columns</p>\n",
       "</div>"
      ],
      "text/plain": [
       "      doc_id                                                doc   \n",
       "0   10070173  Comparison of budesonide Turbuhaler with budes...  \\\n",
       "1   10390665  Anti-emetic efficacy of prophylactic granisetr...   \n",
       "2   10475150  The role of somatostatin (octreotide) in the r...   \n",
       "3   10578479  Effects of soy intake on sex hormone metabolis...   \n",
       "4   10589810  Clinical effects of root instrumentation using...   \n",
       "..       ...                                                ...   \n",
       "95  21896676  A physiotherapy service to an emergency extend...   \n",
       "96  21914768  Cancer information and anxiety: applying the e...   \n",
       "97  21924760  Quality of individual INR control and the risk...   \n",
       "98  21975269  Use of hormonal contraceptives and risk of HIV...   \n",
       "99  21982657  A double-blind, randomized, controlled, multic...   \n",
       "\n",
       "                                      interventions  \n",
       "0          [budesonide Turbuhaler, budesonide aqua]  \n",
       "1                       [perphenazine, granisetron]  \n",
       "2                                    [somatostatin]  \n",
       "3                                             [soy]  \n",
       "4   [plastic curettes, conventional steel curettes]  \n",
       "..                                              ...  \n",
       "95                          [physiotherapy service]  \n",
       "96                                     [TC, TC+TSE]  \n",
       "97                      [Time in therapeutic range]  \n",
       "98                        [hormonal contraceptives]  \n",
       "99        [skeletal myoblast implantation, placebo]  \n",
       "\n",
       "[100 rows x 3 columns]"
      ]
     },
     "execution_count": 3,
     "metadata": {},
     "output_type": "execute_result"
    }
   ],
   "source": [
    "df"
   ]
  },
  {
   "cell_type": "code",
   "execution_count": null,
   "metadata": {},
   "outputs": [],
   "source": [
    "from clin"
   ]
  }
 ],
 "metadata": {
  "kernelspec": {
   "display_name": ".embgam",
   "language": "python",
   "name": "python3"
  },
  "language_info": {
   "codemirror_mode": {
    "name": "ipython",
    "version": 3
   },
   "file_extension": ".py",
   "mimetype": "text/x-python",
   "name": "python",
   "nbconvert_exporter": "python",
   "pygments_lexer": "ipython3",
   "version": "3.11.3"
  },
  "orig_nbformat": 4,
  "vscode": {
   "interpreter": {
    "hash": "559535f78d940c882783b39501b2581b5193373045707e5f8a51d046029cfd38"
   }
  }
 },
 "nbformat": 4,
 "nbformat_minor": 2
}
