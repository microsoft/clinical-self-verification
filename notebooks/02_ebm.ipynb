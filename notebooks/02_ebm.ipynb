{
 "cells": [
  {
   "cell_type": "code",
   "execution_count": 4,
   "metadata": {},
   "outputs": [
    {
     "name": "stdout",
     "output_type": "stream",
     "text": [
      "The autoreload extension is already loaded. To reload it, use:\n",
      "  %reload_ext autoreload\n"
     ]
    },
    {
     "name": "stderr",
     "output_type": "stream",
     "text": [
      "100%|██████████| 19/19 [00:00<00:00, 1211.80it/s]\n"
     ]
    }
   ],
   "source": [
    "%load_ext autoreload\n",
    "%autoreload 2\n",
    "from os.path import join\n",
    "from tqdm import tqdm\n",
    "import pandas as pd\n",
    "import numpy as np\n",
    "import clin.llm\n",
    "import clin.parse\n",
    "import openai\n",
    "openai.api_key_path = '/home/chansingh/.OPENAI_KEY'\n",
    "from typing import List\n",
    "results_dir = '../results/'\n",
    "from clin.config import PATH_REPO\n",
    "from clin.modules.ebm import extract, omission, prune, evidence\n",
    "import clin.eval.ebm\n",
    "import clin.eval.eval\n",
    "from clin.modules import ebm\n",
    "import joblib\n",
    "import imodelsx.process_results\n",
    "\n",
    "r = imodelsx.process_results.get_results_df(results_dir, use_cached=False)\n",
    "r = r[r.dataset_name == 'ebm']\n",
    "row = r[(r.n_shots == 5) * (r.checkpoint == 'text-davinci-003')].iloc[0]"
   ]
  },
  {
   "cell_type": "code",
   "execution_count": 5,
   "metadata": {},
   "outputs": [
    {
     "data": {
      "text/html": [
       "<style type=\"text/css\">\n",
       "#T_de4b6_row0_col0, #T_de4b6_row0_col2, #T_de4b6_row1_col1 {\n",
       "  background-color: #f7fbff;\n",
       "  color: #000000;\n",
       "}\n",
       "#T_de4b6_row0_col1 {\n",
       "  background-color: #abd0e6;\n",
       "  color: #000000;\n",
       "}\n",
       "#T_de4b6_row1_col0 {\n",
       "  background-color: #dfecf7;\n",
       "  color: #000000;\n",
       "}\n",
       "#T_de4b6_row1_col2 {\n",
       "  background-color: #2e7ebc;\n",
       "  color: #f1f1f1;\n",
       "}\n",
       "#T_de4b6_row2_col0 {\n",
       "  background-color: #1a68ae;\n",
       "  color: #f1f1f1;\n",
       "}\n",
       "#T_de4b6_row2_col1, #T_de4b6_row3_col2, #T_de4b6_row4_col0 {\n",
       "  background-color: #08306b;\n",
       "  color: #f1f1f1;\n",
       "}\n",
       "#T_de4b6_row2_col2 {\n",
       "  background-color: #a8cee4;\n",
       "  color: #000000;\n",
       "}\n",
       "#T_de4b6_row3_col0 {\n",
       "  background-color: #08468b;\n",
       "  color: #f1f1f1;\n",
       "}\n",
       "#T_de4b6_row3_col1 {\n",
       "  background-color: #3d8dc4;\n",
       "  color: #f1f1f1;\n",
       "}\n",
       "#T_de4b6_row4_col1 {\n",
       "  background-color: #084285;\n",
       "  color: #f1f1f1;\n",
       "}\n",
       "#T_de4b6_row4_col2 {\n",
       "  background-color: #2474b7;\n",
       "  color: #f1f1f1;\n",
       "}\n",
       "</style>\n",
       "<table id=\"T_de4b6\">\n",
       "  <thead>\n",
       "    <tr>\n",
       "      <th class=\"index_name level0\" ></th>\n",
       "      <th id=\"T_de4b6_level0_col0\" class=\"col_heading level0 col0\" >F1</th>\n",
       "      <th id=\"T_de4b6_level0_col1\" class=\"col_heading level0 col1\" >Precision</th>\n",
       "      <th id=\"T_de4b6_level0_col2\" class=\"col_heading level0 col2\" >Recall</th>\n",
       "    </tr>\n",
       "    <tr>\n",
       "      <th class=\"index_name level0\" >Verifiers</th>\n",
       "      <th class=\"blank col0\" >&nbsp;</th>\n",
       "      <th class=\"blank col1\" >&nbsp;</th>\n",
       "      <th class=\"blank col2\" >&nbsp;</th>\n",
       "    </tr>\n",
       "  </thead>\n",
       "  <tbody>\n",
       "    <tr>\n",
       "      <th id=\"T_de4b6_level0_row0\" class=\"row_heading level0 row0\" >Original</th>\n",
       "      <td id=\"T_de4b6_row0_col0\" class=\"data row0 col0\" >0.532</td>\n",
       "      <td id=\"T_de4b6_row0_col1\" class=\"data row0 col1\" >0.518</td>\n",
       "      <td id=\"T_de4b6_row0_col2\" class=\"data row0 col2\" >0.547</td>\n",
       "    </tr>\n",
       "    <tr>\n",
       "      <th id=\"T_de4b6_level0_row1\" class=\"row_heading level0 row1\" >Omission</th>\n",
       "      <td id=\"T_de4b6_row1_col0\" class=\"data row1 col0\" >0.542</td>\n",
       "      <td id=\"T_de4b6_row1_col1\" class=\"data row1 col1\" >0.474</td>\n",
       "      <td id=\"T_de4b6_row1_col2\" class=\"data row1 col2\" >0.632</td>\n",
       "    </tr>\n",
       "    <tr>\n",
       "      <th id=\"T_de4b6_level0_row2\" class=\"row_heading level0 row2\" >Prune</th>\n",
       "      <td id=\"T_de4b6_row2_col0\" class=\"data row2 col0\" >0.597</td>\n",
       "      <td id=\"T_de4b6_row2_col1\" class=\"data row2 col1\" >0.605</td>\n",
       "      <td id=\"T_de4b6_row2_col2\" class=\"data row2 col2\" >0.589</td>\n",
       "    </tr>\n",
       "    <tr>\n",
       "      <th id=\"T_de4b6_level0_row3\" class=\"row_heading level0 row3\" >Omission + Prune</th>\n",
       "      <td id=\"T_de4b6_row3_col0\" class=\"data row3 col0\" >0.608</td>\n",
       "      <td id=\"T_de4b6_row3_col1\" class=\"data row3 col1\" >0.558</td>\n",
       "      <td id=\"T_de4b6_row3_col2\" class=\"data row3 col2\" >0.668</td>\n",
       "    </tr>\n",
       "    <tr>\n",
       "      <th id=\"T_de4b6_level0_row4\" class=\"row_heading level0 row4\" >Omission + Prune + Evidence</th>\n",
       "      <td id=\"T_de4b6_row4_col0\" class=\"data row4 col0\" >0.615</td>\n",
       "      <td id=\"T_de4b6_row4_col1\" class=\"data row4 col1\" >0.596</td>\n",
       "      <td id=\"T_de4b6_row4_col2\" class=\"data row4 col2\" >0.636</td>\n",
       "    </tr>\n",
       "  </tbody>\n",
       "</table>\n"
      ],
      "text/plain": [
       "<pandas.io.formats.style.Styler at 0x7f7dd5871450>"
      ]
     },
     "execution_count": 5,
     "metadata": {},
     "output_type": "execute_result"
    }
   ],
   "source": [
    "# show metrics\n",
    "row_df = pd.DataFrame(\n",
    "    pd.Series({k: row[k] for k in row.keys() if \"___\" in k}).round(3)\n",
    ").T\n",
    "rc = row_df[[c for c in row_df.columns if \"___\" in c]]\n",
    "# create multindex columns by splitting on '___'\n",
    "rc = rc.rename(columns={c: tuple(c.split(\"___\")) for c in rc.columns})\n",
    "\n",
    "# convert tuple column names to multiindex\n",
    "rc.columns = pd.MultiIndex.from_tuples(rc.columns)\n",
    "rc = rc.T.reset_index()\n",
    "rc = (\n",
    "    rc.rename(\n",
    "        columns={\n",
    "            \"level_0\": \"\",\n",
    "            \"level_1\": \"Verifiers\",\n",
    "        }\n",
    "    )\n",
    "    .pivot_table(index=\"Verifiers\", columns=\"\", values=0)\n",
    "    .round(3)\n",
    ")\n",
    "# rc.index = [x.replace(\"list_\", \"\") for x in rc.index.values]\n",
    "cols = {\n",
    "    \"f1\": \"F1\",\n",
    "    \"precision\": \"Precision\",\n",
    "    \"recall\": \"Recall\",\n",
    "}\n",
    "rows = {\n",
    "    \"original\": \"Original\",\n",
    "    \"ov\": \"Omission\",\n",
    "    \"pv\": \"Prune\",\n",
    "    \"ov_pv\": \"Omission + Prune\",\n",
    "    \"ov_pv_ev\": \"Omission + Prune + Evidence\",\n",
    "}\n",
    "(\n",
    "    rc[list(cols.keys())]\n",
    "    .rename(columns=cols)\n",
    "    .loc[list(rows.keys())]\n",
    "    .rename(index=rows)\n",
    "    .style.format(precision=3)\n",
    "    .background_gradient(cmap=\"Blues\")\n",
    ")"
   ]
  },
  {
   "attachments": {},
   "cell_type": "markdown",
   "metadata": {},
   "source": [
    "## Visualize an example"
   ]
  },
  {
   "cell_type": "code",
   "execution_count": null,
   "metadata": {},
   "outputs": [],
   "source": [
    "df = joblib.load(join(PATH_REPO, 'data', 'ebm', 'ebm_interventions_cleaned.pkl'))\n",
    "df = df.iloc[:100]\n",
    "nums = np.arange(len(df)).tolist()\n",
    "np.random.default_rng(seed=13).shuffle(nums)\n",
    "# dfe = df.iloc[nums]\n",
    "# n = len(dfe)\n",
    "# llm = clin.llm.get_llm('text-davinci-003')\n",
    "\n",
    "# compare lists\n",
    "l1 = [sorted(l) for l in df[\"interventions\"].values.tolist()]\n",
    "# l1 = r['list_ov']\n",
    "# l1 = r['list_ov']\n",
    "# l1 = r['list_ov_pv_ev']\n",
    "l2 = row['list_ov_pv']\n",
    "for i in range(len(l1)):\n",
    "    l1_, l2_ = clin.eval.ebm.process_ebm_lists(l1[i], l2[i])\n",
    "    # if set(l1_) == set(l2_) and len(set(l1_)) > 2:\n",
    "    if len(set(l1_)) > 3:\n",
    "        print(df.iloc[i]['doc'])\n",
    "        print(i)\n",
    "        print(sorted(l1[i]))\n",
    "        print(sorted(l2[i]))\n",
    "        print()"
   ]
  },
  {
   "attachments": {},
   "cell_type": "markdown",
   "metadata": {},
   "source": [
    "## Analyze errors"
   ]
  },
  {
   "cell_type": "code",
   "execution_count": null,
   "metadata": {},
   "outputs": [],
   "source": [
    "df = joblib.load(join(PATH_REPO, 'data', 'ebm', 'ebm_interventions_cleaned.pkl'))\n",
    "df = df.iloc[:100]\n",
    "nums = np.arange(len(df)).tolist()\n",
    "np.random.default_rng(seed=13).shuffle(nums)\n",
    "dfe = df.iloc[nums]\n",
    "# n = len(dfe)\n",
    "# llm = clin.llm.get_llm('text-davinci-003')\n",
    "\n",
    "# compare lists\n",
    "l1 = [sorted(l) for l in dfe[\"interventions\"].values.tolist()]\n",
    "# l1 = r['list_ov']\n",
    "# l1 = r['list_ov']\n",
    "# l1 = r['list_ov_pv_ev']\n",
    "l2 = row['list_ov_pv']\n",
    "for i in range(len(l1)):\n",
    "    l1_, l2_ = clin.eval.ebm.process_ebm_lists(l1[i], l2[i])\n",
    "    if set(l1_) != set(l2_):\n",
    "        print(dfe.iloc[i]['doc'])\n",
    "        print(i)\n",
    "        print(sorted(l1[i]))\n",
    "        print(sorted(l2[i]))\n",
    "        print()"
   ]
  },
  {
   "cell_type": "code",
   "execution_count": null,
   "metadata": {},
   "outputs": [],
   "source": [
    "# look at validation data\n",
    "dfv = joblib.load(join(PATH_REPO, 'data', 'ebm', 'ebm_interventions_cleaned.pkl')).iloc[100:]\n",
    "for i in range(len(dfv)):\n",
    "    row = dfv.iloc[i]\n",
    "    print(row['doc'])\n",
    "    print(clin.parse.list_to_bullet_str(row['interventions']))\n",
    "    print()"
   ]
  }
 ],
 "metadata": {
  "kernelspec": {
   "display_name": ".embgam",
   "language": "python",
   "name": "python3"
  },
  "language_info": {
   "codemirror_mode": {
    "name": "ipython",
    "version": 3
   },
   "file_extension": ".py",
   "mimetype": "text/x-python",
   "name": "python",
   "nbconvert_exporter": "python",
   "pygments_lexer": "ipython3",
   "version": "3.11.3"
  },
  "orig_nbformat": 4,
  "vscode": {
   "interpreter": {
    "hash": "559535f78d940c882783b39501b2581b5193373045707e5f8a51d046029cfd38"
   }
  }
 },
 "nbformat": 4,
 "nbformat_minor": 2
}
