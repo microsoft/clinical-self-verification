{
 "cells": [
  {
   "cell_type": "code",
   "execution_count": null,
   "metadata": {},
   "outputs": [],
   "source": [
    "%load_ext autoreload\n",
    "%autoreload 2\n",
    "from os.path import join\n",
    "from tqdm import tqdm\n",
    "import pandas as pd\n",
    "import numpy as np\n",
    "import clin.llm\n",
    "import clin.eval.med_status\n",
    "import clin.parse\n",
    "import openai\n",
    "openai.api_key_path = '/home/chansingh/.OPENAI_KEY'\n",
    "from typing import List\n",
    "results_dir = '../results/'\n",
    "from clin.config import PATH_REPO\n",
    "import datasets\n",
    "import imodelsx.process_results\n",
    "def viz_blue_rows(df):\n",
    "    return (\n",
    "        df\n",
    "        # highlight rows 2 and 4 including the index\n",
    "        .style.apply(lambda x: ['background: lightblue' if 'self-verified' in x.name else '' for i in x], axis=1)\n",
    "        # bold index label for row 2\n",
    "        .apply(lambda x: ['font-weight: bold' if 'self-verified' in x.name else '' for i in x], axis=1)\n",
    "        .format(precision=3)\n",
    "    )   \n",
    "r = imodelsx.process_results.get_results_df(results_dir, use_cached=False)"
   ]
  },
  {
   "cell_type": "code",
   "execution_count": null,
   "metadata": {},
   "outputs": [],
   "source": [
    "r_ebm = r[r.dataset_name == 'ebm']\n",
    "cols = {\n",
    "    'f1___original': 'Clinical trial arm extraction, original',\n",
    "    'f1___ov_pv_ev': 'Clinical trial arm extraction, self-verified',\n",
    "}\n",
    "rt_ebm = r_ebm.groupby(['checkpoint', 'n_shots'])[list(cols.keys())].mean().rename(columns=cols).round(3).T\n",
    "viz_blue_rows(rt_ebm)"
   ]
  },
  {
   "cell_type": "code",
   "execution_count": null,
   "metadata": {},
   "outputs": [],
   "source": [
    "r_med = r[r.dataset_name == 'medication_status']\n",
    "dset = datasets.load_dataset('mitclinicalml/clinical-ie', 'medication_status')\n",
    "df_val = pd.DataFrame.from_dict(dset['validation'])\n",
    "df = pd.DataFrame.from_dict(dset['test'])\n",
    "# df = pd.concat([val, test])\n",
    "nums = np.arange(len(df)).tolist()\n",
    "np.random.default_rng(seed=13).shuffle(nums)\n",
    "dfe = df.iloc[nums]\n",
    "r_med = clin.eval.med_status.add_status_eval(r_med, dfe)\n",
    "\n",
    "cols = {\n",
    "    'f1___original': 'Medication extraction, original',\n",
    "    'f1___ov_pv_ev': 'Medication extraction, self-verified',\n",
    "    'status_f1_macro_cond___original': 'Medication status, original',\n",
    "    'status_f1_macro_cond___sv': 'Medication status, self-verified',\n",
    "}\n",
    "rt_med_status = r_med.groupby(['checkpoint', 'n_shots'])[list(cols.keys())].mean().rename(columns=cols).round(3).T\n",
    "viz_blue_rows(rt_med_status)"
   ]
  },
  {
   "cell_type": "code",
   "execution_count": null,
   "metadata": {},
   "outputs": [],
   "source": [
    "rt = pd.concat((rt_ebm, rt_med_status))\n",
    "viz_blue_rows(rt)"
   ]
  },
  {
   "cell_type": "code",
   "execution_count": null,
   "metadata": {},
   "outputs": [],
   "source": []
  }
 ],
 "metadata": {
  "kernelspec": {
   "display_name": ".embgam",
   "language": "python",
   "name": "python3"
  },
  "language_info": {
   "codemirror_mode": {
    "name": "ipython",
    "version": 3
   },
   "file_extension": ".py",
   "mimetype": "text/x-python",
   "name": "python",
   "nbconvert_exporter": "python",
   "pygments_lexer": "ipython3",
   "version": "3.11.3"
  },
  "orig_nbformat": 4,
  "vscode": {
   "interpreter": {
    "hash": "559535f78d940c882783b39501b2581b5193373045707e5f8a51d046029cfd38"
   }
  }
 },
 "nbformat": 4,
 "nbformat_minor": 2
}
