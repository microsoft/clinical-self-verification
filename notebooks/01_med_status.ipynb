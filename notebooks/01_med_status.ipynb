{
 "cells": [
  {
   "cell_type": "code",
   "execution_count": 20,
   "metadata": {},
   "outputs": [
    {
     "name": "stdout",
     "output_type": "stream",
     "text": [
      "The autoreload extension is already loaded. To reload it, use:\n",
      "  %reload_ext autoreload\n"
     ]
    },
    {
     "name": "stderr",
     "output_type": "stream",
     "text": [
      "100%|██████████| 17/17 [00:00<00:00, 1907.42it/s]\n"
     ]
    },
    {
     "data": {
      "application/vnd.jupyter.widget-view+json": {
       "model_id": "70ca2c3a7b364929aec53842dbda8587",
       "version_major": 2,
       "version_minor": 0
      },
      "text/plain": [
       "  0%|          | 0/2 [00:00<?, ?it/s]"
      ]
     },
     "metadata": {},
     "output_type": "display_data"
    }
   ],
   "source": [
    "%load_ext autoreload\n",
    "%autoreload 2\n",
    "import os\n",
    "import matplotlib.pyplot as plt\n",
    "import seaborn as sns\n",
    "from os.path import join\n",
    "from tqdm import tqdm\n",
    "import pandas as pd\n",
    "import imodelsx.process_results\n",
    "import sys\n",
    "import datasets\n",
    "import numpy as np\n",
    "from copy import deepcopy\n",
    "import clin.eval.eval\n",
    "import clin.eval.med_status\n",
    "import clin.llm\n",
    "import clin.parse\n",
    "from collections import defaultdict\n",
    "import openai\n",
    "openai.api_key_path = '/home/chansingh/.OPENAI_KEY'\n",
    "\n",
    "sys.path.append('../experiments/')\n",
    "results_dir = '../results/'\n",
    "\n",
    "r = imodelsx.process_results.get_results_df(results_dir, use_cached=False)\n",
    "r = r[r.dataset_name == 'medication_status']\n",
    "\n",
    "# get data for eval\n",
    "dset = datasets.load_dataset('mitclinicalml/clinical-ie', 'medication_status')\n",
    "df_val = pd.DataFrame.from_dict(dset['validation'])\n",
    "df = pd.DataFrame.from_dict(dset['test'])\n",
    "n = len(df)\n",
    "\n",
    "r = clin.eval.med_status.add_status_eval(r, df)"
   ]
  },
  {
   "cell_type": "code",
   "execution_count": null,
   "metadata": {},
   "outputs": [],
   "source": [
    "# print errs for med extraction\n",
    "# mets = clin.eval.calculate_metrics(row['dict_ov_pv_ev'], df, verbose=True)\n",
    "\n",
    "# print errors for status extraction\n",
    "# accs_cond, f1s_macro_cond = clin.eval.eval_medication_status([med_status_dicts_list[-1]], df, verbose=True)"
   ]
  },
  {
   "attachments": {},
   "cell_type": "markdown",
   "metadata": {},
   "source": [
    "## Interpret an example"
   ]
  },
  {
   "cell_type": "code",
   "execution_count": null,
   "metadata": {},
   "outputs": [],
   "source": [
    "# single row to investigate\n",
    "row = r[(r.n_shots == 5) * (r.checkpoint == 'text-davinci-003')].iloc[0]"
   ]
  },
  {
   "cell_type": "code",
   "execution_count": null,
   "metadata": {},
   "outputs": [],
   "source": [
    "i = 11\n",
    "ev = row['dict_evidence_ov_pv_ev'][i]\n",
    "med_status_dict = row['dict_sv'][i]\n",
    "gt = df.iloc[i]\n",
    "print(gt)\n",
    "print(med_status_dict)\n",
    "print('\\n' + gt['snippet'])\n",
    "\n",
    "for k in ev:\n",
    "    print(k)\n",
    "    print('\\t', ev[k])\n",
    "    print()"
   ]
  }
 ],
 "metadata": {
  "kernelspec": {
   "display_name": ".embgam",
   "language": "python",
   "name": "python3"
  },
  "language_info": {
   "codemirror_mode": {
    "name": "ipython",
    "version": 3
   },
   "file_extension": ".py",
   "mimetype": "text/x-python",
   "name": "python",
   "nbconvert_exporter": "python",
   "pygments_lexer": "ipython3",
   "version": "3.11.3"
  },
  "orig_nbformat": 4,
  "vscode": {
   "interpreter": {
    "hash": "559535f78d940c882783b39501b2581b5193373045707e5f8a51d046029cfd38"
   }
  }
 },
 "nbformat": 4,
 "nbformat_minor": 2
}
